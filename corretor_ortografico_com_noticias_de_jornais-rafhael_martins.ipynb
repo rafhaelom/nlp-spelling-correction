{
 "cells": [
  {
   "cell_type": "markdown",
   "id": "9c30c6b8",
   "metadata": {},
   "source": [
    "# Corretor Ortográfico utilizando texto de notícias de jornal da web"
   ]
  },
  {
   "cell_type": "markdown",
   "id": "c0f989c2",
   "metadata": {},
   "source": [
    "**Aluno:** Rafhael de Oliveira Martins"
   ]
  },
  {
   "cell_type": "markdown",
   "id": "dd59350f",
   "metadata": {},
   "source": [
    "De acordo com o [Wikipédia](https://pt.wikipedia.org/wiki/Corretor_ortogr%C3%A1fico), no software, um corretor ortográfico é um recurso de software que verifica erros ortográficos em um texto. Os recursos de verificação ortográfica geralmente são incorporados em software ou serviços, como processador de texto, cliente de e-mail, dicionário eletrônico ou mecanismo de pesquisa.\n",
    "\n",
    "**Um corretor ortográfico básico realiza os seguintes processos:**\n",
    "\n",
    "- Ele escaneia o texto e extrai as palavras nele contidas.\n",
    "- Em seguida, compara cada palavra com uma lista conhecida de palavras escritas corretamente (ou seja, um dicionário). Isso pode conter apenas uma lista de palavras ou também pode conter informações adicionais, como pontos de hifenização ou atributos lexicais e gramaticais.\n",
    "- Uma etapa adicional é um algoritmo dependente de linguagem para lidar com morfologia. Mesmo para um idioma levemente flexionado como o inglês, o corretor ortográfico precisará considerar diferentes formas da mesma palavra, como plurais, formas verbais, contrações e possessivos. Para muitas outras linguagens, como aquelas que apresentam aglutinação e declinação e conjugação mais complexas, essa parte do processo é mais complicada."
   ]
  },
  {
   "cell_type": "markdown",
   "id": "d32d992f",
   "metadata": {},
   "source": [
    "## Referências utilizadas\n",
    "- https://github.com/ViniViniAntunes/Corretor_Ortografico_NLP\n",
    "- https://towardsdatascience.com/build-a-spelling-corrector-program-in-python-46bc427cf57f\n",
    "- https://huggingface.co/oliverguhr/spelling-correction-english-base?text=ze+shop+is+cloed+due+to+covid+19"
   ]
  },
  {
   "cell_type": "code",
   "execution_count": 3,
   "id": "0739420a",
   "metadata": {},
   "outputs": [
    {
     "name": "stderr",
     "output_type": "stream",
     "text": [
      "[nltk_data] Downloading package stopwords to\n",
      "[nltk_data]     C:\\Users\\Usuario\\AppData\\Roaming\\nltk_data...\n",
      "[nltk_data]   Package stopwords is already up-to-date!\n"
     ]
    }
   ],
   "source": [
    "# Importa Bibliotecas.\n",
    "import time\n",
    "import re\n",
    "\n",
    "import pandas as pd\n",
    "import numpy as np\n",
    "\n",
    "import psycopg2\n",
    "import sqlalchemy  \n",
    "from sqlalchemy import create_engine\n",
    "\n",
    "from textblob import Word\n",
    "from textblob import TextBlob\n",
    "\n",
    "# from goose3 import Goose\n",
    "\n",
    "# import spacy\n",
    "# !spacy download pt_core_news_sm -q\n",
    "\n",
    "# # fazer a carga\n",
    "# nlp = spacy.load('pt_core_news_sm')\n",
    "\n",
    "import nltk\n",
    "nltk.download('stopwords')\n",
    "stopwords = nltk.corpus.stopwords.words('portuguese')\n",
    "\n",
    "# Parametros do Pandas, limitando a quantidade máxima e a largura das colunas.\n",
    "pd.set_option('max_colwidth', 5000)"
   ]
  },
  {
   "cell_type": "code",
   "execution_count": 2,
   "id": "8e4a01c2",
   "metadata": {},
   "outputs": [],
   "source": [
    "path = \"dados/\""
   ]
  },
  {
   "cell_type": "markdown",
   "id": "a9236db0",
   "metadata": {},
   "source": [
    "## 1 - Base de dados"
   ]
  },
  {
   "cell_type": "markdown",
   "id": "4ec922a6",
   "metadata": {},
   "source": [
    "### 1.1 - URLs de notícias do Jornal Correio Braziliense"
   ]
  },
  {
   "cell_type": "code",
   "execution_count": 81,
   "id": "f84d95d8",
   "metadata": {},
   "outputs": [
    {
     "name": "stdout",
     "output_type": "stream",
     "text": [
      "(8635, 6)\n"
     ]
    }
   ],
   "source": [
    "# Consultando dados anteriores no BD.\n",
    "engine = create_engine(f'postgresql://{user}:{password}@{host}/{dbname}')\n",
    "conn = engine.connect()\n",
    "\n",
    "df_base = pd.read_sql('''select * from tb_url_noticias;''', conn)\n",
    "print(df_base.shape)\n",
    "\n",
    "conn.close()"
   ]
  },
  {
   "cell_type": "code",
   "execution_count": 93,
   "id": "3000e945",
   "metadata": {},
   "outputs": [
    {
     "data": {
      "text/plain": [
       "ID_NOTICIA       0\n",
       "DATA_EXTRACAO    0\n",
       "DESC_JORNAL      0\n",
       "DESC_TEMA        0\n",
       "URL_NOTICIA      0\n",
       "FLAG_EXTRAIDA    0\n",
       "dtype: int64"
      ]
     },
     "execution_count": 93,
     "metadata": {},
     "output_type": "execute_result"
    }
   ],
   "source": [
    "# Verificando dados ausentes ou nulos.\n",
    "df_base.isnull().sum()"
   ]
  },
  {
   "cell_type": "code",
   "execution_count": 94,
   "id": "42295421",
   "metadata": {},
   "outputs": [
    {
     "data": {
      "text/html": [
       "<div>\n",
       "<style scoped>\n",
       "    .dataframe tbody tr th:only-of-type {\n",
       "        vertical-align: middle;\n",
       "    }\n",
       "\n",
       "    .dataframe tbody tr th {\n",
       "        vertical-align: top;\n",
       "    }\n",
       "\n",
       "    .dataframe thead th {\n",
       "        text-align: right;\n",
       "    }\n",
       "</style>\n",
       "<table border=\"1\" class=\"dataframe\">\n",
       "  <thead>\n",
       "    <tr style=\"text-align: right;\">\n",
       "      <th></th>\n",
       "      <th>ID_NOTICIA</th>\n",
       "      <th>DATA_EXTRACAO</th>\n",
       "      <th>DESC_JORNAL</th>\n",
       "      <th>DESC_TEMA</th>\n",
       "      <th>URL_NOTICIA</th>\n",
       "      <th>FLAG_EXTRAIDA</th>\n",
       "    </tr>\n",
       "  </thead>\n",
       "  <tbody>\n",
       "    <tr>\n",
       "      <th>0</th>\n",
       "      <td>3</td>\n",
       "      <td>2022-09-24</td>\n",
       "      <td>correiobraziliense</td>\n",
       "      <td>home</td>\n",
       "      <td>https://www.correiobraziliense.com.br/politica/2022/09/5039139-tse-identifica-rs-605-milhoes-em-doacoes-suspeitas.html</td>\n",
       "      <td>True</td>\n",
       "    </tr>\n",
       "    <tr>\n",
       "      <th>1</th>\n",
       "      <td>4</td>\n",
       "      <td>2022-09-24</td>\n",
       "      <td>correiobraziliense</td>\n",
       "      <td>home</td>\n",
       "      <td>https://www.correiobraziliense.com.br/cidades-df/2022/09/5039108-confira-a-agenda-dos-candidatos-ao-gdf-para-este-sabado.html</td>\n",
       "      <td>True</td>\n",
       "    </tr>\n",
       "    <tr>\n",
       "      <th>2</th>\n",
       "      <td>261</td>\n",
       "      <td>2022-10-05</td>\n",
       "      <td>correiobraziliense</td>\n",
       "      <td>opiniao</td>\n",
       "      <td>https://www.correiobraziliense.com.br//opiniao/2022/10/5041502-artigo-o-brasil-mudou.html</td>\n",
       "      <td>True</td>\n",
       "    </tr>\n",
       "    <tr>\n",
       "      <th>3</th>\n",
       "      <td>1639</td>\n",
       "      <td>2022-10-13</td>\n",
       "      <td>correiobraziliense</td>\n",
       "      <td>home</td>\n",
       "      <td>https://www.correiobraziliense.com.br/cbforum/testedopezinho.html</td>\n",
       "      <td>True</td>\n",
       "    </tr>\n",
       "    <tr>\n",
       "      <th>4</th>\n",
       "      <td>2156</td>\n",
       "      <td>2022-10-17</td>\n",
       "      <td>correiobraziliense</td>\n",
       "      <td>tecnologia</td>\n",
       "      <td>https://www.correiobraziliense.com.br/tecnologia/2022/10/5044373-ia-vence-os-obstaculos.html</td>\n",
       "      <td>True</td>\n",
       "    </tr>\n",
       "  </tbody>\n",
       "</table>\n",
       "</div>"
      ],
      "text/plain": [
       "   ID_NOTICIA DATA_EXTRACAO         DESC_JORNAL   DESC_TEMA  \\\n",
       "0           3    2022-09-24  correiobraziliense        home   \n",
       "1           4    2022-09-24  correiobraziliense        home   \n",
       "2         261    2022-10-05  correiobraziliense     opiniao   \n",
       "3        1639    2022-10-13  correiobraziliense        home   \n",
       "4        2156    2022-10-17  correiobraziliense  tecnologia   \n",
       "\n",
       "                                                                                                                     URL_NOTICIA  \\\n",
       "0         https://www.correiobraziliense.com.br/politica/2022/09/5039139-tse-identifica-rs-605-milhoes-em-doacoes-suspeitas.html   \n",
       "1  https://www.correiobraziliense.com.br/cidades-df/2022/09/5039108-confira-a-agenda-dos-candidatos-ao-gdf-para-este-sabado.html   \n",
       "2                                      https://www.correiobraziliense.com.br//opiniao/2022/10/5041502-artigo-o-brasil-mudou.html   \n",
       "3                                                              https://www.correiobraziliense.com.br/cbforum/testedopezinho.html   \n",
       "4                                   https://www.correiobraziliense.com.br/tecnologia/2022/10/5044373-ia-vence-os-obstaculos.html   \n",
       "\n",
       "   FLAG_EXTRAIDA  \n",
       "0           True  \n",
       "1           True  \n",
       "2           True  \n",
       "3           True  \n",
       "4           True  "
      ]
     },
     "execution_count": 94,
     "metadata": {},
     "output_type": "execute_result"
    }
   ],
   "source": [
    "# Primeiros dados.\n",
    "df_base.head()"
   ]
  },
  {
   "cell_type": "code",
   "execution_count": 96,
   "id": "0aa1be5f",
   "metadata": {},
   "outputs": [
    {
     "data": {
      "text/html": [
       "<div>\n",
       "<style scoped>\n",
       "    .dataframe tbody tr th:only-of-type {\n",
       "        vertical-align: middle;\n",
       "    }\n",
       "\n",
       "    .dataframe tbody tr th {\n",
       "        vertical-align: top;\n",
       "    }\n",
       "\n",
       "    .dataframe thead th {\n",
       "        text-align: right;\n",
       "    }\n",
       "</style>\n",
       "<table border=\"1\" class=\"dataframe\">\n",
       "  <thead>\n",
       "    <tr style=\"text-align: right;\">\n",
       "      <th></th>\n",
       "      <th>ID_NOTICIA</th>\n",
       "      <th>DATA_EXTRACAO</th>\n",
       "      <th>DESC_JORNAL</th>\n",
       "      <th>DESC_TEMA</th>\n",
       "      <th>URL_NOTICIA</th>\n",
       "      <th>FLAG_EXTRAIDA</th>\n",
       "    </tr>\n",
       "  </thead>\n",
       "  <tbody>\n",
       "    <tr>\n",
       "      <th>8630</th>\n",
       "      <td>8632</td>\n",
       "      <td>2022-12-08</td>\n",
       "      <td>correiobraziliense</td>\n",
       "      <td>esportes</td>\n",
       "      <td>https://www.correiobraziliense.com.br/esportes/2022/12/5057617-tecnico-da-croacia-faz-jogo-de-esconde-com-tite-sosa-e-o-misterio.html</td>\n",
       "      <td>True</td>\n",
       "    </tr>\n",
       "    <tr>\n",
       "      <th>8631</th>\n",
       "      <td>8633</td>\n",
       "      <td>2022-12-08</td>\n",
       "      <td>correiobraziliense</td>\n",
       "      <td>esportes</td>\n",
       "      <td>https://www.correiobraziliense.com.br/esportes/2022/12/5057613-modric-revela-que-o-plano-e-levar-a-croacia-alem-das-quartas-de-final.html</td>\n",
       "      <td>True</td>\n",
       "    </tr>\n",
       "    <tr>\n",
       "      <th>8632</th>\n",
       "      <td>8634</td>\n",
       "      <td>2022-12-08</td>\n",
       "      <td>correiobraziliense</td>\n",
       "      <td>economia</td>\n",
       "      <td>https://www.correiobraziliense.com.br/economia/2022/12/5057600-moveinfra-anuncia-rs-783-bilhoes-para-investimento-em-infraestrutura.html</td>\n",
       "      <td>True</td>\n",
       "    </tr>\n",
       "    <tr>\n",
       "      <th>8633</th>\n",
       "      <td>8635</td>\n",
       "      <td>2022-12-08</td>\n",
       "      <td>correiobraziliense</td>\n",
       "      <td>economia</td>\n",
       "      <td>https://www.correiobraziliense.com.br/economia/2022/12/5057624-apos-encontro-com-haddad-guedes-reforca-defesa-de-novo-marco-fiscal.html</td>\n",
       "      <td>True</td>\n",
       "    </tr>\n",
       "    <tr>\n",
       "      <th>8634</th>\n",
       "      <td>8636</td>\n",
       "      <td>2022-12-08</td>\n",
       "      <td>correiobraziliense</td>\n",
       "      <td>economia</td>\n",
       "      <td>https://www.correiobraziliense.com.br/economia/2022/12/5057740-atraso-na-coleta-do-censo-traz-riscos-a-qualidade-da-informacao-diz-sindicato.html</td>\n",
       "      <td>True</td>\n",
       "    </tr>\n",
       "  </tbody>\n",
       "</table>\n",
       "</div>"
      ],
      "text/plain": [
       "      ID_NOTICIA DATA_EXTRACAO         DESC_JORNAL DESC_TEMA  \\\n",
       "8630        8632    2022-12-08  correiobraziliense  esportes   \n",
       "8631        8633    2022-12-08  correiobraziliense  esportes   \n",
       "8632        8634    2022-12-08  correiobraziliense  economia   \n",
       "8633        8635    2022-12-08  correiobraziliense  economia   \n",
       "8634        8636    2022-12-08  correiobraziliense  economia   \n",
       "\n",
       "                                                                                                                                            URL_NOTICIA  \\\n",
       "8630              https://www.correiobraziliense.com.br/esportes/2022/12/5057617-tecnico-da-croacia-faz-jogo-de-esconde-com-tite-sosa-e-o-misterio.html   \n",
       "8631          https://www.correiobraziliense.com.br/esportes/2022/12/5057613-modric-revela-que-o-plano-e-levar-a-croacia-alem-das-quartas-de-final.html   \n",
       "8632           https://www.correiobraziliense.com.br/economia/2022/12/5057600-moveinfra-anuncia-rs-783-bilhoes-para-investimento-em-infraestrutura.html   \n",
       "8633            https://www.correiobraziliense.com.br/economia/2022/12/5057624-apos-encontro-com-haddad-guedes-reforca-defesa-de-novo-marco-fiscal.html   \n",
       "8634  https://www.correiobraziliense.com.br/economia/2022/12/5057740-atraso-na-coleta-do-censo-traz-riscos-a-qualidade-da-informacao-diz-sindicato.html   \n",
       "\n",
       "      FLAG_EXTRAIDA  \n",
       "8630           True  \n",
       "8631           True  \n",
       "8632           True  \n",
       "8633           True  \n",
       "8634           True  "
      ]
     },
     "execution_count": 96,
     "metadata": {},
     "output_type": "execute_result"
    }
   ],
   "source": [
    "# Últimos dados.\n",
    "df_base.tail()"
   ]
  },
  {
   "cell_type": "code",
   "execution_count": 97,
   "id": "7db694d4",
   "metadata": {},
   "outputs": [
    {
     "data": {
      "text/plain": [
       "2022-10-05    304\n",
       "2022-10-13    296\n",
       "2022-10-10    295\n",
       "2022-11-29    197\n",
       "2022-10-07    195\n",
       "             ... \n",
       "2022-12-03     75\n",
       "2022-10-23     74\n",
       "2022-10-16     66\n",
       "2022-10-29     64\n",
       "2022-09-24     45\n",
       "Name: DATA_EXTRACAO, Length: 64, dtype: int64"
      ]
     },
     "execution_count": 97,
     "metadata": {},
     "output_type": "execute_result"
    }
   ],
   "source": [
    "# Notícias por data.\n",
    "df_base.DATA_EXTRACAO.value_counts()"
   ]
  },
  {
   "cell_type": "code",
   "execution_count": 98,
   "id": "525a2d3a",
   "metadata": {},
   "outputs": [
    {
     "data": {
      "text/plain": [
       "correiobraziliense    8635\n",
       "Name: DESC_JORNAL, dtype: int64"
      ]
     },
     "execution_count": 98,
     "metadata": {},
     "output_type": "execute_result"
    }
   ],
   "source": [
    "# notícias por jornal.\n",
    "df_base.DESC_JORNAL.value_counts()"
   ]
  },
  {
   "cell_type": "code",
   "execution_count": 99,
   "id": "e69b180c",
   "metadata": {},
   "outputs": [
    {
     "data": {
      "text/plain": [
       "home                  1668\n",
       "cidades-df            1090\n",
       "diversao-e-arte       1049\n",
       "brasil                 885\n",
       "esportes               829\n",
       "politica               758\n",
       "mundo                  634\n",
       "economia               555\n",
       "ciencia-e-saude        300\n",
       "concursos              218\n",
       "opiniao                209\n",
       "euestudante            206\n",
       "revista-do-correio      67\n",
       "holofote                64\n",
       "tecnologia              61\n",
       "turismo                 40\n",
       "comunidadeei             2\n",
       "Name: DESC_TEMA, dtype: int64"
      ]
     },
     "execution_count": 99,
     "metadata": {},
     "output_type": "execute_result"
    }
   ],
   "source": [
    "# notícias por tema do jornal.\n",
    "df_base.DESC_TEMA.value_counts()"
   ]
  },
  {
   "cell_type": "markdown",
   "id": "504c1c61",
   "metadata": {},
   "source": [
    "### 1.2 - Textos de notícias do Jornal Correio Braziliense"
   ]
  },
  {
   "cell_type": "code",
   "execution_count": 13,
   "id": "0ee746cf",
   "metadata": {},
   "outputs": [
    {
     "name": "stdout",
     "output_type": "stream",
     "text": [
      "(8635, 6)\n"
     ]
    }
   ],
   "source": [
    "# Consultando dados anteriores no BD.\n",
    "engine = create_engine(f'postgresql://{user}:{password}@{host}/{dbname}')\n",
    "conn = engine.connect()\n",
    "\n",
    "df = pd.read_sql('''select * from tb_texto_noticias;''', conn)\n",
    "print(df.shape)\n",
    "\n",
    "conn.close()"
   ]
  },
  {
   "cell_type": "code",
   "execution_count": 14,
   "id": "7aaf664c",
   "metadata": {},
   "outputs": [
    {
     "data": {
      "text/html": [
       "<div>\n",
       "<style scoped>\n",
       "    .dataframe tbody tr th:only-of-type {\n",
       "        vertical-align: middle;\n",
       "    }\n",
       "\n",
       "    .dataframe tbody tr th {\n",
       "        vertical-align: top;\n",
       "    }\n",
       "\n",
       "    .dataframe thead th {\n",
       "        text-align: right;\n",
       "    }\n",
       "</style>\n",
       "<table border=\"1\" class=\"dataframe\">\n",
       "  <thead>\n",
       "    <tr style=\"text-align: right;\">\n",
       "      <th></th>\n",
       "      <th>ID_NOTICIA</th>\n",
       "      <th>URL</th>\n",
       "      <th>DATA_PUBLICACAO</th>\n",
       "      <th>AUTOR</th>\n",
       "      <th>TITULO</th>\n",
       "      <th>TEXTO</th>\n",
       "    </tr>\n",
       "  </thead>\n",
       "  <tbody>\n",
       "    <tr>\n",
       "      <th>0</th>\n",
       "      <td>1</td>\n",
       "      <td>https://www.correiobraziliense.com.br/politica/2022/09/5039152-bolsonaro-e-lula-jogam-as-cartas-para-reta-final-da-campanha-eleitoral.html</td>\n",
       "      <td>2022-09-24-0303:55:00-10800</td>\n",
       "      <td>{\"'Ingrid Soares, Victor Correia'\"}</td>\n",
       "      <td>Bolsonaro e Lula jogam as cartas para reta final da campanha eleitoral</td>\n",
       "      <td>A oito dias das eleições, os dois principais candidatos à Presidência, Jair Bolsonaro (PL) e Luiz Inácio Lula da Silva (PT), jogam os últimos lances para a semana final antes do primeiro turno de votação, em 2 de outubro. Mas, se na campanha petista a recomendação é de calçar as \"sandálias da humildade\" e evitar a euforia da cada vez maior possibilidade de vitória no primeiro turno, na do presidente acendeu a luz de emergência.\\n\\nO comitê de campanha tenta uma correção de rumo por causa das seguidas diminuições no percentual de votos apontado pelas pesquisa de opinião. A mais recente, do Datafolha, divulgada na última quinta-feira, mostrou que Bolsonaro está parado com 33% — Lula foi a 47%.\\n\\nFontes da campanha do presidente concluíram que, ao ser impedida a utilização, pelo Tribunal Superior Eleitoral (TSE), das imagens do 7 de Setembro e do discurso na Assembleia Geral das Nações Unidas, frustraram-se os ganhos políticos que eram esperados. Assim, o investimento, agora, passa a ser nas viagens aos maiores colégios eleitorais, como São Paulo, Minas Gerais e Rio de Janeiro, e ao Nordeste, na tentativa de aumentar o desgaste da imagem de Lula.\\n\\nBolsonaro também continuará batendo firme na corrupção durante os governos do PT e enfatizará que o ex-presidente esteve preso por causa disso. O primeiro passo dessa estratégia será dado, hoje, no debate entre os postulantes ao Palácio do Planalto, no SBT, do qual o presidente participará, mas o petista, não.\\n\\nAinda assim, atacar Lula e o PT com todas as forças pode não dar tração suficiente a Bolsonaro. Integrantes da campanha lamentam que ele não tem conseguido atrair novos eleitores por pregar apenas para sua base fiel. Além disso, já detectaram que voltar a atacar as urnas eletrônicas e ressuscitar a necessidade do voto impresso — como defendem alguns dos seus principais auxiliares — nada agrega ao presidente numericamente. Ao contrário: membros menos radicais do QG bolsonarista acreditam que isso só afasta os indecisos, além de não tirar um único voto dos adversários.\\n\\nPara reforçar o apoio a aliados locais — e fazer com que alguns dos mais bem colocados consigam lhe devolver em votos esse atrelamento —, Bolsonaro tem feito, diariamente, lives pelas redes sociais. Mas até mesmo esta estratégia apresenta problemas, pois integrantes do governo avaliam que colar à imagem do presidente pode trazer prejuízos nesta reta final.\\n\\nPara piorar, emergem sinais de dentro do bunker bolsonarista de que a derrota está muito próxima. Como o que passou o coordenador da campanha e ministro da Casa Civil, Ciro Nogueira, que na última quinta-feira anunciou que entraria em férias para colaborar na eleição da ex-mulher, Iracema Portela, a vice-governadora do Piauí. A iniciativa repercutiu pessimamente entre os apoiadores do presidente e dentro do governo, e ele voltou atrás horas depois.\\n\\nJá a campanha de Lula amarra as pontas soltas para a semana decisiva. Mirando nos votos úteis, nos indecisos e tentando reduzir a abstenção, na segunda-feira ocorre o \"último grande ato\" do petista em São Paulo, com direito a tapete vermelho para artistas. O comício terá participações presenciais e à distância, com nomes como Anitta, Caetano Veloso — que anunciou voto no petista, abandonando o presidenciável Ciro Gomes (PDT) —, Ludmilla e Chico Buarque.\\n\\nO objetivo do evento é dar uma demonstração de força e de apoio entre diferentes segmentos — a chamada \"frente ampla\" que Lula vem tentando costurar desde a pré-campanha. Na última segunda, ele conseguiu reunir em uma mesma mesa ex-presidenciáveis de espectros antagônicos, como Luciana Genro (PSol), Marina Silva (Rede) e o economista Henrique Meirelles (União). O petista ainda somou ao seu leque de apoios a nota do ex-presidente Fernando Henrique Cardoso recomendando o voto em candidatos comprometidos com a defesa do Estado Democrático de Direito, com as igualdades e com a defesa do meio ambiente — tudo que Bolsonaro tem se mostrado contrário.\\n\\nEntre os estrategistas da chapa, o maior alvo no momento é a vitória no primeiro turno. As pesquisas divulgadas nesta semana, como a Datafolha de quinta, mostraram um crescimento do petista e uma chance concreta para liquidar a disputa. Segundo o instituto, o ex-presidente subiu de 45% para 47% das intenções de voto, atingindo ainda 50% dos votos válidos. \"Devemos estimular a campanha do Voto por Democracia, Voto Pelo Brasil, para a vitória no primeiro turno!\", disse ao Correio o ex-governador do Piauí e coordenador da campanha de Lula, Wellington Dias, sobre a reta final.\\n\\nEm paralelo ao \"showmício\" da segunda-feira, o PT mobilizou sua militância, em reunião na última quinta-feira, para realizar \"mobilização máxima nas ruas\" hoje e amanhã. A orientação da sigla é a realização de \"caminhadas, carreatas, bandeiraços e adesivações\", com o objetivo de dar visibilidade a Lula e estimular o \"comparecimento do eleitorado\" nas eleições. Isso porque, de acordo com uma fonte próxima ao setor jurí...</td>\n",
       "    </tr>\n",
       "    <tr>\n",
       "      <th>1</th>\n",
       "      <td>2</td>\n",
       "      <td>https://www.correiobraziliense.com.br/politica/2022/09/5039144-disputa-pelo-voto-entre-lula-e-bolsonaro-divide-igrejas-pentecostais.html</td>\n",
       "      <td>2022-09-24-0303:55:00-10800</td>\n",
       "      <td>{\"'Correio Braziliense'\"}</td>\n",
       "      <td>Disputa pelo voto entre Lula e Bolsonaro divide igrejas pentecostais</td>\n",
       "      <td>A disputa pelo voto cristão por Jair Bolsonaro (PL), candidato à reeleição, e por Luiz Inácio Lula da Silva (PT) está rachando as igrejas evangélicas. Enquanto as cúpulas das denominações abraçaram o bolsonarismo e tentam influenciar o voto dos fiéis, evangélicos jovens e de baixa renda rompem com grandes congregações e declaram apoio ao petista. Jovens, mulheres e eleitores de periferia, onde Lula se sai melhor, lideram o movimento. Há, ainda, casos de fiéis que, cansados do debate político, se afastaram dos cultos.\\n\\nNa avaliação do diretor do Observatório Evangélico, Vinicius do Valle, as igrejas evangélicas passam por um \"efeito bumerangue\" nesta campanha. Ele confirmou que o apoio a Bolsonaro por pastores e a politização dos cultos têm afastado o público. \"Muitos deixaram de ir aos cultos, e tivemos uma reação dos fiéis demonstrando desconforto com a discussão eleitoral nos templos. O evangélico quer ver seus valores na política, mas não concorda com a campanha eleitoral nas igrejas\", observou.\\n\\nAo mesmo tempo que a diferença nas pesquisas eleitorais entre os dois candidatos mais bem colocados na disputa presidencial cai no segmento, coordenadores das campanhas intensificam as agendas com líderes e eleitores evangélicos. Nas últimas semanas, Lula se encontrou com religiosos, na Região Metropolitana do Rio. Bolsonaro participou de culto do pastor Silas Malafaia, um de seus apoiadores, na capital fluminense.\\n\\nDo lado dos fiéis, há reclamações sobre o uso político da religião. Eles reclamam do desvio da finalidade das igrejas e de tentativas de imposição de voto por pastores que apoiam Bolsonaro.\\n\\nUma das insatisfeitas é a ativista Débora Amorim, de 34 anos. Desconfortável com a politização da igreja que frequentava, a Metodista, rompeu com a congregação. Ela foi criada em templos evangélicos e, agora, integra o coletivo Novas Narrativas Evangélicas.\\n\\nO grupo tem fiéis de diferentes denominações protestantes. Foi criado para defender a liberdade do voto. Uma das suas estratégias é a produção e divulgação de conteúdo nas redes sociais. Nas últimas semanas, lançou as palavras de ordem #LivrePraVotar e \"Deus não tem candidato\".\\n\\nPara Débora, como a maioria dos evangélicos é formada por mulheres pretas e de periferia, é esse o público simpático à candidatura de Lula. Segundo ela, a tentativa de imposição de valores morais por parte dos pastores midiáticos e de consolidação de uma única narrativa como \"o caminho para a salvação\" tem afastado parte dos fiéis.\\n\\nUm dos idealizadores do movimento, o advogado Daniel Wanderley destacou que existem inúmeros \"crentes\" dispostos a construir e expressar \"novas narrativas evangélicas\". \"São pessoas que estavam sofrendo represálias e diversos desafios dentro de suas comunidades à medida que o bolsonarismo foi se apropriando e instrumentalizando a fé evangélica. O movimento evangélico é muito mais plural\", explica.\\n\\nDani Marinho, 24, evangélica da Igreja Batista do Caminho, foi criada \"dentro da Universal\" — liderada por Edir Macedo, apoiador de Bolsonaro. \"Sempre houve a influência da política na igreja, mas hoje está mais escancarada. Há uma tentativa de imposição de um candidato\", afirma.\\n\\nOs evangélicos representam 31% da população (cerca de 65 milhões de pessoas), segundo pesquisa Datafolha de 2020. De acordo com o Censo Brasileiro, do Instituto Brasileiro de Geografia e Estatísticas (IBGE), 60% (25,3 milhões) dos evangélicos eram pentecostais. Pesquisas mostram que a diferença entre o Lula e Bolsonaro tem recuado, embora permaneça grande. A mais recente rodada do Ipec, de 19 de setembro, mostrou o presidente em estabilidade, com 48% das intenções de voto entre evangélicos. Lula cresceu seis pontos (32%).</td>\n",
       "    </tr>\n",
       "    <tr>\n",
       "      <th>2</th>\n",
       "      <td>3</td>\n",
       "      <td>https://www.correiobraziliense.com.br/politica/2022/09/5039139-tse-identifica-rs-605-milhoes-em-doacoes-suspeitas.html</td>\n",
       "      <td>2022-09-24-0303:55:00-10800</td>\n",
       "      <td>{\"'Correio Braziliense'\"}</td>\n",
       "      <td>TSE identifica R$ 605 milhões em doações suspeitas</td>\n",
       "      <td>Foram identificados pelo Tribunal Superior Eleitoral (TSE) R$ 605 milhões em transferências suspeitas em pouco mais de 59 mil casos potencialmente irregulares. O valor foi detectado em análise da prestação de contas parcial de campanha, entregue pelos candidatos entre os dias 9 e 13 de setembro.\\n\\nAo todo, foram 59.072 casos de doações ou gastos potencialmente irregulares informados pela Justiça Eleitoral. De acordo com o TSE, os casos agora serão apurados \"com o levantamento de provas materiais e de informações mais aprofundadas\".\\n\\nA análise é realizada por meio de cruzamento de dados de diferentes órgãos de controle, como o Tribunal de Contas da União (TCU), a Receita Federal, o Conselho de Controle de Atividades Econômicas (Coaf) e a Polícia Federal (PF). O cruzamento permite que o TSE peça a apuração efetiva de cada caso, com a coleta de provas materiais, por exemplo. Os casos são enviados ao MP Eleitoral, que pode aprofundar as investigações e, ao fim, apresentar uma denúncia à Justiça Eleitoral, podendo virar processos caso sejam encontradas evidências.\\n\\nNo caso dos gastos, chama a atenção dos órgãos de controle quando, por exemplo, há fornecedores com número muito pequeno de funcionários, ou com um dos sócios como beneficiário de programas de transferência de renda, como o Auxílio Brasil. Levantam suspeita também, os casos de empresas criadas neste ano e tendo como sócio algum filiado a partido ou parente de candidato.\\n\\nNo lado das receitas, o cruzamento dos dados possibilita analisar se o valor doado é compatível com o patrimônio e a situação econômica do doador — se ele está empregado, se é beneficiário de programas sociais e até se ainda está vivo. Em casos negativos, são levantadas suspeitas sobre essas transferências. Foram identificados, por exemplo, seis doadores falecidos e 190 desempregados. \"Ainda despertou o interesse dos analistas 10.296 situações em que um mesmo candidato recebeu numerosas contribuições feitas por diferentes empregados de uma mesma empresa\", informou o TSE.\\n\\nUma nova rodada de cruzamento de dados ocorrerá após a prestação de contas final do primeiro turno, que deve ser entregue à Corte Eleitoral por todos os candidatos até 2 de novembro.</td>\n",
       "    </tr>\n",
       "    <tr>\n",
       "      <th>3</th>\n",
       "      <td>4</td>\n",
       "      <td>https://www.correiobraziliense.com.br/cidades-df/2022/09/5039108-confira-a-agenda-dos-candidatos-ao-gdf-para-este-sabado.html</td>\n",
       "      <td>2022-09-24-0306:00:00-10800</td>\n",
       "      <td>{\"'Correio Braziliense'\"}</td>\n",
       "      <td>Confira a agenda dos candidatos ao GDF para este sábado</td>\n",
       "      <td>Este sábado (24/9) promete ser movimentado para os candidatos ao Governo do Distrito Federal (GDF). Diversas regiões, como Águas Claras, Ceilândia, Samambaia, Vila Telebrasília, Vicente Pires e Sobradinho receberão a visita dos posturantes ao Palácio do Buriti. A menos de 10 dias das eleições, os candidatos buscam conquistar mais eleitores.\\n\\n9h30 — Visita à feira permanente do Setor O\\n\\n10h30 — Visita à feira permanente do P Norte\\n\\n11h — Adesivaço em Águas Claras\\n\\n12h — Encontro com a comunidade do Núcleo Rural Monjolo, em Planaltina\\n\\n13h30 — Encontro com colaboradores de empresas do ramo de construção\\n\\n16h — Encontro político com candidatos a deputado federal e distrital, em Ceilândia\\n\\n16h30 — Encontro político com candidatos da coligação, em Águas Claras\\n\\n8h — Visita à feira do produtor de Vicente Pires\\n\\n10h — Reunião com policiais, na Colônia Agrícola Águas Claras\\n\\n12h — Almoço com pastores, na Asa Norte (reservado)\\n\\n16h — Evento com candidata a deputada distrital, em Samambaia Sul\\n\\n17h — Reunião com apoiadores, em Samambaia Sul\\n\\n20h30 — Jantar com apoiadores, no Lago Norte\\n\\n7h — Caminhada na feira do produtor de Vicente Pires\\n\\n9h30 — Caminhada pelo comércio de Vicente Pires\\n\\n12h30 — Evento do Senproep, no Parque da Cidade\\n\\n15h30 — Caminhada pelo comércio de Ceilândia Norte\\n\\n17h45 — Visita a evento de arte, em Ceilândia\\n\\n20h30 — Visita a evento de rodoviários, em Ceilândia\\n\\n22h — Festa do professor do Sinpro-DF, na Vila Planalto\\n\\n23h30 — Evento no Conic\\n\\n8h — Visita a projeto social do Instituto Evolução, na Vila Telebrasília\\n\\n9h30 — Café da manhã no Colégio CIMAN, na Octogonal\\n\\n11h — Evento no Clube do Congresso, no Lago Norte\\n\\n12h45 — Almoço no Guará Park\\n\\n16h — Encontro com apoiadores em Planaltina (DF)\\n\\n18h30 — Encontro com apoiadores em Sobradinho\\n\\n19h — Encontro com apoiadores de Sobradinho 2\\n\\n22h — Visita ao Baile da Saudade, em Brazlândia\\n\\n10h — Roda de conversa sobre prevenção do suicídio, em Sobradinho\\n\\n10h30 — Caminhada com candidato a deputado distrital, em Sobradinho\\n\\n12h — Almoço com candidato a deputado federal, no Noroeste\\n\\n13h — Ato em Planaltina\\n\\n13h30 — Ato em Ceilândia\\n\\n17h — Caminhada na Asa Norte\\n\\n18h30 — Participação em comício de candidato a deputado distrital\\n\\n10h — Caminhada na feira permanente e na feira dos importados de Taguatinga\\n\\n12h — Almoço em restaurante de Taguatinga\\n\\n13h — Reunião com apoiadores e eleitores, no Park Way\\n\\n19h — Live em seu canal do YouTube\\n\\nOs candidatos Leila Barros (PDT) e Coronel Moreno (PTB) não enviaram agenda até o fechamento desta edição</td>\n",
       "    </tr>\n",
       "    <tr>\n",
       "      <th>4</th>\n",
       "      <td>5</td>\n",
       "      <td>https://www.correiobraziliense.com.br/cidades-df/2022/09/5039008-onde-votar-tre-df-anuncia-610-locais-de-votacao-e-67-mil-secoes.html</td>\n",
       "      <td>2022-09-23-0317:46:00-10800</td>\n",
       "      <td>{\"'Pedro Marra'\"}</td>\n",
       "      <td>Onde votar? TRE-DF anuncia 610 locais de votação e 6,7 mil seções</td>\n",
       "      <td>O Tribunal Regional Eleitoral do Distrito Federal (TRE-DF) divulgou a lista dos 610 locais de votação e aproximadamente 6,7 mil seções eleitorais para as Eleições de 2022 na capital do país. O Tribunal Superior Eleitoral (TSE) disponibilizou consulta aos locais após as solicitações de transferência temporária.\\n\\nA consulta pessoal pode ser feita no site da Justiça Eleitoral. O dado também está atualizado no aplicativo e-Título, que informa tanto a zona, seção, local de votação de domicílio eleitoral quanto a zona, seção e local de votação para onde o eleitor pediu transferência temporária. O TRE-DF também disponibilizou a lista com todos os locais de votação. Clique aqui.\\n\\nA estimativa é que a população do Distrito Federal saiba o resultado do primeiro turno em, no máximo, duas horas, segundo o presidente do Tribunal Regional Eleitoral do Distrito Federal (TRE-DF), desembargador Roberval Belinati.\\n\\nO presidente do TRE-DF explicou que, após o fim das votações, os mesários vão encaminhar os votos das eleições aos computadores de totalização do Tribunal Superior Eleitoral (TSE). “Acredito que o resultado vai ser muito rápido. Pode ser que haja um pequeno atraso em razão do congestionamento, mas acho que não vai demorar mais do que duas horas para a conclusão da apuração dos votos aqui no DF”, comentou.</td>\n",
       "    </tr>\n",
       "  </tbody>\n",
       "</table>\n",
       "</div>"
      ],
      "text/plain": [
       "   ID_NOTICIA  \\\n",
       "0           1   \n",
       "1           2   \n",
       "2           3   \n",
       "3           4   \n",
       "4           5   \n",
       "\n",
       "                                                                                                                                          URL  \\\n",
       "0  https://www.correiobraziliense.com.br/politica/2022/09/5039152-bolsonaro-e-lula-jogam-as-cartas-para-reta-final-da-campanha-eleitoral.html   \n",
       "1    https://www.correiobraziliense.com.br/politica/2022/09/5039144-disputa-pelo-voto-entre-lula-e-bolsonaro-divide-igrejas-pentecostais.html   \n",
       "2                      https://www.correiobraziliense.com.br/politica/2022/09/5039139-tse-identifica-rs-605-milhoes-em-doacoes-suspeitas.html   \n",
       "3               https://www.correiobraziliense.com.br/cidades-df/2022/09/5039108-confira-a-agenda-dos-candidatos-ao-gdf-para-este-sabado.html   \n",
       "4       https://www.correiobraziliense.com.br/cidades-df/2022/09/5039008-onde-votar-tre-df-anuncia-610-locais-de-votacao-e-67-mil-secoes.html   \n",
       "\n",
       "               DATA_PUBLICACAO                                AUTOR  \\\n",
       "0  2022-09-24-0303:55:00-10800  {\"'Ingrid Soares, Victor Correia'\"}   \n",
       "1  2022-09-24-0303:55:00-10800            {\"'Correio Braziliense'\"}   \n",
       "2  2022-09-24-0303:55:00-10800            {\"'Correio Braziliense'\"}   \n",
       "3  2022-09-24-0306:00:00-10800            {\"'Correio Braziliense'\"}   \n",
       "4  2022-09-23-0317:46:00-10800                    {\"'Pedro Marra'\"}   \n",
       "\n",
       "                                                                   TITULO  \\\n",
       "0  Bolsonaro e Lula jogam as cartas para reta final da campanha eleitoral   \n",
       "1    Disputa pelo voto entre Lula e Bolsonaro divide igrejas pentecostais   \n",
       "2                      TSE identifica R$ 605 milhões em doações suspeitas   \n",
       "3                 Confira a agenda dos candidatos ao GDF para este sábado   \n",
       "4       Onde votar? TRE-DF anuncia 610 locais de votação e 6,7 mil seções   \n",
       "\n",
       "                                                                                                                                                                                                                                                                                                                                                                                                                                                                                                                                                                                                                                                                                                                                                                                                                                                                                                                                                                                                                                                                                                                                                                                                                                                                                                                                                                                                                                                                                                                                                                                                                                                                                                                                                                                                                                                                                                                                                                                                                                                                                                                                                                                                                                                                                                                                                                                                                                                                                                                                                                                                                                                                                                                                                                                                                                                                                                                                                                                                                                                                                                                                                                                                                                                                                                                                                                                                                                                                                                                                                                                                                                                                                                                                                                                                                                                                                                                                                                                                                                                                                                                                                                                                                                                                                                                                                                                                                                                                                                                                                                                                                                                                                                                                                                                                                                                                                                                                                                                                                                                                                                                                                                                                     TEXTO  \n",
       "0  A oito dias das eleições, os dois principais candidatos à Presidência, Jair Bolsonaro (PL) e Luiz Inácio Lula da Silva (PT), jogam os últimos lances para a semana final antes do primeiro turno de votação, em 2 de outubro. Mas, se na campanha petista a recomendação é de calçar as \"sandálias da humildade\" e evitar a euforia da cada vez maior possibilidade de vitória no primeiro turno, na do presidente acendeu a luz de emergência.\\n\\nO comitê de campanha tenta uma correção de rumo por causa das seguidas diminuições no percentual de votos apontado pelas pesquisa de opinião. A mais recente, do Datafolha, divulgada na última quinta-feira, mostrou que Bolsonaro está parado com 33% — Lula foi a 47%.\\n\\nFontes da campanha do presidente concluíram que, ao ser impedida a utilização, pelo Tribunal Superior Eleitoral (TSE), das imagens do 7 de Setembro e do discurso na Assembleia Geral das Nações Unidas, frustraram-se os ganhos políticos que eram esperados. Assim, o investimento, agora, passa a ser nas viagens aos maiores colégios eleitorais, como São Paulo, Minas Gerais e Rio de Janeiro, e ao Nordeste, na tentativa de aumentar o desgaste da imagem de Lula.\\n\\nBolsonaro também continuará batendo firme na corrupção durante os governos do PT e enfatizará que o ex-presidente esteve preso por causa disso. O primeiro passo dessa estratégia será dado, hoje, no debate entre os postulantes ao Palácio do Planalto, no SBT, do qual o presidente participará, mas o petista, não.\\n\\nAinda assim, atacar Lula e o PT com todas as forças pode não dar tração suficiente a Bolsonaro. Integrantes da campanha lamentam que ele não tem conseguido atrair novos eleitores por pregar apenas para sua base fiel. Além disso, já detectaram que voltar a atacar as urnas eletrônicas e ressuscitar a necessidade do voto impresso — como defendem alguns dos seus principais auxiliares — nada agrega ao presidente numericamente. Ao contrário: membros menos radicais do QG bolsonarista acreditam que isso só afasta os indecisos, além de não tirar um único voto dos adversários.\\n\\nPara reforçar o apoio a aliados locais — e fazer com que alguns dos mais bem colocados consigam lhe devolver em votos esse atrelamento —, Bolsonaro tem feito, diariamente, lives pelas redes sociais. Mas até mesmo esta estratégia apresenta problemas, pois integrantes do governo avaliam que colar à imagem do presidente pode trazer prejuízos nesta reta final.\\n\\nPara piorar, emergem sinais de dentro do bunker bolsonarista de que a derrota está muito próxima. Como o que passou o coordenador da campanha e ministro da Casa Civil, Ciro Nogueira, que na última quinta-feira anunciou que entraria em férias para colaborar na eleição da ex-mulher, Iracema Portela, a vice-governadora do Piauí. A iniciativa repercutiu pessimamente entre os apoiadores do presidente e dentro do governo, e ele voltou atrás horas depois.\\n\\nJá a campanha de Lula amarra as pontas soltas para a semana decisiva. Mirando nos votos úteis, nos indecisos e tentando reduzir a abstenção, na segunda-feira ocorre o \"último grande ato\" do petista em São Paulo, com direito a tapete vermelho para artistas. O comício terá participações presenciais e à distância, com nomes como Anitta, Caetano Veloso — que anunciou voto no petista, abandonando o presidenciável Ciro Gomes (PDT) —, Ludmilla e Chico Buarque.\\n\\nO objetivo do evento é dar uma demonstração de força e de apoio entre diferentes segmentos — a chamada \"frente ampla\" que Lula vem tentando costurar desde a pré-campanha. Na última segunda, ele conseguiu reunir em uma mesma mesa ex-presidenciáveis de espectros antagônicos, como Luciana Genro (PSol), Marina Silva (Rede) e o economista Henrique Meirelles (União). O petista ainda somou ao seu leque de apoios a nota do ex-presidente Fernando Henrique Cardoso recomendando o voto em candidatos comprometidos com a defesa do Estado Democrático de Direito, com as igualdades e com a defesa do meio ambiente — tudo que Bolsonaro tem se mostrado contrário.\\n\\nEntre os estrategistas da chapa, o maior alvo no momento é a vitória no primeiro turno. As pesquisas divulgadas nesta semana, como a Datafolha de quinta, mostraram um crescimento do petista e uma chance concreta para liquidar a disputa. Segundo o instituto, o ex-presidente subiu de 45% para 47% das intenções de voto, atingindo ainda 50% dos votos válidos. \"Devemos estimular a campanha do Voto por Democracia, Voto Pelo Brasil, para a vitória no primeiro turno!\", disse ao Correio o ex-governador do Piauí e coordenador da campanha de Lula, Wellington Dias, sobre a reta final.\\n\\nEm paralelo ao \"showmício\" da segunda-feira, o PT mobilizou sua militância, em reunião na última quinta-feira, para realizar \"mobilização máxima nas ruas\" hoje e amanhã. A orientação da sigla é a realização de \"caminhadas, carreatas, bandeiraços e adesivações\", com o objetivo de dar visibilidade a Lula e estimular o \"comparecimento do eleitorado\" nas eleições. Isso porque, de acordo com uma fonte próxima ao setor jurí...  \n",
       "1                                                                                                                                                                                                                                                                                                                                                                                                                                                                                                                                                                                                                                                                                                                                                                                                                                                                                                                                                                                                                                                                                                                                                                                                                                                                                                                        A disputa pelo voto cristão por Jair Bolsonaro (PL), candidato à reeleição, e por Luiz Inácio Lula da Silva (PT) está rachando as igrejas evangélicas. Enquanto as cúpulas das denominações abraçaram o bolsonarismo e tentam influenciar o voto dos fiéis, evangélicos jovens e de baixa renda rompem com grandes congregações e declaram apoio ao petista. Jovens, mulheres e eleitores de periferia, onde Lula se sai melhor, lideram o movimento. Há, ainda, casos de fiéis que, cansados do debate político, se afastaram dos cultos.\\n\\nNa avaliação do diretor do Observatório Evangélico, Vinicius do Valle, as igrejas evangélicas passam por um \"efeito bumerangue\" nesta campanha. Ele confirmou que o apoio a Bolsonaro por pastores e a politização dos cultos têm afastado o público. \"Muitos deixaram de ir aos cultos, e tivemos uma reação dos fiéis demonstrando desconforto com a discussão eleitoral nos templos. O evangélico quer ver seus valores na política, mas não concorda com a campanha eleitoral nas igrejas\", observou.\\n\\nAo mesmo tempo que a diferença nas pesquisas eleitorais entre os dois candidatos mais bem colocados na disputa presidencial cai no segmento, coordenadores das campanhas intensificam as agendas com líderes e eleitores evangélicos. Nas últimas semanas, Lula se encontrou com religiosos, na Região Metropolitana do Rio. Bolsonaro participou de culto do pastor Silas Malafaia, um de seus apoiadores, na capital fluminense.\\n\\nDo lado dos fiéis, há reclamações sobre o uso político da religião. Eles reclamam do desvio da finalidade das igrejas e de tentativas de imposição de voto por pastores que apoiam Bolsonaro.\\n\\nUma das insatisfeitas é a ativista Débora Amorim, de 34 anos. Desconfortável com a politização da igreja que frequentava, a Metodista, rompeu com a congregação. Ela foi criada em templos evangélicos e, agora, integra o coletivo Novas Narrativas Evangélicas.\\n\\nO grupo tem fiéis de diferentes denominações protestantes. Foi criado para defender a liberdade do voto. Uma das suas estratégias é a produção e divulgação de conteúdo nas redes sociais. Nas últimas semanas, lançou as palavras de ordem #LivrePraVotar e \"Deus não tem candidato\".\\n\\nPara Débora, como a maioria dos evangélicos é formada por mulheres pretas e de periferia, é esse o público simpático à candidatura de Lula. Segundo ela, a tentativa de imposição de valores morais por parte dos pastores midiáticos e de consolidação de uma única narrativa como \"o caminho para a salvação\" tem afastado parte dos fiéis.\\n\\nUm dos idealizadores do movimento, o advogado Daniel Wanderley destacou que existem inúmeros \"crentes\" dispostos a construir e expressar \"novas narrativas evangélicas\". \"São pessoas que estavam sofrendo represálias e diversos desafios dentro de suas comunidades à medida que o bolsonarismo foi se apropriando e instrumentalizando a fé evangélica. O movimento evangélico é muito mais plural\", explica.\\n\\nDani Marinho, 24, evangélica da Igreja Batista do Caminho, foi criada \"dentro da Universal\" — liderada por Edir Macedo, apoiador de Bolsonaro. \"Sempre houve a influência da política na igreja, mas hoje está mais escancarada. Há uma tentativa de imposição de um candidato\", afirma.\\n\\nOs evangélicos representam 31% da população (cerca de 65 milhões de pessoas), segundo pesquisa Datafolha de 2020. De acordo com o Censo Brasileiro, do Instituto Brasileiro de Geografia e Estatísticas (IBGE), 60% (25,3 milhões) dos evangélicos eram pentecostais. Pesquisas mostram que a diferença entre o Lula e Bolsonaro tem recuado, embora permaneça grande. A mais recente rodada do Ipec, de 19 de setembro, mostrou o presidente em estabilidade, com 48% das intenções de voto entre evangélicos. Lula cresceu seis pontos (32%).  \n",
       "2                                                                                                                                                                                                                                                                                                                                                                                                                                                                                                                                                                                                                                                                                                                                                                                                                                                                                                                                                                                                                                                                                                                                                                                                                                                                                                                                                                                                                                                                                                                                                                                                                                                                                                                                                                                                                                                                                                                                                                                                                                                                                                                                                                                                                                                                                                                                                                                                                                                                                                                                                                                                                                                                                                                                                                                                                                                                                            Foram identificados pelo Tribunal Superior Eleitoral (TSE) R$ 605 milhões em transferências suspeitas em pouco mais de 59 mil casos potencialmente irregulares. O valor foi detectado em análise da prestação de contas parcial de campanha, entregue pelos candidatos entre os dias 9 e 13 de setembro.\\n\\nAo todo, foram 59.072 casos de doações ou gastos potencialmente irregulares informados pela Justiça Eleitoral. De acordo com o TSE, os casos agora serão apurados \"com o levantamento de provas materiais e de informações mais aprofundadas\".\\n\\nA análise é realizada por meio de cruzamento de dados de diferentes órgãos de controle, como o Tribunal de Contas da União (TCU), a Receita Federal, o Conselho de Controle de Atividades Econômicas (Coaf) e a Polícia Federal (PF). O cruzamento permite que o TSE peça a apuração efetiva de cada caso, com a coleta de provas materiais, por exemplo. Os casos são enviados ao MP Eleitoral, que pode aprofundar as investigações e, ao fim, apresentar uma denúncia à Justiça Eleitoral, podendo virar processos caso sejam encontradas evidências.\\n\\nNo caso dos gastos, chama a atenção dos órgãos de controle quando, por exemplo, há fornecedores com número muito pequeno de funcionários, ou com um dos sócios como beneficiário de programas de transferência de renda, como o Auxílio Brasil. Levantam suspeita também, os casos de empresas criadas neste ano e tendo como sócio algum filiado a partido ou parente de candidato.\\n\\nNo lado das receitas, o cruzamento dos dados possibilita analisar se o valor doado é compatível com o patrimônio e a situação econômica do doador — se ele está empregado, se é beneficiário de programas sociais e até se ainda está vivo. Em casos negativos, são levantadas suspeitas sobre essas transferências. Foram identificados, por exemplo, seis doadores falecidos e 190 desempregados. \"Ainda despertou o interesse dos analistas 10.296 situações em que um mesmo candidato recebeu numerosas contribuições feitas por diferentes empregados de uma mesma empresa\", informou o TSE.\\n\\nUma nova rodada de cruzamento de dados ocorrerá após a prestação de contas final do primeiro turno, que deve ser entregue à Corte Eleitoral por todos os candidatos até 2 de novembro.  \n",
       "3                                                                                                                                                                                                                                                                                                                                                                                                                                                                                                                                                                                                                                                                                                                                                                                                                                                                                                                                                                                                                                                                                                                                                                                                                                                                                                                                                                                                                                                                                                                                                                                                                                                                                                                                                                                                                                                                                                                                                                                                                                                                                                                                                                                                                                                                                                                                                                                                                                                                         Este sábado (24/9) promete ser movimentado para os candidatos ao Governo do Distrito Federal (GDF). Diversas regiões, como Águas Claras, Ceilândia, Samambaia, Vila Telebrasília, Vicente Pires e Sobradinho receberão a visita dos posturantes ao Palácio do Buriti. A menos de 10 dias das eleições, os candidatos buscam conquistar mais eleitores.\\n\\n9h30 — Visita à feira permanente do Setor O\\n\\n10h30 — Visita à feira permanente do P Norte\\n\\n11h — Adesivaço em Águas Claras\\n\\n12h — Encontro com a comunidade do Núcleo Rural Monjolo, em Planaltina\\n\\n13h30 — Encontro com colaboradores de empresas do ramo de construção\\n\\n16h — Encontro político com candidatos a deputado federal e distrital, em Ceilândia\\n\\n16h30 — Encontro político com candidatos da coligação, em Águas Claras\\n\\n8h — Visita à feira do produtor de Vicente Pires\\n\\n10h — Reunião com policiais, na Colônia Agrícola Águas Claras\\n\\n12h — Almoço com pastores, na Asa Norte (reservado)\\n\\n16h — Evento com candidata a deputada distrital, em Samambaia Sul\\n\\n17h — Reunião com apoiadores, em Samambaia Sul\\n\\n20h30 — Jantar com apoiadores, no Lago Norte\\n\\n7h — Caminhada na feira do produtor de Vicente Pires\\n\\n9h30 — Caminhada pelo comércio de Vicente Pires\\n\\n12h30 — Evento do Senproep, no Parque da Cidade\\n\\n15h30 — Caminhada pelo comércio de Ceilândia Norte\\n\\n17h45 — Visita a evento de arte, em Ceilândia\\n\\n20h30 — Visita a evento de rodoviários, em Ceilândia\\n\\n22h — Festa do professor do Sinpro-DF, na Vila Planalto\\n\\n23h30 — Evento no Conic\\n\\n8h — Visita a projeto social do Instituto Evolução, na Vila Telebrasília\\n\\n9h30 — Café da manhã no Colégio CIMAN, na Octogonal\\n\\n11h — Evento no Clube do Congresso, no Lago Norte\\n\\n12h45 — Almoço no Guará Park\\n\\n16h — Encontro com apoiadores em Planaltina (DF)\\n\\n18h30 — Encontro com apoiadores em Sobradinho\\n\\n19h — Encontro com apoiadores de Sobradinho 2\\n\\n22h — Visita ao Baile da Saudade, em Brazlândia\\n\\n10h — Roda de conversa sobre prevenção do suicídio, em Sobradinho\\n\\n10h30 — Caminhada com candidato a deputado distrital, em Sobradinho\\n\\n12h — Almoço com candidato a deputado federal, no Noroeste\\n\\n13h — Ato em Planaltina\\n\\n13h30 — Ato em Ceilândia\\n\\n17h — Caminhada na Asa Norte\\n\\n18h30 — Participação em comício de candidato a deputado distrital\\n\\n10h — Caminhada na feira permanente e na feira dos importados de Taguatinga\\n\\n12h — Almoço em restaurante de Taguatinga\\n\\n13h — Reunião com apoiadores e eleitores, no Park Way\\n\\n19h — Live em seu canal do YouTube\\n\\nOs candidatos Leila Barros (PDT) e Coronel Moreno (PTB) não enviaram agenda até o fechamento desta edição  \n",
       "4                                                                                                                                                                                                                                                                                                                                                                                                                                                                                                                                                                                                                                                                                                                                                                                                                                                                                                                                                                                                                                                                                                                                                                                                                                                                                                                                                                                                                                                                                                                                                                                                                                                                                                                                                                                                                                                                                                                                                                                                                                                                                                                                                                                                                                                                                                                                                                                                                                                                                                                                                                                                                                                                                                                                                                                                                                                                                                                                                                                                                                                                                                                                                                                                                                                                                                                                                                                                                                                                                                                                                                                                                                                                                                                                                                                                                            O Tribunal Regional Eleitoral do Distrito Federal (TRE-DF) divulgou a lista dos 610 locais de votação e aproximadamente 6,7 mil seções eleitorais para as Eleições de 2022 na capital do país. O Tribunal Superior Eleitoral (TSE) disponibilizou consulta aos locais após as solicitações de transferência temporária.\\n\\nA consulta pessoal pode ser feita no site da Justiça Eleitoral. O dado também está atualizado no aplicativo e-Título, que informa tanto a zona, seção, local de votação de domicílio eleitoral quanto a zona, seção e local de votação para onde o eleitor pediu transferência temporária. O TRE-DF também disponibilizou a lista com todos os locais de votação. Clique aqui.\\n\\nA estimativa é que a população do Distrito Federal saiba o resultado do primeiro turno em, no máximo, duas horas, segundo o presidente do Tribunal Regional Eleitoral do Distrito Federal (TRE-DF), desembargador Roberval Belinati.\\n\\nO presidente do TRE-DF explicou que, após o fim das votações, os mesários vão encaminhar os votos das eleições aos computadores de totalização do Tribunal Superior Eleitoral (TSE). “Acredito que o resultado vai ser muito rápido. Pode ser que haja um pequeno atraso em razão do congestionamento, mas acho que não vai demorar mais do que duas horas para a conclusão da apuração dos votos aqui no DF”, comentou.  "
      ]
     },
     "execution_count": 14,
     "metadata": {},
     "output_type": "execute_result"
    }
   ],
   "source": [
    "# Primeiros dados.\n",
    "df.head()"
   ]
  },
  {
   "cell_type": "code",
   "execution_count": 15,
   "id": "b5a1a4d5",
   "metadata": {},
   "outputs": [
    {
     "data": {
      "text/html": [
       "<div>\n",
       "<style scoped>\n",
       "    .dataframe tbody tr th:only-of-type {\n",
       "        vertical-align: middle;\n",
       "    }\n",
       "\n",
       "    .dataframe tbody tr th {\n",
       "        vertical-align: top;\n",
       "    }\n",
       "\n",
       "    .dataframe thead th {\n",
       "        text-align: right;\n",
       "    }\n",
       "</style>\n",
       "<table border=\"1\" class=\"dataframe\">\n",
       "  <thead>\n",
       "    <tr style=\"text-align: right;\">\n",
       "      <th></th>\n",
       "      <th>ID_NOTICIA</th>\n",
       "      <th>URL</th>\n",
       "      <th>DATA_PUBLICACAO</th>\n",
       "      <th>AUTOR</th>\n",
       "      <th>TITULO</th>\n",
       "      <th>TEXTO</th>\n",
       "    </tr>\n",
       "  </thead>\n",
       "  <tbody>\n",
       "    <tr>\n",
       "      <th>8630</th>\n",
       "      <td>8632</td>\n",
       "      <td>https://www.correiobraziliense.com.br/esportes/2022/12/5057617-tecnico-da-croacia-faz-jogo-de-esconde-com-tite-sosa-e-o-misterio.html</td>\n",
       "      <td>2022-12-08-0311:40:00-10800</td>\n",
       "      <td>{\"'Marcos Paulo Lima - Enviado especial'\"}</td>\n",
       "      <td>Técnico da Croácia faz jogo de esconde com Tite; Sosa é o mistério</td>\n",
       "      <td>Doha — Sentado ao lado de Luka Modric na bancada da sala de conferências do Qatar National Convention Centre, o QG da Fifa na capital do Catar, o mentor do vice-campeonato da Croácia na Copa do Mundo de 2018, na Rússia, Zlatko Dalic, foi ofuscado pela estrela da companhia Luka Modric. De cabeça baixa, olhando para a mesa na maior parte do tempo, comportava-se com a humildade de quem sabe exatamente a grandeza de cada personagem na hierarquia da seleção adversária do Brasil nesta sexta-feira (9/12), às 12h (de Brasília), no Estádio da Educação, pelas quartas de final da Copa do Mundo Qatar-2022. \\n\\n\\n\\nTão misterioso quanto o colega de profissão Tite, Dalic empurrou para o treino da tarde a definição da escalação para o duelo eliminatório contra o Brasil. Curiosamente, a principal dúvida dele diz respeito à lateral esquerda. Contundido, Borna Sosa não enfrentou o Japão nas oitavas de final. A escalação do jogador do Stuttgart estava pendente da atividade de hoje. \\n\\n\\n\\n“Estamos aguardando. É importante nos recuperarmos por causa da prorrogação (e dos pênaltis contra o Japão). Vamos treinar com Sosa. Não teremos muitas mudanças”.\\n\\n\\n\\nQuestionado se a Croácia atual é superior ao time vice-campeão em 2018, Dalic preferiu não misturar as estações. “Tenho 18 novos jogadores. Há quatro anos, eles atuavam juntos há 10 anos. Não há como comparar. Precisamos de tempo. O que posso dizer que essa mistura fez bem ao Brasil nessa Copa do Mundo”, comemorou o treinador. \\n\\n\\n\\nO estilo do Brasil preocupa Dalic. As dancinhas nas comemorações nem tanto. “Não podemos deixar espaço para eles”, advertiu durante a entrevista. Se vacilar, ele sabe que as comemorações com repertório variado voltarão a acontecer ali perto dele, sem censura.\\n\\n\\n\\n“Eles têm uma forma própria de comemorar e celebram como estão acostumados. Eles estão fazendo as coisas com muita unidade. Mostram sua tradição, característica. Isso significa que é respeitoso ou desrespeitoso? Não saberia dizer. Eu não gostaria de ver os meus jogadores fazendo isso, mas é a cultura deles. Eles gostam. E podem fazer”, desencanou o treinador.</td>\n",
       "    </tr>\n",
       "    <tr>\n",
       "      <th>8631</th>\n",
       "      <td>8633</td>\n",
       "      <td>https://www.correiobraziliense.com.br/esportes/2022/12/5057613-modric-revela-que-o-plano-e-levar-a-croacia-alem-das-quartas-de-final.html</td>\n",
       "      <td>2022-12-08-0311:14:00-10800</td>\n",
       "      <td>{\"'Marcos Paulo Lima - Enviado especial'\"}</td>\n",
       "      <td>Modric revela que o plano é levar a Croácia além das quartas de final</td>\n",
       "      <td>Doha — Eleito melhor do mundo em 2018 após levar a Croácia ao vice na Copa do Mundo disputada na Rússia, o meia Luka Modric entrou na sala de conferências do Qatar National Convention Centre mais gelado do que o ar-condicionado do Quartel General da Fifa. Focado, riu algumas vezes, mas na maioria das respostas usou a voz impostada para se impor diante de cada resposta. A maioria delas sobre o favoritismo do Brasil na partida desta sexta-feira (9/12), às 12h (de Brasília), pelas quartas de final da Copa do Mundo Qatar-2022. \\n\\n\\n\\n\"Estamos nas quartas de final, mas queremos mais. A maior partida da Copa do Mundo é a próxima. O Brasil é sempre favorito, mas, especialmente nesta Copa, acredito que mereça o favoritismo. Temos que dar o nosso melhor. Se fizermos, teremos chances de vencê-los\", disse.\\n\\nA Croácia enfrentou o Brasil duas vezes na Copa e perdeu em ambas nas edições de 2006 e 2014. O último confronto foi há quatro anos e meio, na Inglaterra, antes da abertura da Copa do Mundo disputada na Rússia. A Seleção venceu o confronto por 2 x 0. \\n\\n\\n\\nNa partida desta sexta, Modric enfrentará atuais e ex-companheiros. Éder Militão, Vinicius Junior e Rodrygo jogam com ele no Real Madrid. Casemiro e Danilo foram parceiros do meia no clube merengue em diferentes conquistas, as maiores na Liga dos Campeões da Europa. \\n\\n\\n\\nNa última quarta-feira (7/12), Vinicius Junior elogiou Modric e reconheceu o empenho do croata em ajudá-lo a evoluir. Foi com ele, por exemplo, que aprendeu a dar passe de três dedos. “É muito bom saber que o Vinicius está me elogiando, me parabenizando. Ele é excelente jogador, pessoa muito boa. Tem muita capacidade física. Desde que ele entrou no Real, demonstra isso no clube em todos os jogos e também no vestiário. Está fazendo a mesma coisa nesta Copa”, comentou.\\n\\n\\n\\nAutor do gol do título do Real Madrid contra o Liverpool na última Liga dos Campeões e parceiro de ataque do centroavante Benzema no time comandado por Carlo Ancelotti, Vinicius Junior impressiona Modric pelos dribles em velocidade. “É difícil pará-lo. Posso dar conselhos aos meus colegas croatas, mas se puder ajudá-los dando uma dica, para tentar neutralizá-los, claro que vou fazer. Todos nós estamos representando aqui nossas seleções”, lembrou o astro.</td>\n",
       "    </tr>\n",
       "    <tr>\n",
       "      <th>8632</th>\n",
       "      <td>8634</td>\n",
       "      <td>https://www.correiobraziliense.com.br/economia/2022/12/5057600-moveinfra-anuncia-rs-783-bilhoes-para-investimento-em-infraestrutura.html</td>\n",
       "      <td>2022-12-08-0312:04:00-10800</td>\n",
       "      <td>{\"'Michelle Portela'\"}</td>\n",
       "      <td>MoveInfra anuncia R$ 78,3 bilhões para investimento em infraestrutura</td>\n",
       "      <td>O movimento empresarial de infraestrutura que reúne as cinco principais empresas do setor no país pretende investir R$ 78,4 bilhões em projetos do setor. O lançamento do MoveInfra, com anúncio de recursos e projetos, ocorreu nesta quinta-feira (8), no Brasil 21.\\n\\nO grupo é formado pelas empresas CCR, EcoRodovias, Rumos, Santos Brasil e Ultracargo. “Nos demos conta de que, para fazer investimentos de forma sustentável, era necessário fazer com a defesa de estratégias que culminaram na criação deste movimento“, diz João Alverto Abreu, presidente do Rumos.\\n\\nUma das bandeiras defendidas pelo MoveInfra é a reindustrialização baseada na agenda verde. Trata-se de um passo importante em busca da transição energética. “O Brasil pode ser protagonista dessa modernização”, acredita Natália Marcassa, executiva do MoveInfra.\\n\\nConvidado para o lançamento do MoveInfra, o governador eleito de São Paulo, Tarcísio de Freitas (Republicanos), elogiou a iniciativa empresarial. “É uma iniciativa promissora. O Brasil está diante de uma grande oportunidade [para buscar novos investimentos]”, disse.\\n\\nFreitas anunciou que deverá autorizar a licitação para a finalização do RodoAnel em março do próximo ano e investir na malha ferroviária do estado.\\n\\nAssine a newsletter do Correio Braziliense. E fique bem informado sobre as principais notícias do dia, no começo da manhã. Clique aqui.\\n\\nQuer ficar por dentro sobre as principais notícias do Brasil e do mundo? Siga o Correio Braziliense nas redes sociais. Estamos no Twitter, no Facebook, no Instagram, no TikTok e no YouTube. Acompanhe!</td>\n",
       "    </tr>\n",
       "    <tr>\n",
       "      <th>8633</th>\n",
       "      <td>8635</td>\n",
       "      <td>https://www.correiobraziliense.com.br/economia/2022/12/5057624-apos-encontro-com-haddad-guedes-reforca-defesa-de-novo-marco-fiscal.html</td>\n",
       "      <td>2022-12-08-0312:17:00-10800</td>\n",
       "      <td>{\"'Rosana Hessel'\"}</td>\n",
       "      <td>Após encontro com Haddad, Guedes reforça defesa de novo marco fiscal</td>\n",
       "      <td>Após encontro de pouco mais de uma hora com o ex-prefeito de São Paulo Fernando Haddad (PT), nesta quinta-feira (8/12), o ministro da Economia, Paulo Guedes, reforçou, em evento virtual do Tesouro Nacional, a necessidade de mudança do arcabouço fiscal e admitiu que está conversando com a equipe de transição sobre o assunto. E, nesse sentido, ele disse que a pasta tem duas propostas de alternativas ao teto de gastos — regra que limita o aumento das despesas à inflação.\\n\\nA primeira, dos técnicos do Tesouro, utilizando a dívida pública para o limite das despesas que já foi apresentada e, a segunda, da Secretaria de Política Econômica (SPE) da pasta que ainda está sendo preparada.\\n\\n“O teto foi mal construído”, disse Guedes na justificativa das constantes mudanças no limite do teto, desde o início do governo. “O Tesouro já apresentou a proposta. A SPE está fazendo outra proposta e estamos conversando com a transição. Vamos seguir aperfeiçoando (o novo arcabouço fiscal)”, afirmou.\\n\\nNa avaliação do ministro da Economia, as confusões de meta fiscal e variável de controle, que é o teto de gastos, precisam ser corrigidas. “Até se eu pagar o BID (Banco Interamericano de Desenvolvimento), eu furo o teto”, reclamou Guedes, lembrando que, para pagar os organismos internacionais, o governo usa uma conta no exterior que não afeta diretamente o fluxo das contas públicas internas.\\n\\nAssim que retornou ao hotel onde o presidente eleito Luiz Inácio Lula da Silva (PT) está hospedado, Haddad comentou a reunião, que não teve a participação de nenhum técnico ou assessor de ambos. “Foi excelente”, disse o ex-prefeito e economista, que é o mais cotado para assumir o Ministério da Fazenda, a ser recriado pelo governo Lula. “O plano geral de voo foi tratado tanto com aquilo que ele entende que está legando quanto com o que vamos fazer no ano que vem”, acrescentou.\\n\\nSegundo o petista, o objetivo é dar continuidade a projetos que estão em andamento e que beneficiem a população. “O Orçamento para o ano que vem não pode ser menor do que o deste ano”, emendou. \\n\\nAntes de Haddad, Guedes também já esteve reunido com o ex-ministro da Fazenda Nelson Barbosa e o professor da Universidade Estadual de Campinas (Unicamp) Guilherme Mello, integrantes da equipe de transição. O ex-prefeito ainda contou que será montado um cronograma de trabalho entre as duas equipes a partir da próxima semana.\\n\\nDurante o evento do Tesouro, Guedes voltou a fazer um balanço positivo do atual governo e voltou a criticar os economistas que erraram nas projeções para o crescimento da economia desde a pandemia da covid-19, inclusive, neste ano. “O pessoal errou porque os modelos estavam sendo recalibrados e houve muito barulho político e falsas narrativas”, frisou.\\n\\nSegundo ele, o Produto Interno Bruto (PIB) deste ano deverá crescer 3%, e, no ano que vem, poderá crescer 2,5%, o previsto nas estimativas da Economia. “O Banco Central vai começar a descer os juros e entrará o componente cíclico”, afirmou ele, sem mencionar os riscos fiscais apontados pelo Banco Central, ontem, no comunicado do Comitê de Política Monetária (Copom), em que deixou a porta aberta para novas altas na taxa básica da economia (Selic), mantida em 13,75% ao ano.\\n\\nAssine a newsletter do Correio Braziliense. E fique bem informado sobre as principais notícias do dia, no começo da manhã. Clique aqui.\\n\\nQuer ficar por dentro sobre as principais notícias do Brasil e do mundo? Siga o Correio Braziliense nas redes sociais. Estamos no Twitter, no Facebook, no Instagram, no TikTok e no YouTube. Acompanhe!</td>\n",
       "    </tr>\n",
       "    <tr>\n",
       "      <th>8634</th>\n",
       "      <td>8636</td>\n",
       "      <td>https://www.correiobraziliense.com.br/economia/2022/12/5057740-atraso-na-coleta-do-censo-traz-riscos-a-qualidade-da-informacao-diz-sindicato.html</td>\n",
       "      <td>2022-12-08-0318:10:00-10800</td>\n",
       "      <td>{\"'Agência Estado'\"}</td>\n",
       "      <td>Atraso na coleta do Censo traz riscos à qualidade da informação, diz sindicato</td>\n",
       "      <td>O atraso na coleta do Censo Demográfico 2022 \"traz riscos à qualidade da informação\", alertou nesta quinta-feira, 8, o sindicato nacional dos servidores do Instituto Brasileiro de Geografia e Estatística, o ASSIGBE-SN.\\n\\n\"De forma mais imediata, é preciso alertar que o simples prolongamento da coleta traz riscos à qualidade da informação, na medida em que as entrevistas se distanciam da data de referência do censo (31 de julho)\", escreveu o sindicato, em comunicado.\\n\\nO IBGE informou na última terça-feira, 6, ter prorrogado novamente a coleta em campo do Censo. O prazo foi estendido de dezembro até, no mínimo, o fim de janeiro. O trabalho de levantamento de informações, que teve início em 1º de agosto deste ano, estava previsto inicialmente para ser concluído no fim de outubro.\\n\\n\"Um quarto da população brasileira (cerca de 50 milhões de pessoas), ainda não foi contabilizada pelo Censo 2022. Trata-se de um imenso atraso na operação, tanto em relação ao seu planejamento (era esperado que o Censo terminasse até o final de outubro) quanto se comparado ao recenseamento de 2010, que no mês de novembro já divulgava resultados substanciais\", lamentou o sindicato.\\n\\nSegundo o ASSIBGE-SN, o problema é sistêmico, uma vez que houve atraso em todas as unidades da federação, sendo possível já vislumbrar que \"o recenseamento só poderá ser concluído com o prosseguimento da coleta nos primeiros meses de 2023\".\\n\\n\"Essa situação não é de modo algum uma surpresa. As dificuldades do Censo revelam o processo de desmonte do IBGE, há muito apontado pela ASSIBGE. Mais especificamente, já em 2019 a ASSIBGE alertava que o corte orçamentário do Censo e a alteração de seu projeto técnico - determinados pelo Ministro Paulo Guedes e acatados pela direção por ele nomeada no IBGE - traziam sérios riscos à operação censitária\", declarou o sindicato.\\n\\nOs técnicos do IBGE orçaram inicialmente a operação censitária em R$ 3,1 bilhões, para que ocorresse em 2020. No entanto, a verba acabou cortada para R$ 2,3 bilhões, e os questionários foram enxugados.\\n\\nEm função da pandemia de covid-19, o levantamento foi adiado para 2021, mas acabou inviabilizado naquele ano por falta de destinação de orçamento pelo governo federal. Após decisão do Supremo Tribunal Federal, o governo do presidente Jair Bolsonaro ficou obrigado a disponibilizar recursos para a realização do Censo em 2022.\\n\\nO sindicato avalia que o orçamento inicialmente proposto, de R$ 3,1 bilhões, precisaria ser corrigido pela inflação para R$3,7 bilhões para que o Censo fosse conduzido de forma adequada.\\n\\n\"Para comparação, em 2010 a população brasileira era 10% menor do que a atual, mas ainda assim o orçamento do Censo de 2010, atualizado pela inflação, equivaleria a R$ 3,4 bilhões em 2022. A desidratação do orçamento implicou na compactação de toda estrutura do Censo: redução das equipes, diminuição na divulgação, corte no número de equipamentos e combustível, e finalmente, redução nos valores pagos aos recenseadores e supervisores\", enumerou o sindicato.\\n\\nApesar dos esforços para flexibilizar regras de contratação e melhorar a remuneração de recenseadores, o instituto permanece ainda com dificuldades de preencher as vagas necessárias em determinados locais. Como consequência, os dados sobre a população de estados e municípios que serão entregues ao Tribunal de Contas da União (TCU) em 26 de dezembro ainda precisarão ser completados, em parte, com estimativas populacionais feitas com base nos dados do novo censo. As informações sobre contingentes populacionais são usadas no rateio do Fundo de Participação de Estados e Municípios.\\n\\n\"As baixas remunerações dos recenseadores provocaram pouca procura por vagas, alta desistências e produção de questionário em ritmo lento. De um total de cerca de 180 mil recenseadores previstos para estarem trabalhando no auge da operação, apenas 140 mil estavam contratados no mês de outubro, e desse total apenas 95 mil eram considerados produtivos, o que corresponde a 52% do total de vagas disponíveis e previstas para a operação\", avaliou o ASSIBGE-SN.\\n\\nEm todo o País, o IBGE contava com 60.611 recenseadores em ação no início desta semana, cerca de um terço de todas as vagas disponibilizadas. A redução no quadro de servidores efetivos também é um empecilho ao bom andamento do trabalho censitário, aponta a entidade que representa os funcionários do órgão.\\n\\n\"Enquanto na operação censitária de 2010 o IBGE contava com 7 mil funcionários efetivos, no momento o instituto conta com pouco mais de 4 mil. O quadro reduzido resultou em uma série de gargalos na área técnica, administrativa e de informática. Para organização da rede de coleta censitária, o IBGE teve que contratar trabalhadores temporários para preencher 1.343 vagas para Coordenador de Subárea temporário (CCS) e 31 vaga para Coordenador de Área, postos estratégicos para assegurar agilidade e qualidade no Censo e que eram ocupados, nas edições anteriores, por funcionários do quadro. S...</td>\n",
       "    </tr>\n",
       "  </tbody>\n",
       "</table>\n",
       "</div>"
      ],
      "text/plain": [
       "      ID_NOTICIA  \\\n",
       "8630        8632   \n",
       "8631        8633   \n",
       "8632        8634   \n",
       "8633        8635   \n",
       "8634        8636   \n",
       "\n",
       "                                                                                                                                                    URL  \\\n",
       "8630              https://www.correiobraziliense.com.br/esportes/2022/12/5057617-tecnico-da-croacia-faz-jogo-de-esconde-com-tite-sosa-e-o-misterio.html   \n",
       "8631          https://www.correiobraziliense.com.br/esportes/2022/12/5057613-modric-revela-que-o-plano-e-levar-a-croacia-alem-das-quartas-de-final.html   \n",
       "8632           https://www.correiobraziliense.com.br/economia/2022/12/5057600-moveinfra-anuncia-rs-783-bilhoes-para-investimento-em-infraestrutura.html   \n",
       "8633            https://www.correiobraziliense.com.br/economia/2022/12/5057624-apos-encontro-com-haddad-guedes-reforca-defesa-de-novo-marco-fiscal.html   \n",
       "8634  https://www.correiobraziliense.com.br/economia/2022/12/5057740-atraso-na-coleta-do-censo-traz-riscos-a-qualidade-da-informacao-diz-sindicato.html   \n",
       "\n",
       "                  DATA_PUBLICACAO                                       AUTOR  \\\n",
       "8630  2022-12-08-0311:40:00-10800  {\"'Marcos Paulo Lima - Enviado especial'\"}   \n",
       "8631  2022-12-08-0311:14:00-10800  {\"'Marcos Paulo Lima - Enviado especial'\"}   \n",
       "8632  2022-12-08-0312:04:00-10800                      {\"'Michelle Portela'\"}   \n",
       "8633  2022-12-08-0312:17:00-10800                         {\"'Rosana Hessel'\"}   \n",
       "8634  2022-12-08-0318:10:00-10800                        {\"'Agência Estado'\"}   \n",
       "\n",
       "                                                                              TITULO  \\\n",
       "8630              Técnico da Croácia faz jogo de esconde com Tite; Sosa é o mistério   \n",
       "8631           Modric revela que o plano é levar a Croácia além das quartas de final   \n",
       "8632           MoveInfra anuncia R$ 78,3 bilhões para investimento em infraestrutura   \n",
       "8633            Após encontro com Haddad, Guedes reforça defesa de novo marco fiscal   \n",
       "8634  Atraso na coleta do Censo traz riscos à qualidade da informação, diz sindicato   \n",
       "\n",
       "                                                                                                                                                                                                                                                                                                                                                                                                                                                                                                                                                                                                                                                                                                                                                                                                                                                                                                                                                                                                                                                                                                                                                                                                                                                                                                                                                                                                                                                                                                                                                                                                                                                                                                                                                                                                                                                                                                                                                                                                                                                                                                                                                                                                                                                                                                                                                                                                                                                                                                                                                                                                                                                                                                                                                                                                                                                                                                                                                                                                                                                                                                                                                                                                                                                                                                                                                                                                                                                                                                                                                                                                                                                                                                                                                                                                                                                                                                                                                                                                                                                                                                                                                                                                                                                                                                                                                                                                                                                                                                                                                                                                                                                                                                                                                                                                                                                                                                                                                                                                                                                                                                                                                                                                        TEXTO  \n",
       "8630                                                                                                                                                                                                                                                                                                                                                                                                                                                                                                                                                                                                                                                                                                                                                                                                                                                                                                                                                                                                                                                                                                                                                                                                                                                                                                                                                                                                                                                                                                                                                                                                                                                                                                                                                                                                                                                                                                                                                                                                                                                                                                                                                                                                                                                                                                                                                                                                                                                                                                                                                                                                                                                                                                                                                                                                                                                                                                                                                                                                Doha — Sentado ao lado de Luka Modric na bancada da sala de conferências do Qatar National Convention Centre, o QG da Fifa na capital do Catar, o mentor do vice-campeonato da Croácia na Copa do Mundo de 2018, na Rússia, Zlatko Dalic, foi ofuscado pela estrela da companhia Luka Modric. De cabeça baixa, olhando para a mesa na maior parte do tempo, comportava-se com a humildade de quem sabe exatamente a grandeza de cada personagem na hierarquia da seleção adversária do Brasil nesta sexta-feira (9/12), às 12h (de Brasília), no Estádio da Educação, pelas quartas de final da Copa do Mundo Qatar-2022. \\n\\n\\n\\nTão misterioso quanto o colega de profissão Tite, Dalic empurrou para o treino da tarde a definição da escalação para o duelo eliminatório contra o Brasil. Curiosamente, a principal dúvida dele diz respeito à lateral esquerda. Contundido, Borna Sosa não enfrentou o Japão nas oitavas de final. A escalação do jogador do Stuttgart estava pendente da atividade de hoje. \\n\\n\\n\\n“Estamos aguardando. É importante nos recuperarmos por causa da prorrogação (e dos pênaltis contra o Japão). Vamos treinar com Sosa. Não teremos muitas mudanças”.\\n\\n\\n\\nQuestionado se a Croácia atual é superior ao time vice-campeão em 2018, Dalic preferiu não misturar as estações. “Tenho 18 novos jogadores. Há quatro anos, eles atuavam juntos há 10 anos. Não há como comparar. Precisamos de tempo. O que posso dizer que essa mistura fez bem ao Brasil nessa Copa do Mundo”, comemorou o treinador. \\n\\n\\n\\nO estilo do Brasil preocupa Dalic. As dancinhas nas comemorações nem tanto. “Não podemos deixar espaço para eles”, advertiu durante a entrevista. Se vacilar, ele sabe que as comemorações com repertório variado voltarão a acontecer ali perto dele, sem censura.\\n\\n\\n\\n“Eles têm uma forma própria de comemorar e celebram como estão acostumados. Eles estão fazendo as coisas com muita unidade. Mostram sua tradição, característica. Isso significa que é respeitoso ou desrespeitoso? Não saberia dizer. Eu não gostaria de ver os meus jogadores fazendo isso, mas é a cultura deles. Eles gostam. E podem fazer”, desencanou o treinador.  \n",
       "8631                                                                                                                                                                                                                                                                                                                                                                                                                                                                                                                                                                                                                                                                                                                                                                                                                                                                                                                                                                                                                                                                                                                                                                                                                                                                                                                                                                                                                                                                                                                                                                                                                                                                                                                                                                                                                                                                                                                                                                                                                                                                                                                                                                                                                                                                                                                                                                                                                                                                                                                                                                                                                                                                                                                                                                                                                               Doha — Eleito melhor do mundo em 2018 após levar a Croácia ao vice na Copa do Mundo disputada na Rússia, o meia Luka Modric entrou na sala de conferências do Qatar National Convention Centre mais gelado do que o ar-condicionado do Quartel General da Fifa. Focado, riu algumas vezes, mas na maioria das respostas usou a voz impostada para se impor diante de cada resposta. A maioria delas sobre o favoritismo do Brasil na partida desta sexta-feira (9/12), às 12h (de Brasília), pelas quartas de final da Copa do Mundo Qatar-2022. \\n\\n\\n\\n\"Estamos nas quartas de final, mas queremos mais. A maior partida da Copa do Mundo é a próxima. O Brasil é sempre favorito, mas, especialmente nesta Copa, acredito que mereça o favoritismo. Temos que dar o nosso melhor. Se fizermos, teremos chances de vencê-los\", disse.\\n\\nA Croácia enfrentou o Brasil duas vezes na Copa e perdeu em ambas nas edições de 2006 e 2014. O último confronto foi há quatro anos e meio, na Inglaterra, antes da abertura da Copa do Mundo disputada na Rússia. A Seleção venceu o confronto por 2 x 0. \\n\\n\\n\\nNa partida desta sexta, Modric enfrentará atuais e ex-companheiros. Éder Militão, Vinicius Junior e Rodrygo jogam com ele no Real Madrid. Casemiro e Danilo foram parceiros do meia no clube merengue em diferentes conquistas, as maiores na Liga dos Campeões da Europa. \\n\\n\\n\\nNa última quarta-feira (7/12), Vinicius Junior elogiou Modric e reconheceu o empenho do croata em ajudá-lo a evoluir. Foi com ele, por exemplo, que aprendeu a dar passe de três dedos. “É muito bom saber que o Vinicius está me elogiando, me parabenizando. Ele é excelente jogador, pessoa muito boa. Tem muita capacidade física. Desde que ele entrou no Real, demonstra isso no clube em todos os jogos e também no vestiário. Está fazendo a mesma coisa nesta Copa”, comentou.\\n\\n\\n\\nAutor do gol do título do Real Madrid contra o Liverpool na última Liga dos Campeões e parceiro de ataque do centroavante Benzema no time comandado por Carlo Ancelotti, Vinicius Junior impressiona Modric pelos dribles em velocidade. “É difícil pará-lo. Posso dar conselhos aos meus colegas croatas, mas se puder ajudá-los dando uma dica, para tentar neutralizá-los, claro que vou fazer. Todos nós estamos representando aqui nossas seleções”, lembrou o astro.  \n",
       "8632                                                                                                                                                                                                                                                                                                                                                                                                                                                                                                                                                                                                                                                                                                                                                                                                                                                                                                                                                                                                                                                                                                                                                                                                                                                                                                                                                                                                                                                                                                                                                                                                                                                                                                                                                                                                                                                                                                                                                                                                                                                                                                                                                                                                                                                                                                                                                                                                                                                                                                                                                                                                                                                                                                                                                                                                                                                                                                                                                                                                                                                                                                                                                                                                                                                                                                                                                                                                                                                                                                                                                   O movimento empresarial de infraestrutura que reúne as cinco principais empresas do setor no país pretende investir R$ 78,4 bilhões em projetos do setor. O lançamento do MoveInfra, com anúncio de recursos e projetos, ocorreu nesta quinta-feira (8), no Brasil 21.\\n\\nO grupo é formado pelas empresas CCR, EcoRodovias, Rumos, Santos Brasil e Ultracargo. “Nos demos conta de que, para fazer investimentos de forma sustentável, era necessário fazer com a defesa de estratégias que culminaram na criação deste movimento“, diz João Alverto Abreu, presidente do Rumos.\\n\\nUma das bandeiras defendidas pelo MoveInfra é a reindustrialização baseada na agenda verde. Trata-se de um passo importante em busca da transição energética. “O Brasil pode ser protagonista dessa modernização”, acredita Natália Marcassa, executiva do MoveInfra.\\n\\nConvidado para o lançamento do MoveInfra, o governador eleito de São Paulo, Tarcísio de Freitas (Republicanos), elogiou a iniciativa empresarial. “É uma iniciativa promissora. O Brasil está diante de uma grande oportunidade [para buscar novos investimentos]”, disse.\\n\\nFreitas anunciou que deverá autorizar a licitação para a finalização do RodoAnel em março do próximo ano e investir na malha ferroviária do estado.\\n\\nAssine a newsletter do Correio Braziliense. E fique bem informado sobre as principais notícias do dia, no começo da manhã. Clique aqui.\\n\\nQuer ficar por dentro sobre as principais notícias do Brasil e do mundo? Siga o Correio Braziliense nas redes sociais. Estamos no Twitter, no Facebook, no Instagram, no TikTok e no YouTube. Acompanhe!  \n",
       "8633                                                                                                                                                                                                                                                                                                                                                                                                                                                                                                                                                                                                                                                                                                                                                                                                                                                                                                                                                                                                                                                                                                                                                                                                                                                                                                                                                                                                                                                                         Após encontro de pouco mais de uma hora com o ex-prefeito de São Paulo Fernando Haddad (PT), nesta quinta-feira (8/12), o ministro da Economia, Paulo Guedes, reforçou, em evento virtual do Tesouro Nacional, a necessidade de mudança do arcabouço fiscal e admitiu que está conversando com a equipe de transição sobre o assunto. E, nesse sentido, ele disse que a pasta tem duas propostas de alternativas ao teto de gastos — regra que limita o aumento das despesas à inflação.\\n\\nA primeira, dos técnicos do Tesouro, utilizando a dívida pública para o limite das despesas que já foi apresentada e, a segunda, da Secretaria de Política Econômica (SPE) da pasta que ainda está sendo preparada.\\n\\n“O teto foi mal construído”, disse Guedes na justificativa das constantes mudanças no limite do teto, desde o início do governo. “O Tesouro já apresentou a proposta. A SPE está fazendo outra proposta e estamos conversando com a transição. Vamos seguir aperfeiçoando (o novo arcabouço fiscal)”, afirmou.\\n\\nNa avaliação do ministro da Economia, as confusões de meta fiscal e variável de controle, que é o teto de gastos, precisam ser corrigidas. “Até se eu pagar o BID (Banco Interamericano de Desenvolvimento), eu furo o teto”, reclamou Guedes, lembrando que, para pagar os organismos internacionais, o governo usa uma conta no exterior que não afeta diretamente o fluxo das contas públicas internas.\\n\\nAssim que retornou ao hotel onde o presidente eleito Luiz Inácio Lula da Silva (PT) está hospedado, Haddad comentou a reunião, que não teve a participação de nenhum técnico ou assessor de ambos. “Foi excelente”, disse o ex-prefeito e economista, que é o mais cotado para assumir o Ministério da Fazenda, a ser recriado pelo governo Lula. “O plano geral de voo foi tratado tanto com aquilo que ele entende que está legando quanto com o que vamos fazer no ano que vem”, acrescentou.\\n\\nSegundo o petista, o objetivo é dar continuidade a projetos que estão em andamento e que beneficiem a população. “O Orçamento para o ano que vem não pode ser menor do que o deste ano”, emendou. \\n\\nAntes de Haddad, Guedes também já esteve reunido com o ex-ministro da Fazenda Nelson Barbosa e o professor da Universidade Estadual de Campinas (Unicamp) Guilherme Mello, integrantes da equipe de transição. O ex-prefeito ainda contou que será montado um cronograma de trabalho entre as duas equipes a partir da próxima semana.\\n\\nDurante o evento do Tesouro, Guedes voltou a fazer um balanço positivo do atual governo e voltou a criticar os economistas que erraram nas projeções para o crescimento da economia desde a pandemia da covid-19, inclusive, neste ano. “O pessoal errou porque os modelos estavam sendo recalibrados e houve muito barulho político e falsas narrativas”, frisou.\\n\\nSegundo ele, o Produto Interno Bruto (PIB) deste ano deverá crescer 3%, e, no ano que vem, poderá crescer 2,5%, o previsto nas estimativas da Economia. “O Banco Central vai começar a descer os juros e entrará o componente cíclico”, afirmou ele, sem mencionar os riscos fiscais apontados pelo Banco Central, ontem, no comunicado do Comitê de Política Monetária (Copom), em que deixou a porta aberta para novas altas na taxa básica da economia (Selic), mantida em 13,75% ao ano.\\n\\nAssine a newsletter do Correio Braziliense. E fique bem informado sobre as principais notícias do dia, no começo da manhã. Clique aqui.\\n\\nQuer ficar por dentro sobre as principais notícias do Brasil e do mundo? Siga o Correio Braziliense nas redes sociais. Estamos no Twitter, no Facebook, no Instagram, no TikTok e no YouTube. Acompanhe!  \n",
       "8634  O atraso na coleta do Censo Demográfico 2022 \"traz riscos à qualidade da informação\", alertou nesta quinta-feira, 8, o sindicato nacional dos servidores do Instituto Brasileiro de Geografia e Estatística, o ASSIGBE-SN.\\n\\n\"De forma mais imediata, é preciso alertar que o simples prolongamento da coleta traz riscos à qualidade da informação, na medida em que as entrevistas se distanciam da data de referência do censo (31 de julho)\", escreveu o sindicato, em comunicado.\\n\\nO IBGE informou na última terça-feira, 6, ter prorrogado novamente a coleta em campo do Censo. O prazo foi estendido de dezembro até, no mínimo, o fim de janeiro. O trabalho de levantamento de informações, que teve início em 1º de agosto deste ano, estava previsto inicialmente para ser concluído no fim de outubro.\\n\\n\"Um quarto da população brasileira (cerca de 50 milhões de pessoas), ainda não foi contabilizada pelo Censo 2022. Trata-se de um imenso atraso na operação, tanto em relação ao seu planejamento (era esperado que o Censo terminasse até o final de outubro) quanto se comparado ao recenseamento de 2010, que no mês de novembro já divulgava resultados substanciais\", lamentou o sindicato.\\n\\nSegundo o ASSIBGE-SN, o problema é sistêmico, uma vez que houve atraso em todas as unidades da federação, sendo possível já vislumbrar que \"o recenseamento só poderá ser concluído com o prosseguimento da coleta nos primeiros meses de 2023\".\\n\\n\"Essa situação não é de modo algum uma surpresa. As dificuldades do Censo revelam o processo de desmonte do IBGE, há muito apontado pela ASSIBGE. Mais especificamente, já em 2019 a ASSIBGE alertava que o corte orçamentário do Censo e a alteração de seu projeto técnico - determinados pelo Ministro Paulo Guedes e acatados pela direção por ele nomeada no IBGE - traziam sérios riscos à operação censitária\", declarou o sindicato.\\n\\nOs técnicos do IBGE orçaram inicialmente a operação censitária em R$ 3,1 bilhões, para que ocorresse em 2020. No entanto, a verba acabou cortada para R$ 2,3 bilhões, e os questionários foram enxugados.\\n\\nEm função da pandemia de covid-19, o levantamento foi adiado para 2021, mas acabou inviabilizado naquele ano por falta de destinação de orçamento pelo governo federal. Após decisão do Supremo Tribunal Federal, o governo do presidente Jair Bolsonaro ficou obrigado a disponibilizar recursos para a realização do Censo em 2022.\\n\\nO sindicato avalia que o orçamento inicialmente proposto, de R$ 3,1 bilhões, precisaria ser corrigido pela inflação para R$3,7 bilhões para que o Censo fosse conduzido de forma adequada.\\n\\n\"Para comparação, em 2010 a população brasileira era 10% menor do que a atual, mas ainda assim o orçamento do Censo de 2010, atualizado pela inflação, equivaleria a R$ 3,4 bilhões em 2022. A desidratação do orçamento implicou na compactação de toda estrutura do Censo: redução das equipes, diminuição na divulgação, corte no número de equipamentos e combustível, e finalmente, redução nos valores pagos aos recenseadores e supervisores\", enumerou o sindicato.\\n\\nApesar dos esforços para flexibilizar regras de contratação e melhorar a remuneração de recenseadores, o instituto permanece ainda com dificuldades de preencher as vagas necessárias em determinados locais. Como consequência, os dados sobre a população de estados e municípios que serão entregues ao Tribunal de Contas da União (TCU) em 26 de dezembro ainda precisarão ser completados, em parte, com estimativas populacionais feitas com base nos dados do novo censo. As informações sobre contingentes populacionais são usadas no rateio do Fundo de Participação de Estados e Municípios.\\n\\n\"As baixas remunerações dos recenseadores provocaram pouca procura por vagas, alta desistências e produção de questionário em ritmo lento. De um total de cerca de 180 mil recenseadores previstos para estarem trabalhando no auge da operação, apenas 140 mil estavam contratados no mês de outubro, e desse total apenas 95 mil eram considerados produtivos, o que corresponde a 52% do total de vagas disponíveis e previstas para a operação\", avaliou o ASSIBGE-SN.\\n\\nEm todo o País, o IBGE contava com 60.611 recenseadores em ação no início desta semana, cerca de um terço de todas as vagas disponibilizadas. A redução no quadro de servidores efetivos também é um empecilho ao bom andamento do trabalho censitário, aponta a entidade que representa os funcionários do órgão.\\n\\n\"Enquanto na operação censitária de 2010 o IBGE contava com 7 mil funcionários efetivos, no momento o instituto conta com pouco mais de 4 mil. O quadro reduzido resultou em uma série de gargalos na área técnica, administrativa e de informática. Para organização da rede de coleta censitária, o IBGE teve que contratar trabalhadores temporários para preencher 1.343 vagas para Coordenador de Subárea temporário (CCS) e 31 vaga para Coordenador de Área, postos estratégicos para assegurar agilidade e qualidade no Censo e que eram ocupados, nas edições anteriores, por funcionários do quadro. S...  "
      ]
     },
     "execution_count": 15,
     "metadata": {},
     "output_type": "execute_result"
    }
   ],
   "source": [
    "# Últimos dados.\n",
    "df.tail()"
   ]
  },
  {
   "cell_type": "code",
   "execution_count": 100,
   "id": "39394203",
   "metadata": {},
   "outputs": [
    {
     "data": {
      "text/plain": [
       "ID_NOTICIA           0\n",
       "URL                  0\n",
       "DATA_PUBLICACAO    147\n",
       "AUTOR                0\n",
       "TITULO               0\n",
       "TEXTO                0\n",
       "dtype: int64"
      ]
     },
     "execution_count": 100,
     "metadata": {},
     "output_type": "execute_result"
    }
   ],
   "source": [
    "# Verificando ausentes ou nulos.\n",
    "df.isnull().sum()"
   ]
  },
  {
   "cell_type": "code",
   "execution_count": 101,
   "id": "0317b73f",
   "metadata": {},
   "outputs": [
    {
     "data": {
      "text/plain": [
       "{\"'Correio Braziliense'\"}                                                        1153\n",
       "{\"'Agência Estado'\"}                                                              782\n",
       "{\"'Observatorio dos Famosos'\"}                                                    282\n",
       "{}                                                                                242\n",
       "{\"'Observatório dos Famosos'\"}                                                    196\n",
       "                                                                                 ... \n",
       "{\"'Mila Ferreira, Gabriela Ornelas'\"}                                               1\n",
       "{\"'Clara Mariz, Hiago Rocha - TV Alterosa e Maicon Costa - Estado de Minas'\"}       1\n",
       "{\"'Guy Hedgecoe - Da BBC News em Madri'\"}                                           1\n",
       "{\"'Carlos Silva*Isac Mascarenhas*'\"}                                                1\n",
       "{\"'Letícia Mori @leticiamori_ - Da BBC News Brasil em São Paulo'\"}                  1\n",
       "Name: AUTOR, Length: 914, dtype: int64"
      ]
     },
     "execution_count": 101,
     "metadata": {},
     "output_type": "execute_result"
    }
   ],
   "source": [
    "# # notícias por autor.\n",
    "df.AUTOR.value_counts()"
   ]
  },
  {
   "cell_type": "code",
   "execution_count": 104,
   "id": "9eaefe9f",
   "metadata": {},
   "outputs": [
    {
     "data": {
      "text/plain": [
       "200"
      ]
     },
     "execution_count": 104,
     "metadata": {},
     "output_type": "execute_result"
    }
   ],
   "source": [
    "# Maior título de notícia pelo tamanho do título.\n",
    "tamanho = []\n",
    "for i in df.TITULO:\n",
    "    tamanho.append(len(i))\n",
    "    \n",
    "max(tamanho)"
   ]
  },
  {
   "cell_type": "code",
   "execution_count": 105,
   "id": "590b2b1c",
   "metadata": {},
   "outputs": [
    {
     "data": {
      "text/plain": [
       "153350"
      ]
     },
     "execution_count": 105,
     "metadata": {},
     "output_type": "execute_result"
    }
   ],
   "source": [
    "# Maior texto de notícia pelo tamanho do texto.\n",
    "tamanho = []\n",
    "for i in df.TEXTO:\n",
    "    tamanho.append(len(i))\n",
    "    \n",
    "max(tamanho)"
   ]
  },
  {
   "cell_type": "markdown",
   "id": "d7f76197",
   "metadata": {},
   "source": [
    "## 2 - Preparando Corpus"
   ]
  },
  {
   "cell_type": "code",
   "execution_count": 16,
   "id": "4ed86725",
   "metadata": {},
   "outputs": [],
   "source": [
    "# Salva conteúdo corpus das notícias.\n",
    "def salva_conteudo_corpus(path, nome_arquivo, texto):\n",
    "    # Open arquivo '.txt'.\n",
    "    text_file = open(path+nome_arquivo, \"w\", encoding='utf-8')\n",
    " \n",
    "    # Write string para o arquivo.\n",
    "    text_file.write(texto)\n",
    " \n",
    "    # Close arquivo '.txt'.\n",
    "    text_file.close()"
   ]
  },
  {
   "cell_type": "code",
   "execution_count": 36,
   "id": "058617b1",
   "metadata": {},
   "outputs": [
    {
     "name": "stdout",
     "output_type": "stream",
     "text": [
      "Quantidade de caracteres no corpus: [ 27273619 ]\n"
     ]
    }
   ],
   "source": [
    "# Junta todo o conteudo das notícias.\n",
    "conteudo = ''\n",
    "\n",
    "for linha in range(0, len(df['TEXTO'])):\n",
    "    conteudo=conteudo+df['TEXTO'][linha]\n",
    "\n",
    "print(\"Quantidade de caracteres no corpus: [\", len(conteudo), \"]\")\n",
    "\n",
    "salva_conteudo_corpus(path, \"conteudo_noticias.txt\", conteudo)"
   ]
  },
  {
   "cell_type": "code",
   "execution_count": 4,
   "id": "c2f53889",
   "metadata": {},
   "outputs": [
    {
     "name": "stdout",
     "output_type": "stream",
     "text": [
      "Quantidade de caracteres no corpus: [ 27273619 ]\n",
      "\n",
      "A oito dias das eleições, os dois principais candidatos à Presidência, Jair Bolsonaro (PL) e Luiz Inácio Lula da Silva (PT), jogam os últimos lances para a semana final antes do primeiro turno de votação, em 2 de outubro. Mas, se na campanha petista a recomendação é de calçar as \"sandálias da humildade\" e evitar a euforia da cada vez maior possibilidade de vitória no primeiro turno, na do presidente acendeu a luz de emergência.\n",
      "\n",
      "O comitê de campanha tenta uma correção de rumo por causa das segui\n"
     ]
    }
   ],
   "source": [
    "# Abrindo o arquivo txt, armazenando o seu conteúdo em uma variável\n",
    "with open(path+\"conteudo_noticias.txt\", mode='r', encoding='utf-8') as f:\n",
    "    conteudo_treino = f.read()\n",
    "\n",
    "print(\"Quantidade de caracteres no corpus: [\", len(conteudo_treino), \"]\")\n",
    "print()\n",
    "# Mostrando uma parte do conteúdo do arquivo\n",
    "print(conteudo_treino[:500])"
   ]
  },
  {
   "cell_type": "code",
   "execution_count": 5,
   "id": "fbeccec4",
   "metadata": {},
   "outputs": [
    {
     "name": "stdout",
     "output_type": "stream",
     "text": [
      "Quantidade de caracteres no corpus: [ 27273619 ]\n"
     ]
    }
   ],
   "source": [
    "# lowercase - passa o corpus para letras minúsculas.\n",
    "conteudo_lower = conteudo_treino.lower()\n",
    "# print(conteudo_lower[:10000])\n",
    "print(\"Quantidade de caracteres no corpus: [\", len(conteudo_lower), \"]\")"
   ]
  },
  {
   "cell_type": "code",
   "execution_count": 6,
   "id": "b6692a15",
   "metadata": {},
   "outputs": [
    {
     "name": "stdout",
     "output_type": "stream",
     "text": [
      "Quantidade de caracteres no corpus: [ 27273619 ]\n"
     ]
    }
   ],
   "source": [
    "# retira pontuações do corpus, permanecendo somentes as palavras.\n",
    "conteudo_sem_pontuacao = re.sub(r'[^\\w\\s]', ' ', conteudo_lower)\n",
    "# print(conteudo[:10000])\n",
    "print(\"Quantidade de caracteres no corpus: [\", len(conteudo_sem_pontuacao), \"]\")"
   ]
  },
  {
   "cell_type": "code",
   "execution_count": 7,
   "id": "9ebfce85",
   "metadata": {},
   "outputs": [
    {
     "name": "stdout",
     "output_type": "stream",
     "text": [
      "Quantidade total de palvras no corpus: [ 4464813 ]\n",
      "Quantidade total de palvras unicas no corpus (vocabulário): [ 86481 ]\n"
     ]
    }
   ],
   "source": [
    "# tokenize o corpus por palavras.\n",
    "conteudo_tokens = re.findall(r'\\w+', conteudo_sem_pontuacao)\n",
    "# print(conteudo_tokens[:10000])\n",
    "print(\"Quantidade total de palvras no corpus: [\", len(conteudo_tokens), \"]\")\n",
    "print(\"Quantidade total de palvras unicas no corpus (vocabulário): [\", len(set(conteudo_tokens)), \"]\")"
   ]
  },
  {
   "cell_type": "markdown",
   "id": "9db23738",
   "metadata": {},
   "source": [
    "## 3 - Preparanção do Corretor Ortográfico"
   ]
  },
  {
   "cell_type": "markdown",
   "id": "75ffe2f6",
   "metadata": {},
   "source": [
    "### 3.1 -  Palavra com letra faltante (ERRO)."
   ]
  },
  {
   "cell_type": "code",
   "execution_count": 25,
   "id": "ba8c3c53",
   "metadata": {},
   "outputs": [],
   "source": [
    "def insere_letras_faltantes(palavra_fatiada):\n",
    "    \"\"\"\n",
    "    Função para inserir letra ou letras faltantes na palavra informada.\n",
    "    Recebe uma lista de tuplas (esquerdo, direito) que corresponde aos lados\n",
    "    esquerdo e direito da palavra fatiada em dois.\n",
    "    \"\"\"\n",
    "\n",
    "    # Lista vazia para armazenar as palavras corrigidas.\n",
    "    novas_palavras = []\n",
    "\n",
    "    # Todas as letras do alfabeto e as vogais acentuadas.\n",
    "    letras = 'abcedfghijklmnopqrstuvwxyzáâàãéêèíîìóôòõúûùç'\n",
    "\n",
    "    # Iterando por todas as tuplas da lista recebida\n",
    "    for esquerdo, direito in palavra_fatiada:\n",
    "        \n",
    "        # Iterando por toda letra das variável letras\n",
    "        for letra in letras:\n",
    "\n",
    "            # Acrescentando todas as possibilidades de palavras possíveis\n",
    "            novas_palavras.append(esquerdo + letra + direito)\n",
    "    \n",
    "    # Retornando uma lista de possíveis palavras\n",
    "    return novas_palavras"
   ]
  },
  {
   "cell_type": "code",
   "execution_count": 26,
   "id": "85adb6d2",
   "metadata": {},
   "outputs": [
    {
     "name": "stdout",
     "output_type": "stream",
     "text": [
      "['programaaão', 'programabão', 'programacão', 'programaeão', 'programadão', 'programafão', 'programagão', 'programahão', 'programaião', 'programajão', 'programakão', 'programalão', 'programamão', 'programanão', 'programaoão', 'programapão', 'programaqão', 'programarão', 'programasão', 'programatão', 'programauão', 'programavão', 'programawão', 'programaxão', 'programayão', 'programazão', 'programaáão', 'programaâão', 'programaàão', 'programaãão', 'programaéão', 'programaêão', 'programaèão', 'programaíão', 'programaîão', 'programaìão', 'programaóão', 'programaôão', 'programaòão', 'programaõão', 'programaúão', 'programaûão', 'programaùão', 'programação']\n"
     ]
    }
   ],
   "source": [
    "# Testando a função\n",
    "print(insere_letras_faltantes([('programa', 'ão')]))"
   ]
  },
  {
   "cell_type": "code",
   "execution_count": 27,
   "id": "392b8fc2",
   "metadata": {},
   "outputs": [],
   "source": [
    "def gera_palavras_1(palavra):\n",
    "    \"\"\"\n",
    "    Função para gerar possíveis palavras de acordo com a palavra passada e fatiada pela lógica.\n",
    "    \"\"\"\n",
    "\n",
    "    # Lista vazia para armazenar as duas fatias de cada palavra.\n",
    "    fatias = []\n",
    "\n",
    "    # Iterando por cada letra de cada palavra.\n",
    "    for i in range(len(palavra) + 1):\n",
    "\n",
    "        # Armazenando as duas fatias em uma tupla e essa tupla em uma lista.\n",
    "        fatias.append((palavra[:i], palavra[i:]))\n",
    "\n",
    "    # Chamando a função 'insere_letras_faltantes' com a lista de tuplas das fatias recém-criadas.\n",
    "    palavras_geradas = insere_letras_faltantes(fatias)\n",
    "\n",
    "    # Retornando a lista de possíveis palavras. A palavra correta estará aí no meio.\n",
    "    return palavras_geradas"
   ]
  },
  {
   "cell_type": "code",
   "execution_count": 28,
   "id": "4de49a85",
   "metadata": {},
   "outputs": [
    {
     "name": "stdout",
     "output_type": "stream",
     "text": [
      "Quantidade de palavra geradas: [ 484 ]\n",
      "\n",
      "['aprogramaão', 'bprogramaão', 'cprogramaão', 'eprogramaão', 'dprogramaão', 'fprogramaão', 'gprogramaão', 'hprogramaão', 'iprogramaão', 'jprogramaão', 'kprogramaão', 'lprogramaão', 'mprogramaão', 'nprogramaão', 'oprogramaão', 'pprogramaão', 'qprogramaão', 'rprogramaão', 'sprogramaão', 'tprogramaão', 'uprogramaão', 'vprogramaão', 'wprogramaão', 'xprogramaão', 'yprogramaão', 'zprogramaão', 'áprogramaão', 'âprogramaão', 'àprogramaão', 'ãprogramaão', 'éprogramaão', 'êprogramaão', 'èprogramaão', 'íprogramaão', 'îprogramaão', 'ìprogramaão', 'óprogramaão', 'ôprogramaão', 'òprogramaão', 'õprogramaão', 'úprogramaão', 'ûprogramaão', 'ùprogramaão', 'çprogramaão', 'parogramaão', 'pbrogramaão', 'pcrogramaão', 'perogramaão', 'pdrogramaão', 'pfrogramaão', 'pgrogramaão', 'phrogramaão', 'pirogramaão', 'pjrogramaão', 'pkrogramaão', 'plrogramaão', 'pmrogramaão', 'pnrogramaão', 'porogramaão', 'pprogramaão', 'pqrogramaão', 'prrogramaão', 'psrogramaão', 'ptrogramaão', 'purogramaão', 'pvrogramaão', 'pwrogramaão', 'pxrogramaão', 'pyrogramaão', 'pzrogramaão', 'párogramaão', 'pârogramaão', 'pàrogramaão', 'pãrogramaão', 'pérogramaão', 'pêrogramaão', 'pèrogramaão', 'pírogramaão', 'pîrogramaão', 'pìrogramaão', 'pórogramaão', 'pôrogramaão', 'pòrogramaão', 'põrogramaão', 'púrogramaão', 'pûrogramaão', 'pùrogramaão', 'pçrogramaão', 'praogramaão', 'prbogramaão', 'prcogramaão', 'preogramaão', 'prdogramaão', 'prfogramaão', 'prgogramaão', 'prhogramaão', 'priogramaão', 'prjogramaão', 'prkogramaão', 'prlogramaão', 'prmogramaão', 'prnogramaão', 'proogramaão', 'prpogramaão', 'prqogramaão', 'prrogramaão', 'prsogramaão', 'prtogramaão', 'pruogramaão', 'prvogramaão', 'prwogramaão', 'prxogramaão', 'pryogramaão', 'przogramaão', 'práogramaão', 'prâogramaão', 'pràogramaão', 'prãogramaão', 'préogramaão', 'prêogramaão', 'prèogramaão', 'príogramaão', 'prîogramaão', 'prìogramaão', 'próogramaão', 'prôogramaão', 'pròogramaão', 'prõogramaão', 'prúogramaão', 'prûogramaão', 'prùogramaão', 'prçogramaão', 'proagramaão', 'probgramaão', 'procgramaão', 'proegramaão', 'prodgramaão', 'profgramaão', 'proggramaão', 'prohgramaão', 'proigramaão', 'projgramaão', 'prokgramaão', 'prolgramaão', 'promgramaão', 'prongramaão', 'proogramaão', 'propgramaão', 'proqgramaão', 'prorgramaão', 'prosgramaão', 'protgramaão', 'prougramaão', 'provgramaão', 'prowgramaão', 'proxgramaão', 'proygramaão', 'prozgramaão', 'proágramaão', 'proâgramaão', 'proàgramaão', 'proãgramaão', 'proégramaão', 'proêgramaão', 'proègramaão', 'proígramaão', 'proîgramaão', 'proìgramaão', 'proógramaão', 'proôgramaão', 'proògramaão', 'proõgramaão', 'proúgramaão', 'proûgramaão', 'proùgramaão', 'proçgramaão', 'progaramaão', 'progbramaão', 'progcramaão', 'progeramaão', 'progdramaão', 'progframaão', 'proggramaão', 'proghramaão', 'progiramaão', 'progjramaão', 'progkramaão', 'proglramaão', 'progmramaão', 'prognramaão', 'progoramaão', 'progpramaão', 'progqramaão', 'progrramaão', 'progsramaão', 'progtramaão', 'proguramaão', 'progvramaão', 'progwramaão', 'progxramaão', 'progyramaão', 'progzramaão', 'progáramaão', 'progâramaão', 'progàramaão', 'progãramaão', 'progéramaão', 'progêramaão', 'progèramaão', 'progíramaão', 'progîramaão', 'progìramaão', 'progóramaão', 'progôramaão', 'progòramaão', 'progõramaão', 'progúramaão', 'progûramaão', 'progùramaão', 'progçramaão', 'prograamaão', 'progrbamaão', 'progrcamaão', 'progreamaão', 'progrdamaão', 'progrfamaão', 'progrgamaão', 'progrhamaão', 'progriamaão', 'progrjamaão', 'progrkamaão', 'progrlamaão', 'progrmamaão', 'progrnamaão', 'progroamaão', 'progrpamaão', 'progrqamaão', 'progrramaão', 'progrsamaão', 'progrtamaão', 'progruamaão', 'progrvamaão', 'progrwamaão', 'progrxamaão', 'progryamaão', 'progrzamaão', 'prográamaão', 'progrâamaão', 'progràamaão', 'progrãamaão', 'progréamaão', 'progrêamaão', 'progrèamaão', 'progríamaão', 'progrîamaão', 'progrìamaão', 'progróamaão', 'progrôamaão', 'progròamaão', 'progrõamaão', 'progrúamaão', 'progrûamaão', 'progrùamaão', 'progrçamaão', 'prograamaão', 'prograbmaão', 'progracmaão', 'prograemaão', 'progradmaão', 'prografmaão', 'progragmaão', 'prograhmaão', 'prograimaão', 'prograjmaão', 'prograkmaão', 'progralmaão', 'programmaão', 'progranmaão', 'prograomaão', 'prograpmaão', 'prograqmaão', 'prograrmaão', 'prograsmaão', 'progratmaão', 'prograumaão', 'progravmaão', 'prograwmaão', 'prograxmaão', 'prograymaão', 'prograzmaão', 'prograámaão', 'prograâmaão', 'prograàmaão', 'prograãmaão', 'prograémaão', 'prograêmaão', 'prograèmaão', 'prograímaão', 'prograîmaão', 'prograìmaão', 'prograómaão', 'prograômaão', 'prograòmaão', 'prograõmaão', 'prograúmaão', 'prograûmaão', 'prograùmaão', 'prograçmaão', 'programaaão', 'programbaão', 'programcaão', 'programeaão', 'programdaão', 'programfaão', 'programgaão', 'programhaão', 'programiaão', 'programjaão', 'programkaão', 'programlaão', 'programmaão', 'programnaão', 'programoaão', 'programpaão', 'programqaão', 'programraão', 'programsaão', 'programtaão', 'programuaão', 'programvaão', 'programwaão', 'programxaão', 'programyaão', 'programzaão', 'programáaão', 'programâaão', 'programàaão', 'programãaão', 'programéaão', 'programêaão', 'programèaão', 'programíaão', 'programîaão', 'programìaão', 'programóaão', 'programôaão', 'programòaão', 'programõaão', 'programúaão', 'programûaão', 'programùaão', 'programçaão', 'programaaão', 'programabão', 'programacão', 'programaeão', 'programadão', 'programafão', 'programagão', 'programahão', 'programaião', 'programajão', 'programakão', 'programalão', 'programamão', 'programanão', 'programaoão', 'programapão', 'programaqão', 'programarão', 'programasão', 'programatão', 'programauão', 'programavão', 'programawão', 'programaxão', 'programayão', 'programazão', 'programaáão', 'programaâão', 'programaàão', 'programaãão', 'programaéão', 'programaêão', 'programaèão', 'programaíão', 'programaîão', 'programaìão', 'programaóão', 'programaôão', 'programaòão', 'programaõão', 'programaúão', 'programaûão', 'programaùão', 'programação', 'programaãao', 'programaãbo', 'programaãco', 'programaãeo', 'programaãdo', 'programaãfo', 'programaãgo', 'programaãho', 'programaãio', 'programaãjo', 'programaãko', 'programaãlo', 'programaãmo', 'programaãno', 'programaãoo', 'programaãpo', 'programaãqo', 'programaãro', 'programaãso', 'programaãto', 'programaãuo', 'programaãvo', 'programaãwo', 'programaãxo', 'programaãyo', 'programaãzo', 'programaãáo', 'programaãâo', 'programaãào', 'programaãão', 'programaãéo', 'programaãêo', 'programaãèo', 'programaãío', 'programaãîo', 'programaãìo', 'programaãóo', 'programaãôo', 'programaãòo', 'programaãõo', 'programaãúo', 'programaãûo', 'programaãùo', 'programaãço', 'programaãoa', 'programaãob', 'programaãoc', 'programaãoe', 'programaãod', 'programaãof', 'programaãog', 'programaãoh', 'programaãoi', 'programaãoj', 'programaãok', 'programaãol', 'programaãom', 'programaãon', 'programaãoo', 'programaãop', 'programaãoq', 'programaãor', 'programaãos', 'programaãot', 'programaãou', 'programaãov', 'programaãow', 'programaãox', 'programaãoy', 'programaãoz', 'programaãoá', 'programaãoâ', 'programaãoà', 'programaãoã', 'programaãoé', 'programaãoê', 'programaãoè', 'programaãoí', 'programaãoî', 'programaãoì', 'programaãoó', 'programaãoô', 'programaãoò', 'programaãoõ', 'programaãoú', 'programaãoû', 'programaãoù', 'programaãoç']\n"
     ]
    }
   ],
   "source": [
    "# Testando a função\n",
    "palavras_geradas = gera_palavras_1('programaão')\n",
    "print(\"Quantidade de palavra geradas: [\", len(palavras_geradas), \"]\", end=\"\\n\\n\")\n",
    "print(palavras_geradas)"
   ]
  },
  {
   "cell_type": "code",
   "execution_count": 29,
   "id": "5ca7b7c4",
   "metadata": {},
   "outputs": [
    {
     "name": "stdout",
     "output_type": "stream",
     "text": [
      "A palavra correta é [ programação ]\n",
      "Ela está dentro da lista na posição [ 395 ]\n"
     ]
    }
   ],
   "source": [
    "# Mostra a palavra correta que está dentro da lista de possíveis palavra.\n",
    "for palavra in palavras_geradas:\n",
    "\n",
    "    # Selecionando a palavra correta\n",
    "    if palavra == 'programação':\n",
    "\n",
    "        # Mostrando que a palavra correta está dentro dessa lista\n",
    "        print(\"A palavra correta é [\", palavra, \"]\\nEla está dentro da lista na posição [\", palavras_geradas.index(palavra), \"]\")"
   ]
  },
  {
   "cell_type": "code",
   "execution_count": 30,
   "id": "ef84e68c",
   "metadata": {},
   "outputs": [
    {
     "data": {
      "text/plain": [
       "[('de', 206086),\n",
       " ('a', 146019),\n",
       " ('o', 138674),\n",
       " ('e', 121862),\n",
       " ('que', 99301),\n",
       " ('do', 90279),\n",
       " ('da', 68367),\n",
       " ('em', 64407),\n",
       " ('no', 61719),\n",
       " ('para', 55206)]"
      ]
     },
     "execution_count": 30,
     "metadata": {},
     "output_type": "execute_result"
    }
   ],
   "source": [
    "# Calculo da frequência que determinada palavra aparece dentro do corpus. Usando a função FreqDist() da biblioteca nltk. \n",
    "\n",
    "# Calcula a frequencia por palavra.\n",
    "frequencia = nltk.FreqDist(conteudo_tokens)\n",
    "\n",
    "# Calculando o total de palavras.\n",
    "total_palavras = len(conteudo_tokens)\n",
    "\n",
    "# Mostrando as 10 palavras mais comuns da nossa lista_normalizada\n",
    "frequencia.most_common(10)"
   ]
  },
  {
   "cell_type": "markdown",
   "id": "8c4ca91c",
   "metadata": {},
   "source": [
    "Lembrando que por se tratar de um Corretor Ortográfico, não retiramos as palavras denominadas como `stopwords`: `o, a, os, as, de, da, que, para` e assim por diante. "
   ]
  },
  {
   "cell_type": "code",
   "execution_count": 31,
   "id": "4ea85993",
   "metadata": {},
   "outputs": [],
   "source": [
    "def probabilidade_palavra(palavra_gerada):\n",
    "    \"\"\"\n",
    "    Função para calcular a probabilidade de determinada palavra aparecer em nosso corpus.\n",
    "    \"\"\"\n",
    "    # Retorna a probabilidade de determinada palavra aparecer no nosso corpus\n",
    "    return frequencia[palavra_gerada] / total_palavras"
   ]
  },
  {
   "cell_type": "code",
   "execution_count": 32,
   "id": "e2f33156",
   "metadata": {},
   "outputs": [],
   "source": [
    "def corretor_palavra_1(palavra_errada):\n",
    "    \"\"\"\n",
    "    Função que recebe uma palavra errada, e retorna a palavra corrigida.\n",
    "    \"\"\"\n",
    "    # Chama a função 'gera_palavras'.\n",
    "    palavras_geradas = gera_palavras_1(palavra_errada)\n",
    "\n",
    "    # Selecionando a palavra com maior probabilidade de aparecer em nosso corpus\n",
    "    # Essa será a palavra correta\n",
    "    palavra_correta = max(palavras_geradas, key=probabilidade_palavra)\n",
    "\n",
    "    # Retornando a palavra corrigida\n",
    "    return palavra_correta"
   ]
  },
  {
   "cell_type": "code",
   "execution_count": 36,
   "id": "9882e8ba",
   "metadata": {},
   "outputs": [
    {
     "data": {
      "text/plain": [
       "'programação'"
      ]
     },
     "execution_count": 36,
     "metadata": {},
     "output_type": "execute_result"
    }
   ],
   "source": [
    "# Testando o corretor.\n",
    "corretor_palavra_1('programaão')"
   ]
  },
  {
   "cell_type": "code",
   "execution_count": 37,
   "id": "319d5bc6",
   "metadata": {},
   "outputs": [
    {
     "data": {
      "text/plain": [
       "'teste'"
      ]
     },
     "execution_count": 37,
     "metadata": {},
     "output_type": "execute_result"
    }
   ],
   "source": [
    "# Testando o corretor.\n",
    "corretor_palavra_1('test')"
   ]
  },
  {
   "cell_type": "code",
   "execution_count": 38,
   "id": "a9bb7588",
   "metadata": {},
   "outputs": [
    {
     "data": {
      "text/plain": [
       "'lógica'"
      ]
     },
     "execution_count": 38,
     "metadata": {},
     "output_type": "execute_result"
    }
   ],
   "source": [
    "# Testando o corretor.\n",
    "corretor_palavra_1('lgica')"
   ]
  },
  {
   "cell_type": "markdown",
   "id": "c4d80c65",
   "metadata": {},
   "source": [
    "### Avaliação do corretor"
   ]
  },
  {
   "cell_type": "code",
   "execution_count": 39,
   "id": "f1a91e5f",
   "metadata": {},
   "outputs": [],
   "source": [
    "def cria_dados_teste(nome_arquivo):\n",
    "    \"\"\"\n",
    "    Função que recebe o nome de um arquivo com uma série de palavras digitadas correta e \n",
    "    incorretamente para podermos avaliar o nosso corretor.\n",
    "    \"\"\"\n",
    "\n",
    "    # Criando um lista vazia para armazenar as palavras de teste.\n",
    "    lista_palavras_teste = []\n",
    "\n",
    "    # Abre o arquivo em mode de leitura.\n",
    "    f = open(nome_arquivo, 'r', encoding='utf-8')\n",
    "\n",
    "    # Iterando em toda linha do conteúdo do arquivo de teste.\n",
    "    for linha in f:\n",
    "        #print(linha)\n",
    "        # Separando as palavras digitadas correta e incorretamente avaliarmos.\n",
    "        correta, errada = linha.split()\n",
    "\n",
    "        # Armazenando em uma lista as tuplas formadas pelas palavras digitadas correta e incorretamente.\n",
    "        lista_palavras_teste.append((correta, errada))\n",
    "    \n",
    "    # Fechando o arquivo\n",
    "    f.close()\n",
    "\n",
    "    # Retornando a lista com as tuplas de palavras digitadas coreta e incorretamante.\n",
    "    return lista_palavras_teste"
   ]
  },
  {
   "cell_type": "code",
   "execution_count": 40,
   "id": "a38d105b",
   "metadata": {},
   "outputs": [],
   "source": [
    "# Chamando a função cria_dados_teste() com o nome do arquivo que contém as palavras de teste.\n",
    "lista_teste = cria_dados_teste('palavras.txt')"
   ]
  },
  {
   "cell_type": "code",
   "execution_count": 41,
   "id": "3b80485d",
   "metadata": {},
   "outputs": [],
   "source": [
    "def avalia_corretor(testes, corretor_teste):\n",
    "    \"\"\"\n",
    "    Função que recebe uma lista com as tuplas de palavras de teste para avaliar o corretor.\n",
    "    \"\"\"\n",
    "\n",
    "    # Calculando o número de palavras da lista de teste.\n",
    "    numero_palavras = len(testes)\n",
    "\n",
    "    # Setando um contador.\n",
    "    acertou = 0\n",
    "\n",
    "    # Iterando por cada tupla dentro da lista de teste.\n",
    "    for correta, errada in testes:\n",
    "\n",
    "        # Chamando a função corretor() passando cada palavra digitada incorretamente.\n",
    "        palavra_corrigida = corretor_teste(errada)\n",
    "\n",
    "        # Conferindo cada palavra para ver se ele conseguiu corrigir.\n",
    "        if palavra_corrigida == correta:\n",
    "\n",
    "            # Incrementando o contador.\n",
    "            acertou += 1\n",
    "    \n",
    "    # Calculando a taxa de acerto do nosso corretor.\n",
    "    taxa_acerto = round(acertou * 100 / numero_palavras, 2)\n",
    "\n",
    "    # Mostrando a taxa de acerto doe nosso corretor.\n",
    "    print(f'{taxa_acerto}% de {numero_palavras} palavras')"
   ]
  },
  {
   "cell_type": "code",
   "execution_count": 42,
   "id": "6939387a",
   "metadata": {},
   "outputs": [
    {
     "name": "stdout",
     "output_type": "stream",
     "text": [
      "2.15% de 186 palavras\n"
     ]
    }
   ],
   "source": [
    "# Testa corretor.\n",
    "avalia_corretor(lista_teste, corretor_palavra_1)"
   ]
  },
  {
   "cell_type": "markdown",
   "id": "730dd9d3",
   "metadata": {},
   "source": [
    "### 3.2 -  Palavra com uma letra a mais (ERRO)."
   ]
  },
  {
   "cell_type": "code",
   "execution_count": 43,
   "id": "ff193c0d",
   "metadata": {},
   "outputs": [],
   "source": [
    "def deleta_caracter(fatias):\n",
    "    \"\"\"\n",
    "    Função para deletar um caracter depois que recebe as fatias.\n",
    "    \"\"\"\n",
    "\n",
    "    # Criando uma lista vazia para armazenar as palavras corrigidas.\n",
    "    novas_palavras = []\n",
    "\n",
    "    # Iterando por todas as tuplas da lista recebida.\n",
    "    for esquerdo, direito in fatias:\n",
    "\n",
    "        # Acrescentando todas as possibilidades de palavras possíveis.\n",
    "        novas_palavras.append(esquerdo + direito[1:])\n",
    "    \n",
    "    # Retornando uma lista de possíveis palavras.\n",
    "    return novas_palavras"
   ]
  },
  {
   "cell_type": "code",
   "execution_count": 44,
   "id": "15e929a1",
   "metadata": {},
   "outputs": [
    {
     "data": {
      "text/plain": [
       "['programação']"
      ]
     },
     "execution_count": 44,
     "metadata": {},
     "output_type": "execute_result"
    }
   ],
   "source": [
    "# Testando função.\n",
    "# Criando um exemplo para testarmos a nova função.\n",
    "exemplo = [('progr', 'samação')]\n",
    "\n",
    "# Chamando a função deletando_caracter() passando como parâmetro um exemplo.\n",
    "deleta_caracter(exemplo)"
   ]
  },
  {
   "cell_type": "code",
   "execution_count": 45,
   "id": "ee52dc0e",
   "metadata": {},
   "outputs": [],
   "source": [
    "def gera_palavras_2(palavra):\n",
    "    \"\"\"\n",
    "    Função para gerar possíveis palavras de acordo com a palavra passada e fatiada pela lógica.\n",
    "    \"\"\"\n",
    "\n",
    "    # Lista vazia para armazenar as duas fatias de cada palavra.\n",
    "    fatias = []\n",
    "\n",
    "    # Iterando por cada letra de cada palavra.\n",
    "    for i in range(len(palavra) + 1):\n",
    "\n",
    "        # Armazenando as duas fatias em uma tupla e essa tupla em uma lista.\n",
    "        fatias.append((palavra[:i], palavra[i:]))\n",
    "\n",
    "    # Chamando a função 'insere_letras_faltantes' com a lista de tuplas das fatias recém-criadas.\n",
    "    palavras_geradas = insere_letras_faltantes(fatias)\n",
    "\n",
    "    # Acrescentando mais uma função, aqui que o novo corretor começa.\n",
    "    palavras_geradas += deleta_caracter(fatias)\n",
    "\n",
    "    # Retornando a lista de possíveis palavras. A palavra correta estará aí no meio.\n",
    "    return palavras_geradas"
   ]
  },
  {
   "cell_type": "code",
   "execution_count": 130,
   "id": "cb2eb327",
   "metadata": {},
   "outputs": [
    {
     "name": "stdout",
     "output_type": "stream",
     "text": [
      "Quantidade de palavra geradas: [ 585 ]\n",
      "\n",
      "['aprogrsamação', 'bprogrsamação', 'cprogrsamação', 'eprogrsamação', 'dprogrsamação', 'fprogrsamação', 'gprogrsamação', 'hprogrsamação', 'iprogrsamação', 'jprogrsamação', 'kprogrsamação', 'lprogrsamação', 'mprogrsamação', 'nprogrsamação', 'oprogrsamação', 'pprogrsamação', 'qprogrsamação', 'rprogrsamação', 'sprogrsamação', 'tprogrsamação', 'uprogrsamação', 'vprogrsamação', 'wprogrsamação', 'xprogrsamação', 'yprogrsamação', 'zprogrsamação', 'áprogrsamação', 'âprogrsamação', 'àprogrsamação', 'ãprogrsamação', 'éprogrsamação', 'êprogrsamação', 'èprogrsamação', 'íprogrsamação', 'îprogrsamação', 'ìprogrsamação', 'óprogrsamação', 'ôprogrsamação', 'òprogrsamação', 'õprogrsamação', 'úprogrsamação', 'ûprogrsamação', 'ùprogrsamação', 'çprogrsamação', 'parogrsamação', 'pbrogrsamação', 'pcrogrsamação', 'perogrsamação', 'pdrogrsamação', 'pfrogrsamação', 'pgrogrsamação', 'phrogrsamação', 'pirogrsamação', 'pjrogrsamação', 'pkrogrsamação', 'plrogrsamação', 'pmrogrsamação', 'pnrogrsamação', 'porogrsamação', 'pprogrsamação', 'pqrogrsamação', 'prrogrsamação', 'psrogrsamação', 'ptrogrsamação', 'purogrsamação', 'pvrogrsamação', 'pwrogrsamação', 'pxrogrsamação', 'pyrogrsamação', 'pzrogrsamação', 'párogrsamação', 'pârogrsamação', 'pàrogrsamação', 'pãrogrsamação', 'pérogrsamação', 'pêrogrsamação', 'pèrogrsamação', 'pírogrsamação', 'pîrogrsamação', 'pìrogrsamação', 'pórogrsamação', 'pôrogrsamação', 'pòrogrsamação', 'põrogrsamação', 'púrogrsamação', 'pûrogrsamação', 'pùrogrsamação', 'pçrogrsamação', 'praogrsamação', 'prbogrsamação', 'prcogrsamação', 'preogrsamação', 'prdogrsamação', 'prfogrsamação', 'prgogrsamação', 'prhogrsamação', 'priogrsamação', 'prjogrsamação', 'prkogrsamação', 'prlogrsamação', 'prmogrsamação', 'prnogrsamação', 'proogrsamação', 'prpogrsamação', 'prqogrsamação', 'prrogrsamação', 'prsogrsamação', 'prtogrsamação', 'pruogrsamação', 'prvogrsamação', 'prwogrsamação', 'prxogrsamação', 'pryogrsamação', 'przogrsamação', 'práogrsamação', 'prâogrsamação', 'pràogrsamação', 'prãogrsamação', 'préogrsamação', 'prêogrsamação', 'prèogrsamação', 'príogrsamação', 'prîogrsamação', 'prìogrsamação', 'próogrsamação', 'prôogrsamação', 'pròogrsamação', 'prõogrsamação', 'prúogrsamação', 'prûogrsamação', 'prùogrsamação', 'prçogrsamação', 'proagrsamação', 'probgrsamação', 'procgrsamação', 'proegrsamação', 'prodgrsamação', 'profgrsamação', 'proggrsamação', 'prohgrsamação', 'proigrsamação', 'projgrsamação', 'prokgrsamação', 'prolgrsamação', 'promgrsamação', 'prongrsamação', 'proogrsamação', 'propgrsamação', 'proqgrsamação', 'prorgrsamação', 'prosgrsamação', 'protgrsamação', 'prougrsamação', 'provgrsamação', 'prowgrsamação', 'proxgrsamação', 'proygrsamação', 'prozgrsamação', 'proágrsamação', 'proâgrsamação', 'proàgrsamação', 'proãgrsamação', 'proégrsamação', 'proêgrsamação', 'proègrsamação', 'proígrsamação', 'proîgrsamação', 'proìgrsamação', 'proógrsamação', 'proôgrsamação', 'proògrsamação', 'proõgrsamação', 'proúgrsamação', 'proûgrsamação', 'proùgrsamação', 'proçgrsamação', 'progarsamação', 'progbrsamação', 'progcrsamação', 'progersamação', 'progdrsamação', 'progfrsamação', 'proggrsamação', 'proghrsamação', 'progirsamação', 'progjrsamação', 'progkrsamação', 'proglrsamação', 'progmrsamação', 'prognrsamação', 'progorsamação', 'progprsamação', 'progqrsamação', 'progrrsamação', 'progsrsamação', 'progtrsamação', 'progursamação', 'progvrsamação', 'progwrsamação', 'progxrsamação', 'progyrsamação', 'progzrsamação', 'progársamação', 'progârsamação', 'progàrsamação', 'progãrsamação', 'progérsamação', 'progêrsamação', 'progèrsamação', 'progírsamação', 'progîrsamação', 'progìrsamação', 'progórsamação', 'progôrsamação', 'progòrsamação', 'progõrsamação', 'progúrsamação', 'progûrsamação', 'progùrsamação', 'progçrsamação', 'prograsamação', 'progrbsamação', 'progrcsamação', 'progresamação', 'progrdsamação', 'progrfsamação', 'progrgsamação', 'progrhsamação', 'progrisamação', 'progrjsamação', 'progrksamação', 'progrlsamação', 'progrmsamação', 'progrnsamação', 'progrosamação', 'progrpsamação', 'progrqsamação', 'progrrsamação', 'progrssamação', 'progrtsamação', 'progrusamação', 'progrvsamação', 'progrwsamação', 'progrxsamação', 'progrysamação', 'progrzsamação', 'prográsamação', 'progrâsamação', 'progràsamação', 'progrãsamação', 'progrésamação', 'progrêsamação', 'progrèsamação', 'progrísamação', 'progrîsamação', 'progrìsamação', 'progrósamação', 'progrôsamação', 'progròsamação', 'progrõsamação', 'progrúsamação', 'progrûsamação', 'progrùsamação', 'progrçsamação', 'progrsaamação', 'progrsbamação', 'progrscamação', 'progrseamação', 'progrsdamação', 'progrsfamação', 'progrsgamação', 'progrshamação', 'progrsiamação', 'progrsjamação', 'progrskamação', 'progrslamação', 'progrsmamação', 'progrsnamação', 'progrsoamação', 'progrspamação', 'progrsqamação', 'progrsramação', 'progrssamação', 'progrstamação', 'progrsuamação', 'progrsvamação', 'progrswamação', 'progrsxamação', 'progrsyamação', 'progrszamação', 'progrsáamação', 'progrsâamação', 'progrsàamação', 'progrsãamação', 'progrséamação', 'progrsêamação', 'progrsèamação', 'progrsíamação', 'progrsîamação', 'progrsìamação', 'progrsóamação', 'progrsôamação', 'progrsòamação', 'progrsõamação', 'progrsúamação', 'progrsûamação', 'progrsùamação', 'progrsçamação', 'progrsaamação', 'progrsabmação', 'progrsacmação', 'progrsaemação', 'progrsadmação', 'progrsafmação', 'progrsagmação', 'progrsahmação', 'progrsaimação', 'progrsajmação', 'progrsakmação', 'progrsalmação', 'progrsammação', 'progrsanmação', 'progrsaomação', 'progrsapmação', 'progrsaqmação', 'progrsarmação', 'progrsasmação', 'progrsatmação', 'progrsaumação', 'progrsavmação', 'progrsawmação', 'progrsaxmação', 'progrsaymação', 'progrsazmação', 'progrsaámação', 'progrsaâmação', 'progrsaàmação', 'progrsaãmação', 'progrsaémação', 'progrsaêmação', 'progrsaèmação', 'progrsaímação', 'progrsaîmação', 'progrsaìmação', 'progrsaómação', 'progrsaômação', 'progrsaòmação', 'progrsaõmação', 'progrsaúmação', 'progrsaûmação', 'progrsaùmação', 'progrsaçmação', 'progrsamaação', 'progrsambação', 'progrsamcação', 'progrsameação', 'progrsamdação', 'progrsamfação', 'progrsamgação', 'progrsamhação', 'progrsamiação', 'progrsamjação', 'progrsamkação', 'progrsamlação', 'progrsammação', 'progrsamnação', 'progrsamoação', 'progrsampação', 'progrsamqação', 'progrsamração', 'progrsamsação', 'progrsamtação', 'progrsamuação', 'progrsamvação', 'progrsamwação', 'progrsamxação', 'progrsamyação', 'progrsamzação', 'progrsamáação', 'progrsamâação', 'progrsamàação', 'progrsamãação', 'progrsaméação', 'progrsamêação', 'progrsamèação', 'progrsamíação', 'progrsamîação', 'progrsamìação', 'progrsamóação', 'progrsamôação', 'progrsamòação', 'progrsamõação', 'progrsamúação', 'progrsamûação', 'progrsamùação', 'progrsamçação', 'progrsamaação', 'progrsamabção', 'progrsamacção', 'progrsamaeção', 'progrsamadção', 'progrsamafção', 'progrsamagção', 'progrsamahção', 'progrsamaição', 'progrsamajção', 'progrsamakção', 'progrsamalção', 'progrsamamção', 'progrsamanção', 'progrsamaoção', 'progrsamapção', 'progrsamaqção', 'progrsamarção', 'progrsamasção', 'progrsamatção', 'progrsamaução', 'progrsamavção', 'progrsamawção', 'progrsamaxção', 'progrsamayção', 'progrsamazção', 'progrsamaáção', 'progrsamaâção', 'progrsamaàção', 'progrsamaãção', 'progrsamaéção', 'progrsamaêção', 'progrsamaèção', 'progrsamaíção', 'progrsamaîção', 'progrsamaìção', 'progrsamaóção', 'progrsamaôção', 'progrsamaòção', 'progrsamaõção', 'progrsamaúção', 'progrsamaûção', 'progrsamaùção', 'progrsamaçção', 'progrsamaçaão', 'progrsamaçbão', 'progrsamaçcão', 'progrsamaçeão', 'progrsamaçdão', 'progrsamaçfão', 'progrsamaçgão', 'progrsamaçhão', 'progrsamaçião', 'progrsamaçjão', 'progrsamaçkão', 'progrsamaçlão', 'progrsamaçmão', 'progrsamaçnão', 'progrsamaçoão', 'progrsamaçpão', 'progrsamaçqão', 'progrsamaçrão', 'progrsamaçsão', 'progrsamaçtão', 'progrsamaçuão', 'progrsamaçvão', 'progrsamaçwão', 'progrsamaçxão', 'progrsamaçyão', 'progrsamaçzão', 'progrsamaçáão', 'progrsamaçâão', 'progrsamaçàão', 'progrsamaçãão', 'progrsamaçéão', 'progrsamaçêão', 'progrsamaçèão', 'progrsamaçíão', 'progrsamaçîão', 'progrsamaçìão', 'progrsamaçóão', 'progrsamaçôão', 'progrsamaçòão', 'progrsamaçõão', 'progrsamaçúão', 'progrsamaçûão', 'progrsamaçùão', 'progrsamaçção', 'progrsamaçãao', 'progrsamaçãbo', 'progrsamaçãco', 'progrsamaçãeo', 'progrsamaçãdo', 'progrsamaçãfo', 'progrsamaçãgo', 'progrsamaçãho', 'progrsamaçãio', 'progrsamaçãjo', 'progrsamaçãko', 'progrsamaçãlo', 'progrsamaçãmo', 'progrsamaçãno', 'progrsamaçãoo', 'progrsamaçãpo', 'progrsamaçãqo', 'progrsamaçãro', 'progrsamaçãso', 'progrsamaçãto', 'progrsamaçãuo', 'progrsamaçãvo', 'progrsamaçãwo', 'progrsamaçãxo', 'progrsamaçãyo', 'progrsamaçãzo', 'progrsamaçãáo', 'progrsamaçãâo', 'progrsamaçãào', 'progrsamaçãão', 'progrsamaçãéo', 'progrsamaçãêo', 'progrsamaçãèo', 'progrsamaçãío', 'progrsamaçãîo', 'progrsamaçãìo', 'progrsamaçãóo', 'progrsamaçãôo', 'progrsamaçãòo', 'progrsamaçãõo', 'progrsamaçãúo', 'progrsamaçãûo', 'progrsamaçãùo', 'progrsamaçãço', 'progrsamaçãoa', 'progrsamaçãob', 'progrsamaçãoc', 'progrsamaçãoe', 'progrsamaçãod', 'progrsamaçãof', 'progrsamaçãog', 'progrsamaçãoh', 'progrsamaçãoi', 'progrsamaçãoj', 'progrsamaçãok', 'progrsamaçãol', 'progrsamaçãom', 'progrsamaçãon', 'progrsamaçãoo', 'progrsamaçãop', 'progrsamaçãoq', 'progrsamaçãor', 'progrsamaçãos', 'progrsamaçãot', 'progrsamaçãou', 'progrsamaçãov', 'progrsamaçãow', 'progrsamaçãox', 'progrsamaçãoy', 'progrsamaçãoz', 'progrsamaçãoá', 'progrsamaçãoâ', 'progrsamaçãoà', 'progrsamaçãoã', 'progrsamaçãoé', 'progrsamaçãoê', 'progrsamaçãoè', 'progrsamaçãoí', 'progrsamaçãoî', 'progrsamaçãoì', 'progrsamaçãoó', 'progrsamaçãoô', 'progrsamaçãoò', 'progrsamaçãoõ', 'progrsamaçãoú', 'progrsamaçãoû', 'progrsamaçãoù', 'progrsamaçãoç', 'rogrsamação', 'pogrsamação', 'prgrsamação', 'prorsamação', 'progsamação', 'programação', 'progrsmação', 'progrsaação', 'progrsamção', 'progrsamaão', 'progrsamaço', 'progrsamaçã', 'progrsamação']\n"
     ]
    }
   ],
   "source": [
    "# Testa função.\n",
    "palavras_geradas = gera_palavras_2('progrsamação')\n",
    "\n",
    "print(\"Quantidade de palavra geradas: [\", len(palavras_geradas), \"]\", end=\"\\n\\n\")\n",
    "print(palavras_geradas)"
   ]
  },
  {
   "cell_type": "code",
   "execution_count": 46,
   "id": "3c883950",
   "metadata": {},
   "outputs": [
    {
     "name": "stdout",
     "output_type": "stream",
     "text": [
      "A palavra correta é [ programação ]\n",
      "Ela está dentro da lista na posição [ 395 ]\n"
     ]
    }
   ],
   "source": [
    "# Mostra a palavra correta que está dentro da lista de possíveis palavra.\n",
    "for palavra in palavras_geradas:\n",
    "\n",
    "    # Selecionando a palavra correta\n",
    "    if palavra == 'programação':\n",
    "\n",
    "        # Mostrando que a palavra correta está dentro dessa lista\n",
    "        print(\"A palavra correta é [\", palavra, \"]\\nEla está dentro da lista na posição [\", palavras_geradas.index(palavra), \"]\")"
   ]
  },
  {
   "cell_type": "code",
   "execution_count": 47,
   "id": "a84287f6",
   "metadata": {},
   "outputs": [],
   "source": [
    "def corretor_palavra_2(palavra_errada):\n",
    "    \"\"\"\n",
    "    Função que recebe uma palavra errada, e retorna a palavra corrigida.\n",
    "    \"\"\"\n",
    "    # Chama a função 'gera_palavras'.\n",
    "    palavras_geradas = gera_palavras_2(palavra_errada)\n",
    "\n",
    "    # Selecionando a palavra com maior probabilidade de aparecer em nosso corpus\n",
    "    # Essa será a palavra correta\n",
    "    palavra_correta = max(palavras_geradas, key=probabilidade_palavra)\n",
    "\n",
    "    # Retornando a palavra corrigida\n",
    "    return palavra_correta"
   ]
  },
  {
   "cell_type": "markdown",
   "id": "084d0a56",
   "metadata": {},
   "source": [
    "### Avaliação do corretor"
   ]
  },
  {
   "cell_type": "code",
   "execution_count": 48,
   "id": "d133bf3b",
   "metadata": {},
   "outputs": [
    {
     "name": "stdout",
     "output_type": "stream",
     "text": [
      "45.16% de 186 palavras\n"
     ]
    }
   ],
   "source": [
    "# Testa corretor.\n",
    "avalia_corretor(lista_teste, corretor_palavra_2)"
   ]
  },
  {
   "cell_type": "markdown",
   "id": "48055061",
   "metadata": {},
   "source": [
    "### 3.3 -  Palavra com uma letra errada vizinha da letra correta (ERRO - trocando letras)."
   ]
  },
  {
   "cell_type": "code",
   "execution_count": 49,
   "id": "c5ec3c61",
   "metadata": {},
   "outputs": [],
   "source": [
    "def troca_caracter(fatias):\n",
    "    \"\"\"\n",
    "    Função que recebe uma lista de tuplas (esquerdo, direito) que corresponde aos lados esquerdo e direito \n",
    "    da palavra fatiada em dois.\n",
    "    \"\"\"\n",
    "\n",
    "    # Criando uma lista vazia para armazenar as palavras corrigidas.\n",
    "    novas_palavras = []\n",
    "\n",
    "    # Todas as letras do alfabeto e as vogais acentuadas.\n",
    "    letras = 'abcedfghijklmnopqrstuvwxyzáâàãéêèíîìóôòõúûùç'\n",
    "\n",
    "    # Iterando por todas as tuplas da lista recebida.\n",
    "    for esquerdo, direito in fatias:\n",
    "\n",
    "        # Iterando por toda letra das variável letras.\n",
    "        for letra in letras:\n",
    "\n",
    "            # Acrescentando todas as possibilidades de palavras possíveis.\n",
    "            novas_palavras.append(esquerdo + letra + direito[1:])\n",
    "    \n",
    "    # Retornando uma lista de possíveis palavras.\n",
    "    return novas_palavras"
   ]
  },
  {
   "cell_type": "code",
   "execution_count": 50,
   "id": "eb5135e1",
   "metadata": {},
   "outputs": [
    {
     "name": "stdout",
     "output_type": "stream",
     "text": [
      "['progaamação', 'progbamação', 'progcamação', 'progeamação', 'progdamação', 'progfamação', 'proggamação', 'proghamação', 'progiamação', 'progjamação', 'progkamação', 'proglamação', 'progmamação', 'prognamação', 'progoamação', 'progpamação', 'progqamação', 'programação', 'progsamação', 'progtamação', 'proguamação', 'progvamação', 'progwamação', 'progxamação', 'progyamação', 'progzamação', 'progáamação', 'progâamação', 'progàamação', 'progãamação', 'progéamação', 'progêamação', 'progèamação', 'progíamação', 'progîamação', 'progìamação', 'progóamação', 'progôamação', 'progòamação', 'progõamação', 'progúamação', 'progûamação', 'progùamação', 'progçamação']\n"
     ]
    }
   ],
   "source": [
    "# Testando a função\n",
    "print(troca_caracter([('prog', 'tamação')]))"
   ]
  },
  {
   "cell_type": "code",
   "execution_count": 51,
   "id": "554e96a2",
   "metadata": {},
   "outputs": [],
   "source": [
    "# Refatorando mais uma vez a função gerador_palavras()\n",
    "def gera_palavras_3(palavra):\n",
    "    \"\"\"\n",
    "    Função para gerar possíveis palavras de acordo com a palavra passada e fatiada pela lógica.\n",
    "    \"\"\"\n",
    "\n",
    "    # Lista vazia para armazenar as duas fatias de cada palavra.\n",
    "    fatias = []\n",
    "\n",
    "    # Iterando por cada letra de cada palavra.\n",
    "    for i in range(len(palavra) + 1):\n",
    "\n",
    "        # Armazenando as duas fatias em uma tupla e essa tupla em uma lista.\n",
    "        fatias.append((palavra[:i], palavra[i:]))\n",
    "\n",
    "    # Chamando a função 'insere_letras_faltantes' com a lista de tuplas das fatias recém-criadas.\n",
    "    palavras_geradas = insere_letras_faltantes(fatias)\n",
    "\n",
    "    # Acrescentando mais uma função, aqui que o novo corretor começa.\n",
    "    palavras_geradas += deleta_caracter(fatias)\n",
    "\n",
    "    # Acrescentando mais uma função, aqui que o novo corretor começa.\n",
    "    palavras_geradas += troca_caracter(fatias)\n",
    "\n",
    "    # Retornando a lista de possíveis palavras. A palavra correta estará aí no meio\n",
    "    return palavras_geradas"
   ]
  },
  {
   "cell_type": "code",
   "execution_count": 52,
   "id": "f5ed3d5c",
   "metadata": {},
   "outputs": [
    {
     "name": "stdout",
     "output_type": "stream",
     "text": [
      "Quantidade de palavra geradas: [ 1157 ]\n",
      "\n",
      "['aprogrsamação', 'bprogrsamação', 'cprogrsamação', 'eprogrsamação', 'dprogrsamação', 'fprogrsamação', 'gprogrsamação', 'hprogrsamação', 'iprogrsamação', 'jprogrsamação', 'kprogrsamação', 'lprogrsamação', 'mprogrsamação', 'nprogrsamação', 'oprogrsamação', 'pprogrsamação', 'qprogrsamação', 'rprogrsamação', 'sprogrsamação', 'tprogrsamação', 'uprogrsamação', 'vprogrsamação', 'wprogrsamação', 'xprogrsamação', 'yprogrsamação', 'zprogrsamação', 'áprogrsamação', 'âprogrsamação', 'àprogrsamação', 'ãprogrsamação', 'éprogrsamação', 'êprogrsamação', 'èprogrsamação', 'íprogrsamação', 'îprogrsamação', 'ìprogrsamação', 'óprogrsamação', 'ôprogrsamação', 'òprogrsamação', 'õprogrsamação', 'úprogrsamação', 'ûprogrsamação', 'ùprogrsamação', 'çprogrsamação', 'parogrsamação', 'pbrogrsamação', 'pcrogrsamação', 'perogrsamação', 'pdrogrsamação', 'pfrogrsamação', 'pgrogrsamação', 'phrogrsamação', 'pirogrsamação', 'pjrogrsamação', 'pkrogrsamação', 'plrogrsamação', 'pmrogrsamação', 'pnrogrsamação', 'porogrsamação', 'pprogrsamação', 'pqrogrsamação', 'prrogrsamação', 'psrogrsamação', 'ptrogrsamação', 'purogrsamação', 'pvrogrsamação', 'pwrogrsamação', 'pxrogrsamação', 'pyrogrsamação', 'pzrogrsamação', 'párogrsamação', 'pârogrsamação', 'pàrogrsamação', 'pãrogrsamação', 'pérogrsamação', 'pêrogrsamação', 'pèrogrsamação', 'pírogrsamação', 'pîrogrsamação', 'pìrogrsamação', 'pórogrsamação', 'pôrogrsamação', 'pòrogrsamação', 'põrogrsamação', 'púrogrsamação', 'pûrogrsamação', 'pùrogrsamação', 'pçrogrsamação', 'praogrsamação', 'prbogrsamação', 'prcogrsamação', 'preogrsamação', 'prdogrsamação', 'prfogrsamação', 'prgogrsamação', 'prhogrsamação', 'priogrsamação', 'prjogrsamação', 'prkogrsamação', 'prlogrsamação', 'prmogrsamação', 'prnogrsamação', 'proogrsamação', 'prpogrsamação', 'prqogrsamação', 'prrogrsamação', 'prsogrsamação', 'prtogrsamação', 'pruogrsamação', 'prvogrsamação', 'prwogrsamação', 'prxogrsamação', 'pryogrsamação', 'przogrsamação', 'práogrsamação', 'prâogrsamação', 'pràogrsamação', 'prãogrsamação', 'préogrsamação', 'prêogrsamação', 'prèogrsamação', 'príogrsamação', 'prîogrsamação', 'prìogrsamação', 'próogrsamação', 'prôogrsamação', 'pròogrsamação', 'prõogrsamação', 'prúogrsamação', 'prûogrsamação', 'prùogrsamação', 'prçogrsamação', 'proagrsamação', 'probgrsamação', 'procgrsamação', 'proegrsamação', 'prodgrsamação', 'profgrsamação', 'proggrsamação', 'prohgrsamação', 'proigrsamação', 'projgrsamação', 'prokgrsamação', 'prolgrsamação', 'promgrsamação', 'prongrsamação', 'proogrsamação', 'propgrsamação', 'proqgrsamação', 'prorgrsamação', 'prosgrsamação', 'protgrsamação', 'prougrsamação', 'provgrsamação', 'prowgrsamação', 'proxgrsamação', 'proygrsamação', 'prozgrsamação', 'proágrsamação', 'proâgrsamação', 'proàgrsamação', 'proãgrsamação', 'proégrsamação', 'proêgrsamação', 'proègrsamação', 'proígrsamação', 'proîgrsamação', 'proìgrsamação', 'proógrsamação', 'proôgrsamação', 'proògrsamação', 'proõgrsamação', 'proúgrsamação', 'proûgrsamação', 'proùgrsamação', 'proçgrsamação', 'progarsamação', 'progbrsamação', 'progcrsamação', 'progersamação', 'progdrsamação', 'progfrsamação', 'proggrsamação', 'proghrsamação', 'progirsamação', 'progjrsamação', 'progkrsamação', 'proglrsamação', 'progmrsamação', 'prognrsamação', 'progorsamação', 'progprsamação', 'progqrsamação', 'progrrsamação', 'progsrsamação', 'progtrsamação', 'progursamação', 'progvrsamação', 'progwrsamação', 'progxrsamação', 'progyrsamação', 'progzrsamação', 'progársamação', 'progârsamação', 'progàrsamação', 'progãrsamação', 'progérsamação', 'progêrsamação', 'progèrsamação', 'progírsamação', 'progîrsamação', 'progìrsamação', 'progórsamação', 'progôrsamação', 'progòrsamação', 'progõrsamação', 'progúrsamação', 'progûrsamação', 'progùrsamação', 'progçrsamação', 'prograsamação', 'progrbsamação', 'progrcsamação', 'progresamação', 'progrdsamação', 'progrfsamação', 'progrgsamação', 'progrhsamação', 'progrisamação', 'progrjsamação', 'progrksamação', 'progrlsamação', 'progrmsamação', 'progrnsamação', 'progrosamação', 'progrpsamação', 'progrqsamação', 'progrrsamação', 'progrssamação', 'progrtsamação', 'progrusamação', 'progrvsamação', 'progrwsamação', 'progrxsamação', 'progrysamação', 'progrzsamação', 'prográsamação', 'progrâsamação', 'progràsamação', 'progrãsamação', 'progrésamação', 'progrêsamação', 'progrèsamação', 'progrísamação', 'progrîsamação', 'progrìsamação', 'progrósamação', 'progrôsamação', 'progròsamação', 'progrõsamação', 'progrúsamação', 'progrûsamação', 'progrùsamação', 'progrçsamação', 'progrsaamação', 'progrsbamação', 'progrscamação', 'progrseamação', 'progrsdamação', 'progrsfamação', 'progrsgamação', 'progrshamação', 'progrsiamação', 'progrsjamação', 'progrskamação', 'progrslamação', 'progrsmamação', 'progrsnamação', 'progrsoamação', 'progrspamação', 'progrsqamação', 'progrsramação', 'progrssamação', 'progrstamação', 'progrsuamação', 'progrsvamação', 'progrswamação', 'progrsxamação', 'progrsyamação', 'progrszamação', 'progrsáamação', 'progrsâamação', 'progrsàamação', 'progrsãamação', 'progrséamação', 'progrsêamação', 'progrsèamação', 'progrsíamação', 'progrsîamação', 'progrsìamação', 'progrsóamação', 'progrsôamação', 'progrsòamação', 'progrsõamação', 'progrsúamação', 'progrsûamação', 'progrsùamação', 'progrsçamação', 'progrsaamação', 'progrsabmação', 'progrsacmação', 'progrsaemação', 'progrsadmação', 'progrsafmação', 'progrsagmação', 'progrsahmação', 'progrsaimação', 'progrsajmação', 'progrsakmação', 'progrsalmação', 'progrsammação', 'progrsanmação', 'progrsaomação', 'progrsapmação', 'progrsaqmação', 'progrsarmação', 'progrsasmação', 'progrsatmação', 'progrsaumação', 'progrsavmação', 'progrsawmação', 'progrsaxmação', 'progrsaymação', 'progrsazmação', 'progrsaámação', 'progrsaâmação', 'progrsaàmação', 'progrsaãmação', 'progrsaémação', 'progrsaêmação', 'progrsaèmação', 'progrsaímação', 'progrsaîmação', 'progrsaìmação', 'progrsaómação', 'progrsaômação', 'progrsaòmação', 'progrsaõmação', 'progrsaúmação', 'progrsaûmação', 'progrsaùmação', 'progrsaçmação', 'progrsamaação', 'progrsambação', 'progrsamcação', 'progrsameação', 'progrsamdação', 'progrsamfação', 'progrsamgação', 'progrsamhação', 'progrsamiação', 'progrsamjação', 'progrsamkação', 'progrsamlação', 'progrsammação', 'progrsamnação', 'progrsamoação', 'progrsampação', 'progrsamqação', 'progrsamração', 'progrsamsação', 'progrsamtação', 'progrsamuação', 'progrsamvação', 'progrsamwação', 'progrsamxação', 'progrsamyação', 'progrsamzação', 'progrsamáação', 'progrsamâação', 'progrsamàação', 'progrsamãação', 'progrsaméação', 'progrsamêação', 'progrsamèação', 'progrsamíação', 'progrsamîação', 'progrsamìação', 'progrsamóação', 'progrsamôação', 'progrsamòação', 'progrsamõação', 'progrsamúação', 'progrsamûação', 'progrsamùação', 'progrsamçação', 'progrsamaação', 'progrsamabção', 'progrsamacção', 'progrsamaeção', 'progrsamadção', 'progrsamafção', 'progrsamagção', 'progrsamahção', 'progrsamaição', 'progrsamajção', 'progrsamakção', 'progrsamalção', 'progrsamamção', 'progrsamanção', 'progrsamaoção', 'progrsamapção', 'progrsamaqção', 'progrsamarção', 'progrsamasção', 'progrsamatção', 'progrsamaução', 'progrsamavção', 'progrsamawção', 'progrsamaxção', 'progrsamayção', 'progrsamazção', 'progrsamaáção', 'progrsamaâção', 'progrsamaàção', 'progrsamaãção', 'progrsamaéção', 'progrsamaêção', 'progrsamaèção', 'progrsamaíção', 'progrsamaîção', 'progrsamaìção', 'progrsamaóção', 'progrsamaôção', 'progrsamaòção', 'progrsamaõção', 'progrsamaúção', 'progrsamaûção', 'progrsamaùção', 'progrsamaçção', 'progrsamaçaão', 'progrsamaçbão', 'progrsamaçcão', 'progrsamaçeão', 'progrsamaçdão', 'progrsamaçfão', 'progrsamaçgão', 'progrsamaçhão', 'progrsamaçião', 'progrsamaçjão', 'progrsamaçkão', 'progrsamaçlão', 'progrsamaçmão', 'progrsamaçnão', 'progrsamaçoão', 'progrsamaçpão', 'progrsamaçqão', 'progrsamaçrão', 'progrsamaçsão', 'progrsamaçtão', 'progrsamaçuão', 'progrsamaçvão', 'progrsamaçwão', 'progrsamaçxão', 'progrsamaçyão', 'progrsamaçzão', 'progrsamaçáão', 'progrsamaçâão', 'progrsamaçàão', 'progrsamaçãão', 'progrsamaçéão', 'progrsamaçêão', 'progrsamaçèão', 'progrsamaçíão', 'progrsamaçîão', 'progrsamaçìão', 'progrsamaçóão', 'progrsamaçôão', 'progrsamaçòão', 'progrsamaçõão', 'progrsamaçúão', 'progrsamaçûão', 'progrsamaçùão', 'progrsamaçção', 'progrsamaçãao', 'progrsamaçãbo', 'progrsamaçãco', 'progrsamaçãeo', 'progrsamaçãdo', 'progrsamaçãfo', 'progrsamaçãgo', 'progrsamaçãho', 'progrsamaçãio', 'progrsamaçãjo', 'progrsamaçãko', 'progrsamaçãlo', 'progrsamaçãmo', 'progrsamaçãno', 'progrsamaçãoo', 'progrsamaçãpo', 'progrsamaçãqo', 'progrsamaçãro', 'progrsamaçãso', 'progrsamaçãto', 'progrsamaçãuo', 'progrsamaçãvo', 'progrsamaçãwo', 'progrsamaçãxo', 'progrsamaçãyo', 'progrsamaçãzo', 'progrsamaçãáo', 'progrsamaçãâo', 'progrsamaçãào', 'progrsamaçãão', 'progrsamaçãéo', 'progrsamaçãêo', 'progrsamaçãèo', 'progrsamaçãío', 'progrsamaçãîo', 'progrsamaçãìo', 'progrsamaçãóo', 'progrsamaçãôo', 'progrsamaçãòo', 'progrsamaçãõo', 'progrsamaçãúo', 'progrsamaçãûo', 'progrsamaçãùo', 'progrsamaçãço', 'progrsamaçãoa', 'progrsamaçãob', 'progrsamaçãoc', 'progrsamaçãoe', 'progrsamaçãod', 'progrsamaçãof', 'progrsamaçãog', 'progrsamaçãoh', 'progrsamaçãoi', 'progrsamaçãoj', 'progrsamaçãok', 'progrsamaçãol', 'progrsamaçãom', 'progrsamaçãon', 'progrsamaçãoo', 'progrsamaçãop', 'progrsamaçãoq', 'progrsamaçãor', 'progrsamaçãos', 'progrsamaçãot', 'progrsamaçãou', 'progrsamaçãov', 'progrsamaçãow', 'progrsamaçãox', 'progrsamaçãoy', 'progrsamaçãoz', 'progrsamaçãoá', 'progrsamaçãoâ', 'progrsamaçãoà', 'progrsamaçãoã', 'progrsamaçãoé', 'progrsamaçãoê', 'progrsamaçãoè', 'progrsamaçãoí', 'progrsamaçãoî', 'progrsamaçãoì', 'progrsamaçãoó', 'progrsamaçãoô', 'progrsamaçãoò', 'progrsamaçãoõ', 'progrsamaçãoú', 'progrsamaçãoû', 'progrsamaçãoù', 'progrsamaçãoç', 'rogrsamação', 'pogrsamação', 'prgrsamação', 'prorsamação', 'progsamação', 'programação', 'progrsmação', 'progrsaação', 'progrsamção', 'progrsamaão', 'progrsamaço', 'progrsamaçã', 'progrsamação', 'arogrsamação', 'brogrsamação', 'crogrsamação', 'erogrsamação', 'drogrsamação', 'frogrsamação', 'grogrsamação', 'hrogrsamação', 'irogrsamação', 'jrogrsamação', 'krogrsamação', 'lrogrsamação', 'mrogrsamação', 'nrogrsamação', 'orogrsamação', 'progrsamação', 'qrogrsamação', 'rrogrsamação', 'srogrsamação', 'trogrsamação', 'urogrsamação', 'vrogrsamação', 'wrogrsamação', 'xrogrsamação', 'yrogrsamação', 'zrogrsamação', 'árogrsamação', 'ârogrsamação', 'àrogrsamação', 'ãrogrsamação', 'érogrsamação', 'êrogrsamação', 'èrogrsamação', 'írogrsamação', 'îrogrsamação', 'ìrogrsamação', 'órogrsamação', 'ôrogrsamação', 'òrogrsamação', 'õrogrsamação', 'úrogrsamação', 'ûrogrsamação', 'ùrogrsamação', 'çrogrsamação', 'paogrsamação', 'pbogrsamação', 'pcogrsamação', 'peogrsamação', 'pdogrsamação', 'pfogrsamação', 'pgogrsamação', 'phogrsamação', 'piogrsamação', 'pjogrsamação', 'pkogrsamação', 'plogrsamação', 'pmogrsamação', 'pnogrsamação', 'poogrsamação', 'ppogrsamação', 'pqogrsamação', 'progrsamação', 'psogrsamação', 'ptogrsamação', 'puogrsamação', 'pvogrsamação', 'pwogrsamação', 'pxogrsamação', 'pyogrsamação', 'pzogrsamação', 'páogrsamação', 'pâogrsamação', 'pàogrsamação', 'pãogrsamação', 'péogrsamação', 'pêogrsamação', 'pèogrsamação', 'píogrsamação', 'pîogrsamação', 'pìogrsamação', 'póogrsamação', 'pôogrsamação', 'pòogrsamação', 'põogrsamação', 'púogrsamação', 'pûogrsamação', 'pùogrsamação', 'pçogrsamação', 'pragrsamação', 'prbgrsamação', 'prcgrsamação', 'pregrsamação', 'prdgrsamação', 'prfgrsamação', 'prggrsamação', 'prhgrsamação', 'prigrsamação', 'prjgrsamação', 'prkgrsamação', 'prlgrsamação', 'prmgrsamação', 'prngrsamação', 'progrsamação', 'prpgrsamação', 'prqgrsamação', 'prrgrsamação', 'prsgrsamação', 'prtgrsamação', 'prugrsamação', 'prvgrsamação', 'prwgrsamação', 'prxgrsamação', 'prygrsamação', 'przgrsamação', 'prágrsamação', 'prâgrsamação', 'pràgrsamação', 'prãgrsamação', 'prégrsamação', 'prêgrsamação', 'prègrsamação', 'prígrsamação', 'prîgrsamação', 'prìgrsamação', 'prógrsamação', 'prôgrsamação', 'prògrsamação', 'prõgrsamação', 'prúgrsamação', 'prûgrsamação', 'prùgrsamação', 'prçgrsamação', 'proarsamação', 'probrsamação', 'procrsamação', 'proersamação', 'prodrsamação', 'profrsamação', 'progrsamação', 'prohrsamação', 'proirsamação', 'projrsamação', 'prokrsamação', 'prolrsamação', 'promrsamação', 'pronrsamação', 'proorsamação', 'proprsamação', 'proqrsamação', 'prorrsamação', 'prosrsamação', 'protrsamação', 'proursamação', 'provrsamação', 'prowrsamação', 'proxrsamação', 'proyrsamação', 'prozrsamação', 'proársamação', 'proârsamação', 'proàrsamação', 'proãrsamação', 'proérsamação', 'proêrsamação', 'proèrsamação', 'proírsamação', 'proîrsamação', 'proìrsamação', 'proórsamação', 'proôrsamação', 'proòrsamação', 'proõrsamação', 'proúrsamação', 'proûrsamação', 'proùrsamação', 'proçrsamação', 'progasamação', 'progbsamação', 'progcsamação', 'progesamação', 'progdsamação', 'progfsamação', 'proggsamação', 'proghsamação', 'progisamação', 'progjsamação', 'progksamação', 'proglsamação', 'progmsamação', 'prognsamação', 'progosamação', 'progpsamação', 'progqsamação', 'progrsamação', 'progssamação', 'progtsamação', 'progusamação', 'progvsamação', 'progwsamação', 'progxsamação', 'progysamação', 'progzsamação', 'progásamação', 'progâsamação', 'progàsamação', 'progãsamação', 'progésamação', 'progêsamação', 'progèsamação', 'progísamação', 'progîsamação', 'progìsamação', 'progósamação', 'progôsamação', 'progòsamação', 'progõsamação', 'progúsamação', 'progûsamação', 'progùsamação', 'progçsamação', 'prograamação', 'progrbamação', 'progrcamação', 'progreamação', 'progrdamação', 'progrfamação', 'progrgamação', 'progrhamação', 'progriamação', 'progrjamação', 'progrkamação', 'progrlamação', 'progrmamação', 'progrnamação', 'progroamação', 'progrpamação', 'progrqamação', 'progrramação', 'progrsamação', 'progrtamação', 'progruamação', 'progrvamação', 'progrwamação', 'progrxamação', 'progryamação', 'progrzamação', 'prográamação', 'progrâamação', 'progràamação', 'progrãamação', 'progréamação', 'progrêamação', 'progrèamação', 'progríamação', 'progrîamação', 'progrìamação', 'progróamação', 'progrôamação', 'progròamação', 'progrõamação', 'progrúamação', 'progrûamação', 'progrùamação', 'progrçamação', 'progrsamação', 'progrsbmação', 'progrscmação', 'progrsemação', 'progrsdmação', 'progrsfmação', 'progrsgmação', 'progrshmação', 'progrsimação', 'progrsjmação', 'progrskmação', 'progrslmação', 'progrsmmação', 'progrsnmação', 'progrsomação', 'progrspmação', 'progrsqmação', 'progrsrmação', 'progrssmação', 'progrstmação', 'progrsumação', 'progrsvmação', 'progrswmação', 'progrsxmação', 'progrsymação', 'progrszmação', 'progrsámação', 'progrsâmação', 'progrsàmação', 'progrsãmação', 'progrsémação', 'progrsêmação', 'progrsèmação', 'progrsímação', 'progrsîmação', 'progrsìmação', 'progrsómação', 'progrsômação', 'progrsòmação', 'progrsõmação', 'progrsúmação', 'progrsûmação', 'progrsùmação', 'progrsçmação', 'progrsaaação', 'progrsabação', 'progrsacação', 'progrsaeação', 'progrsadação', 'progrsafação', 'progrsagação', 'progrsahação', 'progrsaiação', 'progrsajação', 'progrsakação', 'progrsalação', 'progrsamação', 'progrsanação', 'progrsaoação', 'progrsapação', 'progrsaqação', 'progrsaração', 'progrsasação', 'progrsatação', 'progrsauação', 'progrsavação', 'progrsawação', 'progrsaxação', 'progrsayação', 'progrsazação', 'progrsaáação', 'progrsaâação', 'progrsaàação', 'progrsaãação', 'progrsaéação', 'progrsaêação', 'progrsaèação', 'progrsaíação', 'progrsaîação', 'progrsaìação', 'progrsaóação', 'progrsaôação', 'progrsaòação', 'progrsaõação', 'progrsaúação', 'progrsaûação', 'progrsaùação', 'progrsaçação', 'progrsamação', 'progrsambção', 'progrsamcção', 'progrsameção', 'progrsamdção', 'progrsamfção', 'progrsamgção', 'progrsamhção', 'progrsamição', 'progrsamjção', 'progrsamkção', 'progrsamlção', 'progrsammção', 'progrsamnção', 'progrsamoção', 'progrsampção', 'progrsamqção', 'progrsamrção', 'progrsamsção', 'progrsamtção', 'progrsamução', 'progrsamvção', 'progrsamwção', 'progrsamxção', 'progrsamyção', 'progrsamzção', 'progrsamáção', 'progrsamâção', 'progrsamàção', 'progrsamãção', 'progrsaméção', 'progrsamêção', 'progrsamèção', 'progrsamíção', 'progrsamîção', 'progrsamìção', 'progrsamóção', 'progrsamôção', 'progrsamòção', 'progrsamõção', 'progrsamúção', 'progrsamûção', 'progrsamùção', 'progrsamçção', 'progrsamaaão', 'progrsamabão', 'progrsamacão', 'progrsamaeão', 'progrsamadão', 'progrsamafão', 'progrsamagão', 'progrsamahão', 'progrsamaião', 'progrsamajão', 'progrsamakão', 'progrsamalão', 'progrsamamão', 'progrsamanão', 'progrsamaoão', 'progrsamapão', 'progrsamaqão', 'progrsamarão', 'progrsamasão', 'progrsamatão', 'progrsamauão', 'progrsamavão', 'progrsamawão', 'progrsamaxão', 'progrsamayão', 'progrsamazão', 'progrsamaáão', 'progrsamaâão', 'progrsamaàão', 'progrsamaãão', 'progrsamaéão', 'progrsamaêão', 'progrsamaèão', 'progrsamaíão', 'progrsamaîão', 'progrsamaìão', 'progrsamaóão', 'progrsamaôão', 'progrsamaòão', 'progrsamaõão', 'progrsamaúão', 'progrsamaûão', 'progrsamaùão', 'progrsamação', 'progrsamaçao', 'progrsamaçbo', 'progrsamaçco', 'progrsamaçeo', 'progrsamaçdo', 'progrsamaçfo', 'progrsamaçgo', 'progrsamaçho', 'progrsamaçio', 'progrsamaçjo', 'progrsamaçko', 'progrsamaçlo', 'progrsamaçmo', 'progrsamaçno', 'progrsamaçoo', 'progrsamaçpo', 'progrsamaçqo', 'progrsamaçro', 'progrsamaçso', 'progrsamaçto', 'progrsamaçuo', 'progrsamaçvo', 'progrsamaçwo', 'progrsamaçxo', 'progrsamaçyo', 'progrsamaçzo', 'progrsamaçáo', 'progrsamaçâo', 'progrsamaçào', 'progrsamação', 'progrsamaçéo', 'progrsamaçêo', 'progrsamaçèo', 'progrsamaçío', 'progrsamaçîo', 'progrsamaçìo', 'progrsamaçóo', 'progrsamaçôo', 'progrsamaçòo', 'progrsamaçõo', 'progrsamaçúo', 'progrsamaçûo', 'progrsamaçùo', 'progrsamaçço', 'progrsamaçãa', 'progrsamaçãb', 'progrsamaçãc', 'progrsamaçãe', 'progrsamaçãd', 'progrsamaçãf', 'progrsamaçãg', 'progrsamaçãh', 'progrsamaçãi', 'progrsamaçãj', 'progrsamaçãk', 'progrsamaçãl', 'progrsamaçãm', 'progrsamaçãn', 'progrsamação', 'progrsamaçãp', 'progrsamaçãq', 'progrsamaçãr', 'progrsamaçãs', 'progrsamaçãt', 'progrsamaçãu', 'progrsamaçãv', 'progrsamaçãw', 'progrsamaçãx', 'progrsamaçãy', 'progrsamaçãz', 'progrsamaçãá', 'progrsamaçãâ', 'progrsamaçãà', 'progrsamaçãã', 'progrsamaçãé', 'progrsamaçãê', 'progrsamaçãè', 'progrsamaçãí', 'progrsamaçãî', 'progrsamaçãì', 'progrsamaçãó', 'progrsamaçãô', 'progrsamaçãò', 'progrsamaçãõ', 'progrsamaçãú', 'progrsamaçãû', 'progrsamaçãù', 'progrsamaçãç', 'progrsamaçãoa', 'progrsamaçãob', 'progrsamaçãoc', 'progrsamaçãoe', 'progrsamaçãod', 'progrsamaçãof', 'progrsamaçãog', 'progrsamaçãoh', 'progrsamaçãoi', 'progrsamaçãoj', 'progrsamaçãok', 'progrsamaçãol', 'progrsamaçãom', 'progrsamaçãon', 'progrsamaçãoo', 'progrsamaçãop', 'progrsamaçãoq', 'progrsamaçãor', 'progrsamaçãos', 'progrsamaçãot', 'progrsamaçãou', 'progrsamaçãov', 'progrsamaçãow', 'progrsamaçãox', 'progrsamaçãoy', 'progrsamaçãoz', 'progrsamaçãoá', 'progrsamaçãoâ', 'progrsamaçãoà', 'progrsamaçãoã', 'progrsamaçãoé', 'progrsamaçãoê', 'progrsamaçãoè', 'progrsamaçãoí', 'progrsamaçãoî', 'progrsamaçãoì', 'progrsamaçãoó', 'progrsamaçãoô', 'progrsamaçãoò', 'progrsamaçãoõ', 'progrsamaçãoú', 'progrsamaçãoû', 'progrsamaçãoù', 'progrsamaçãoç']\n"
     ]
    }
   ],
   "source": [
    "# Testa função.\n",
    "palavras_geradas = gera_palavras_3('progrsamação')\n",
    "\n",
    "print(\"Quantidade de palavra geradas: [\", len(palavras_geradas), \"]\", end=\"\\n\\n\")\n",
    "print(palavras_geradas)"
   ]
  },
  {
   "cell_type": "code",
   "execution_count": 53,
   "id": "e1f82b1c",
   "metadata": {},
   "outputs": [
    {
     "name": "stdout",
     "output_type": "stream",
     "text": [
      "A palavra correta é [ programação ]\n",
      "Ela está dentro da lista na posição [ 577 ]\n"
     ]
    }
   ],
   "source": [
    "# Mostra a palavra correta que está dentro da lista de possíveis palavra.\n",
    "for palavra in palavras_geradas:\n",
    "\n",
    "    # Selecionando a palavra correta\n",
    "    if palavra == 'programação':\n",
    "\n",
    "        # Mostrando que a palavra correta está dentro dessa lista\n",
    "        print(\"A palavra correta é [\", palavra, \"]\\nEla está dentro da lista na posição [\", palavras_geradas.index(palavra), \"]\")"
   ]
  },
  {
   "cell_type": "code",
   "execution_count": 54,
   "id": "433092f1",
   "metadata": {},
   "outputs": [],
   "source": [
    "def corretor_palavra_3(palavra_errada):\n",
    "    \"\"\"\n",
    "    Função que recebe uma palavra errada, e retorna a palavra corrigida.\n",
    "    \"\"\"\n",
    "    # Chama a função 'gera_palavras'.\n",
    "    palavras_geradas = gera_palavras_3(palavra_errada)\n",
    "\n",
    "    # Selecionando a palavra com maior probabilidade de aparecer em nosso corpus\n",
    "    # Essa será a palavra correta\n",
    "    palavra_correta = max(palavras_geradas, key=probabilidade_palavra)\n",
    "\n",
    "    # Retornando a palavra corrigida\n",
    "    return palavra_correta"
   ]
  },
  {
   "cell_type": "markdown",
   "id": "2b3285bf",
   "metadata": {},
   "source": [
    "### Avaliação do corretor"
   ]
  },
  {
   "cell_type": "code",
   "execution_count": 55,
   "id": "efcaaae2",
   "metadata": {},
   "outputs": [
    {
     "name": "stdout",
     "output_type": "stream",
     "text": [
      "79.03% de 186 palavras\n"
     ]
    }
   ],
   "source": [
    "# Testa corretor.\n",
    "avalia_corretor(lista_teste, corretor_palavra_3)"
   ]
  },
  {
   "cell_type": "markdown",
   "id": "4c3daf2e",
   "metadata": {},
   "source": [
    "### 3.4 -  Palavra com uma letra trocada no lugar da letra correta (ERRO - invertendo letras)."
   ]
  },
  {
   "cell_type": "code",
   "execution_count": 56,
   "id": "ef4c1b4f",
   "metadata": {},
   "outputs": [],
   "source": [
    "def inverte_caracter(fatias):\n",
    "    \"\"\"\n",
    "    Função que recebe as fatias e inverte os caracteres.\n",
    "    \"\"\"\n",
    "\n",
    "    # Criando uma lista vazia para armazenar as palavras corrigidas.\n",
    "    novas_palavras = []\n",
    "\n",
    "    # Iterando por todas as tuplas da lista recebida.\n",
    "    for esquerdo, direito in fatias:\n",
    "        \n",
    "        # Selecionando apenas as fatias da direita que têm mais de uma letra, pois, se não, não há o que inverter.\n",
    "        if len(direito) > 1:\n",
    "            \n",
    "            # Acrescentando todas as possibilidades de palavras possíveis.\n",
    "            novas_palavras.append(esquerdo + direito[1] + direito[0] + direito[2:])\n",
    "    \n",
    "    # Retornando uma lista de possíveis palavras.\n",
    "    return novas_palavras"
   ]
  },
  {
   "cell_type": "code",
   "execution_count": 57,
   "id": "5210184d",
   "metadata": {},
   "outputs": [],
   "source": [
    "# Refatorando outra vez a função gerador_palavras()\n",
    "def gera_palavras_4(palavra):\n",
    "    \"\"\"\n",
    "    Função para gerar possíveis palavras de acordo com a palavra passada e fatiada pela lógica.\n",
    "    \"\"\"\n",
    "\n",
    "    # Lista vazia para armazenar as duas fatias de cada palavra.\n",
    "    fatias = []\n",
    "\n",
    "    # Iterando por cada letra de cada palavra.\n",
    "    for i in range(len(palavra) + 1):\n",
    "\n",
    "        # Armazenando as duas fatias em uma tupla e essa tupla em uma lista.\n",
    "        fatias.append((palavra[:i], palavra[i:]))\n",
    "\n",
    "    # Chamando a função 'insere_letras_faltantes' com a lista de tuplas das fatias recém-criadas.\n",
    "    palavras_geradas = insere_letras_faltantes(fatias)\n",
    "\n",
    "    # Acrescentando mais uma função, aqui que o novo corretor começa.\n",
    "    palavras_geradas += deleta_caracter(fatias)\n",
    "\n",
    "    # Acrescentando mais uma função, aqui que o novo corretor começa.\n",
    "    palavras_geradas += troca_caracter(fatias)\n",
    "\n",
    "    # Acrescentando mais uma função, aqui que o novo corretor começa.\n",
    "    palavras_geradas += inverte_caracter(fatias)\n",
    "\n",
    "    # Retornando a lista de possíveis palavras. A palavra correta estará aí no meio\n",
    "    return palavras_geradas"
   ]
  },
  {
   "cell_type": "code",
   "execution_count": 58,
   "id": "1255683a",
   "metadata": {},
   "outputs": [
    {
     "name": "stdout",
     "output_type": "stream",
     "text": [
      "Quantidade de palavra geradas: [ 1168 ]\n",
      "\n",
      "['aprogrsamação', 'bprogrsamação', 'cprogrsamação', 'eprogrsamação', 'dprogrsamação', 'fprogrsamação', 'gprogrsamação', 'hprogrsamação', 'iprogrsamação', 'jprogrsamação', 'kprogrsamação', 'lprogrsamação', 'mprogrsamação', 'nprogrsamação', 'oprogrsamação', 'pprogrsamação', 'qprogrsamação', 'rprogrsamação', 'sprogrsamação', 'tprogrsamação', 'uprogrsamação', 'vprogrsamação', 'wprogrsamação', 'xprogrsamação', 'yprogrsamação', 'zprogrsamação', 'áprogrsamação', 'âprogrsamação', 'àprogrsamação', 'ãprogrsamação', 'éprogrsamação', 'êprogrsamação', 'èprogrsamação', 'íprogrsamação', 'îprogrsamação', 'ìprogrsamação', 'óprogrsamação', 'ôprogrsamação', 'òprogrsamação', 'õprogrsamação', 'úprogrsamação', 'ûprogrsamação', 'ùprogrsamação', 'çprogrsamação', 'parogrsamação', 'pbrogrsamação', 'pcrogrsamação', 'perogrsamação', 'pdrogrsamação', 'pfrogrsamação', 'pgrogrsamação', 'phrogrsamação', 'pirogrsamação', 'pjrogrsamação', 'pkrogrsamação', 'plrogrsamação', 'pmrogrsamação', 'pnrogrsamação', 'porogrsamação', 'pprogrsamação', 'pqrogrsamação', 'prrogrsamação', 'psrogrsamação', 'ptrogrsamação', 'purogrsamação', 'pvrogrsamação', 'pwrogrsamação', 'pxrogrsamação', 'pyrogrsamação', 'pzrogrsamação', 'párogrsamação', 'pârogrsamação', 'pàrogrsamação', 'pãrogrsamação', 'pérogrsamação', 'pêrogrsamação', 'pèrogrsamação', 'pírogrsamação', 'pîrogrsamação', 'pìrogrsamação', 'pórogrsamação', 'pôrogrsamação', 'pòrogrsamação', 'põrogrsamação', 'púrogrsamação', 'pûrogrsamação', 'pùrogrsamação', 'pçrogrsamação', 'praogrsamação', 'prbogrsamação', 'prcogrsamação', 'preogrsamação', 'prdogrsamação', 'prfogrsamação', 'prgogrsamação', 'prhogrsamação', 'priogrsamação', 'prjogrsamação', 'prkogrsamação', 'prlogrsamação', 'prmogrsamação', 'prnogrsamação', 'proogrsamação', 'prpogrsamação', 'prqogrsamação', 'prrogrsamação', 'prsogrsamação', 'prtogrsamação', 'pruogrsamação', 'prvogrsamação', 'prwogrsamação', 'prxogrsamação', 'pryogrsamação', 'przogrsamação', 'práogrsamação', 'prâogrsamação', 'pràogrsamação', 'prãogrsamação', 'préogrsamação', 'prêogrsamação', 'prèogrsamação', 'príogrsamação', 'prîogrsamação', 'prìogrsamação', 'próogrsamação', 'prôogrsamação', 'pròogrsamação', 'prõogrsamação', 'prúogrsamação', 'prûogrsamação', 'prùogrsamação', 'prçogrsamação', 'proagrsamação', 'probgrsamação', 'procgrsamação', 'proegrsamação', 'prodgrsamação', 'profgrsamação', 'proggrsamação', 'prohgrsamação', 'proigrsamação', 'projgrsamação', 'prokgrsamação', 'prolgrsamação', 'promgrsamação', 'prongrsamação', 'proogrsamação', 'propgrsamação', 'proqgrsamação', 'prorgrsamação', 'prosgrsamação', 'protgrsamação', 'prougrsamação', 'provgrsamação', 'prowgrsamação', 'proxgrsamação', 'proygrsamação', 'prozgrsamação', 'proágrsamação', 'proâgrsamação', 'proàgrsamação', 'proãgrsamação', 'proégrsamação', 'proêgrsamação', 'proègrsamação', 'proígrsamação', 'proîgrsamação', 'proìgrsamação', 'proógrsamação', 'proôgrsamação', 'proògrsamação', 'proõgrsamação', 'proúgrsamação', 'proûgrsamação', 'proùgrsamação', 'proçgrsamação', 'progarsamação', 'progbrsamação', 'progcrsamação', 'progersamação', 'progdrsamação', 'progfrsamação', 'proggrsamação', 'proghrsamação', 'progirsamação', 'progjrsamação', 'progkrsamação', 'proglrsamação', 'progmrsamação', 'prognrsamação', 'progorsamação', 'progprsamação', 'progqrsamação', 'progrrsamação', 'progsrsamação', 'progtrsamação', 'progursamação', 'progvrsamação', 'progwrsamação', 'progxrsamação', 'progyrsamação', 'progzrsamação', 'progársamação', 'progârsamação', 'progàrsamação', 'progãrsamação', 'progérsamação', 'progêrsamação', 'progèrsamação', 'progírsamação', 'progîrsamação', 'progìrsamação', 'progórsamação', 'progôrsamação', 'progòrsamação', 'progõrsamação', 'progúrsamação', 'progûrsamação', 'progùrsamação', 'progçrsamação', 'prograsamação', 'progrbsamação', 'progrcsamação', 'progresamação', 'progrdsamação', 'progrfsamação', 'progrgsamação', 'progrhsamação', 'progrisamação', 'progrjsamação', 'progrksamação', 'progrlsamação', 'progrmsamação', 'progrnsamação', 'progrosamação', 'progrpsamação', 'progrqsamação', 'progrrsamação', 'progrssamação', 'progrtsamação', 'progrusamação', 'progrvsamação', 'progrwsamação', 'progrxsamação', 'progrysamação', 'progrzsamação', 'prográsamação', 'progrâsamação', 'progràsamação', 'progrãsamação', 'progrésamação', 'progrêsamação', 'progrèsamação', 'progrísamação', 'progrîsamação', 'progrìsamação', 'progrósamação', 'progrôsamação', 'progròsamação', 'progrõsamação', 'progrúsamação', 'progrûsamação', 'progrùsamação', 'progrçsamação', 'progrsaamação', 'progrsbamação', 'progrscamação', 'progrseamação', 'progrsdamação', 'progrsfamação', 'progrsgamação', 'progrshamação', 'progrsiamação', 'progrsjamação', 'progrskamação', 'progrslamação', 'progrsmamação', 'progrsnamação', 'progrsoamação', 'progrspamação', 'progrsqamação', 'progrsramação', 'progrssamação', 'progrstamação', 'progrsuamação', 'progrsvamação', 'progrswamação', 'progrsxamação', 'progrsyamação', 'progrszamação', 'progrsáamação', 'progrsâamação', 'progrsàamação', 'progrsãamação', 'progrséamação', 'progrsêamação', 'progrsèamação', 'progrsíamação', 'progrsîamação', 'progrsìamação', 'progrsóamação', 'progrsôamação', 'progrsòamação', 'progrsõamação', 'progrsúamação', 'progrsûamação', 'progrsùamação', 'progrsçamação', 'progrsaamação', 'progrsabmação', 'progrsacmação', 'progrsaemação', 'progrsadmação', 'progrsafmação', 'progrsagmação', 'progrsahmação', 'progrsaimação', 'progrsajmação', 'progrsakmação', 'progrsalmação', 'progrsammação', 'progrsanmação', 'progrsaomação', 'progrsapmação', 'progrsaqmação', 'progrsarmação', 'progrsasmação', 'progrsatmação', 'progrsaumação', 'progrsavmação', 'progrsawmação', 'progrsaxmação', 'progrsaymação', 'progrsazmação', 'progrsaámação', 'progrsaâmação', 'progrsaàmação', 'progrsaãmação', 'progrsaémação', 'progrsaêmação', 'progrsaèmação', 'progrsaímação', 'progrsaîmação', 'progrsaìmação', 'progrsaómação', 'progrsaômação', 'progrsaòmação', 'progrsaõmação', 'progrsaúmação', 'progrsaûmação', 'progrsaùmação', 'progrsaçmação', 'progrsamaação', 'progrsambação', 'progrsamcação', 'progrsameação', 'progrsamdação', 'progrsamfação', 'progrsamgação', 'progrsamhação', 'progrsamiação', 'progrsamjação', 'progrsamkação', 'progrsamlação', 'progrsammação', 'progrsamnação', 'progrsamoação', 'progrsampação', 'progrsamqação', 'progrsamração', 'progrsamsação', 'progrsamtação', 'progrsamuação', 'progrsamvação', 'progrsamwação', 'progrsamxação', 'progrsamyação', 'progrsamzação', 'progrsamáação', 'progrsamâação', 'progrsamàação', 'progrsamãação', 'progrsaméação', 'progrsamêação', 'progrsamèação', 'progrsamíação', 'progrsamîação', 'progrsamìação', 'progrsamóação', 'progrsamôação', 'progrsamòação', 'progrsamõação', 'progrsamúação', 'progrsamûação', 'progrsamùação', 'progrsamçação', 'progrsamaação', 'progrsamabção', 'progrsamacção', 'progrsamaeção', 'progrsamadção', 'progrsamafção', 'progrsamagção', 'progrsamahção', 'progrsamaição', 'progrsamajção', 'progrsamakção', 'progrsamalção', 'progrsamamção', 'progrsamanção', 'progrsamaoção', 'progrsamapção', 'progrsamaqção', 'progrsamarção', 'progrsamasção', 'progrsamatção', 'progrsamaução', 'progrsamavção', 'progrsamawção', 'progrsamaxção', 'progrsamayção', 'progrsamazção', 'progrsamaáção', 'progrsamaâção', 'progrsamaàção', 'progrsamaãção', 'progrsamaéção', 'progrsamaêção', 'progrsamaèção', 'progrsamaíção', 'progrsamaîção', 'progrsamaìção', 'progrsamaóção', 'progrsamaôção', 'progrsamaòção', 'progrsamaõção', 'progrsamaúção', 'progrsamaûção', 'progrsamaùção', 'progrsamaçção', 'progrsamaçaão', 'progrsamaçbão', 'progrsamaçcão', 'progrsamaçeão', 'progrsamaçdão', 'progrsamaçfão', 'progrsamaçgão', 'progrsamaçhão', 'progrsamaçião', 'progrsamaçjão', 'progrsamaçkão', 'progrsamaçlão', 'progrsamaçmão', 'progrsamaçnão', 'progrsamaçoão', 'progrsamaçpão', 'progrsamaçqão', 'progrsamaçrão', 'progrsamaçsão', 'progrsamaçtão', 'progrsamaçuão', 'progrsamaçvão', 'progrsamaçwão', 'progrsamaçxão', 'progrsamaçyão', 'progrsamaçzão', 'progrsamaçáão', 'progrsamaçâão', 'progrsamaçàão', 'progrsamaçãão', 'progrsamaçéão', 'progrsamaçêão', 'progrsamaçèão', 'progrsamaçíão', 'progrsamaçîão', 'progrsamaçìão', 'progrsamaçóão', 'progrsamaçôão', 'progrsamaçòão', 'progrsamaçõão', 'progrsamaçúão', 'progrsamaçûão', 'progrsamaçùão', 'progrsamaçção', 'progrsamaçãao', 'progrsamaçãbo', 'progrsamaçãco', 'progrsamaçãeo', 'progrsamaçãdo', 'progrsamaçãfo', 'progrsamaçãgo', 'progrsamaçãho', 'progrsamaçãio', 'progrsamaçãjo', 'progrsamaçãko', 'progrsamaçãlo', 'progrsamaçãmo', 'progrsamaçãno', 'progrsamaçãoo', 'progrsamaçãpo', 'progrsamaçãqo', 'progrsamaçãro', 'progrsamaçãso', 'progrsamaçãto', 'progrsamaçãuo', 'progrsamaçãvo', 'progrsamaçãwo', 'progrsamaçãxo', 'progrsamaçãyo', 'progrsamaçãzo', 'progrsamaçãáo', 'progrsamaçãâo', 'progrsamaçãào', 'progrsamaçãão', 'progrsamaçãéo', 'progrsamaçãêo', 'progrsamaçãèo', 'progrsamaçãío', 'progrsamaçãîo', 'progrsamaçãìo', 'progrsamaçãóo', 'progrsamaçãôo', 'progrsamaçãòo', 'progrsamaçãõo', 'progrsamaçãúo', 'progrsamaçãûo', 'progrsamaçãùo', 'progrsamaçãço', 'progrsamaçãoa', 'progrsamaçãob', 'progrsamaçãoc', 'progrsamaçãoe', 'progrsamaçãod', 'progrsamaçãof', 'progrsamaçãog', 'progrsamaçãoh', 'progrsamaçãoi', 'progrsamaçãoj', 'progrsamaçãok', 'progrsamaçãol', 'progrsamaçãom', 'progrsamaçãon', 'progrsamaçãoo', 'progrsamaçãop', 'progrsamaçãoq', 'progrsamaçãor', 'progrsamaçãos', 'progrsamaçãot', 'progrsamaçãou', 'progrsamaçãov', 'progrsamaçãow', 'progrsamaçãox', 'progrsamaçãoy', 'progrsamaçãoz', 'progrsamaçãoá', 'progrsamaçãoâ', 'progrsamaçãoà', 'progrsamaçãoã', 'progrsamaçãoé', 'progrsamaçãoê', 'progrsamaçãoè', 'progrsamaçãoí', 'progrsamaçãoî', 'progrsamaçãoì', 'progrsamaçãoó', 'progrsamaçãoô', 'progrsamaçãoò', 'progrsamaçãoõ', 'progrsamaçãoú', 'progrsamaçãoû', 'progrsamaçãoù', 'progrsamaçãoç', 'rogrsamação', 'pogrsamação', 'prgrsamação', 'prorsamação', 'progsamação', 'programação', 'progrsmação', 'progrsaação', 'progrsamção', 'progrsamaão', 'progrsamaço', 'progrsamaçã', 'progrsamação', 'arogrsamação', 'brogrsamação', 'crogrsamação', 'erogrsamação', 'drogrsamação', 'frogrsamação', 'grogrsamação', 'hrogrsamação', 'irogrsamação', 'jrogrsamação', 'krogrsamação', 'lrogrsamação', 'mrogrsamação', 'nrogrsamação', 'orogrsamação', 'progrsamação', 'qrogrsamação', 'rrogrsamação', 'srogrsamação', 'trogrsamação', 'urogrsamação', 'vrogrsamação', 'wrogrsamação', 'xrogrsamação', 'yrogrsamação', 'zrogrsamação', 'árogrsamação', 'ârogrsamação', 'àrogrsamação', 'ãrogrsamação', 'érogrsamação', 'êrogrsamação', 'èrogrsamação', 'írogrsamação', 'îrogrsamação', 'ìrogrsamação', 'órogrsamação', 'ôrogrsamação', 'òrogrsamação', 'õrogrsamação', 'úrogrsamação', 'ûrogrsamação', 'ùrogrsamação', 'çrogrsamação', 'paogrsamação', 'pbogrsamação', 'pcogrsamação', 'peogrsamação', 'pdogrsamação', 'pfogrsamação', 'pgogrsamação', 'phogrsamação', 'piogrsamação', 'pjogrsamação', 'pkogrsamação', 'plogrsamação', 'pmogrsamação', 'pnogrsamação', 'poogrsamação', 'ppogrsamação', 'pqogrsamação', 'progrsamação', 'psogrsamação', 'ptogrsamação', 'puogrsamação', 'pvogrsamação', 'pwogrsamação', 'pxogrsamação', 'pyogrsamação', 'pzogrsamação', 'páogrsamação', 'pâogrsamação', 'pàogrsamação', 'pãogrsamação', 'péogrsamação', 'pêogrsamação', 'pèogrsamação', 'píogrsamação', 'pîogrsamação', 'pìogrsamação', 'póogrsamação', 'pôogrsamação', 'pòogrsamação', 'põogrsamação', 'púogrsamação', 'pûogrsamação', 'pùogrsamação', 'pçogrsamação', 'pragrsamação', 'prbgrsamação', 'prcgrsamação', 'pregrsamação', 'prdgrsamação', 'prfgrsamação', 'prggrsamação', 'prhgrsamação', 'prigrsamação', 'prjgrsamação', 'prkgrsamação', 'prlgrsamação', 'prmgrsamação', 'prngrsamação', 'progrsamação', 'prpgrsamação', 'prqgrsamação', 'prrgrsamação', 'prsgrsamação', 'prtgrsamação', 'prugrsamação', 'prvgrsamação', 'prwgrsamação', 'prxgrsamação', 'prygrsamação', 'przgrsamação', 'prágrsamação', 'prâgrsamação', 'pràgrsamação', 'prãgrsamação', 'prégrsamação', 'prêgrsamação', 'prègrsamação', 'prígrsamação', 'prîgrsamação', 'prìgrsamação', 'prógrsamação', 'prôgrsamação', 'prògrsamação', 'prõgrsamação', 'prúgrsamação', 'prûgrsamação', 'prùgrsamação', 'prçgrsamação', 'proarsamação', 'probrsamação', 'procrsamação', 'proersamação', 'prodrsamação', 'profrsamação', 'progrsamação', 'prohrsamação', 'proirsamação', 'projrsamação', 'prokrsamação', 'prolrsamação', 'promrsamação', 'pronrsamação', 'proorsamação', 'proprsamação', 'proqrsamação', 'prorrsamação', 'prosrsamação', 'protrsamação', 'proursamação', 'provrsamação', 'prowrsamação', 'proxrsamação', 'proyrsamação', 'prozrsamação', 'proársamação', 'proârsamação', 'proàrsamação', 'proãrsamação', 'proérsamação', 'proêrsamação', 'proèrsamação', 'proírsamação', 'proîrsamação', 'proìrsamação', 'proórsamação', 'proôrsamação', 'proòrsamação', 'proõrsamação', 'proúrsamação', 'proûrsamação', 'proùrsamação', 'proçrsamação', 'progasamação', 'progbsamação', 'progcsamação', 'progesamação', 'progdsamação', 'progfsamação', 'proggsamação', 'proghsamação', 'progisamação', 'progjsamação', 'progksamação', 'proglsamação', 'progmsamação', 'prognsamação', 'progosamação', 'progpsamação', 'progqsamação', 'progrsamação', 'progssamação', 'progtsamação', 'progusamação', 'progvsamação', 'progwsamação', 'progxsamação', 'progysamação', 'progzsamação', 'progásamação', 'progâsamação', 'progàsamação', 'progãsamação', 'progésamação', 'progêsamação', 'progèsamação', 'progísamação', 'progîsamação', 'progìsamação', 'progósamação', 'progôsamação', 'progòsamação', 'progõsamação', 'progúsamação', 'progûsamação', 'progùsamação', 'progçsamação', 'prograamação', 'progrbamação', 'progrcamação', 'progreamação', 'progrdamação', 'progrfamação', 'progrgamação', 'progrhamação', 'progriamação', 'progrjamação', 'progrkamação', 'progrlamação', 'progrmamação', 'progrnamação', 'progroamação', 'progrpamação', 'progrqamação', 'progrramação', 'progrsamação', 'progrtamação', 'progruamação', 'progrvamação', 'progrwamação', 'progrxamação', 'progryamação', 'progrzamação', 'prográamação', 'progrâamação', 'progràamação', 'progrãamação', 'progréamação', 'progrêamação', 'progrèamação', 'progríamação', 'progrîamação', 'progrìamação', 'progróamação', 'progrôamação', 'progròamação', 'progrõamação', 'progrúamação', 'progrûamação', 'progrùamação', 'progrçamação', 'progrsamação', 'progrsbmação', 'progrscmação', 'progrsemação', 'progrsdmação', 'progrsfmação', 'progrsgmação', 'progrshmação', 'progrsimação', 'progrsjmação', 'progrskmação', 'progrslmação', 'progrsmmação', 'progrsnmação', 'progrsomação', 'progrspmação', 'progrsqmação', 'progrsrmação', 'progrssmação', 'progrstmação', 'progrsumação', 'progrsvmação', 'progrswmação', 'progrsxmação', 'progrsymação', 'progrszmação', 'progrsámação', 'progrsâmação', 'progrsàmação', 'progrsãmação', 'progrsémação', 'progrsêmação', 'progrsèmação', 'progrsímação', 'progrsîmação', 'progrsìmação', 'progrsómação', 'progrsômação', 'progrsòmação', 'progrsõmação', 'progrsúmação', 'progrsûmação', 'progrsùmação', 'progrsçmação', 'progrsaaação', 'progrsabação', 'progrsacação', 'progrsaeação', 'progrsadação', 'progrsafação', 'progrsagação', 'progrsahação', 'progrsaiação', 'progrsajação', 'progrsakação', 'progrsalação', 'progrsamação', 'progrsanação', 'progrsaoação', 'progrsapação', 'progrsaqação', 'progrsaração', 'progrsasação', 'progrsatação', 'progrsauação', 'progrsavação', 'progrsawação', 'progrsaxação', 'progrsayação', 'progrsazação', 'progrsaáação', 'progrsaâação', 'progrsaàação', 'progrsaãação', 'progrsaéação', 'progrsaêação', 'progrsaèação', 'progrsaíação', 'progrsaîação', 'progrsaìação', 'progrsaóação', 'progrsaôação', 'progrsaòação', 'progrsaõação', 'progrsaúação', 'progrsaûação', 'progrsaùação', 'progrsaçação', 'progrsamação', 'progrsambção', 'progrsamcção', 'progrsameção', 'progrsamdção', 'progrsamfção', 'progrsamgção', 'progrsamhção', 'progrsamição', 'progrsamjção', 'progrsamkção', 'progrsamlção', 'progrsammção', 'progrsamnção', 'progrsamoção', 'progrsampção', 'progrsamqção', 'progrsamrção', 'progrsamsção', 'progrsamtção', 'progrsamução', 'progrsamvção', 'progrsamwção', 'progrsamxção', 'progrsamyção', 'progrsamzção', 'progrsamáção', 'progrsamâção', 'progrsamàção', 'progrsamãção', 'progrsaméção', 'progrsamêção', 'progrsamèção', 'progrsamíção', 'progrsamîção', 'progrsamìção', 'progrsamóção', 'progrsamôção', 'progrsamòção', 'progrsamõção', 'progrsamúção', 'progrsamûção', 'progrsamùção', 'progrsamçção', 'progrsamaaão', 'progrsamabão', 'progrsamacão', 'progrsamaeão', 'progrsamadão', 'progrsamafão', 'progrsamagão', 'progrsamahão', 'progrsamaião', 'progrsamajão', 'progrsamakão', 'progrsamalão', 'progrsamamão', 'progrsamanão', 'progrsamaoão', 'progrsamapão', 'progrsamaqão', 'progrsamarão', 'progrsamasão', 'progrsamatão', 'progrsamauão', 'progrsamavão', 'progrsamawão', 'progrsamaxão', 'progrsamayão', 'progrsamazão', 'progrsamaáão', 'progrsamaâão', 'progrsamaàão', 'progrsamaãão', 'progrsamaéão', 'progrsamaêão', 'progrsamaèão', 'progrsamaíão', 'progrsamaîão', 'progrsamaìão', 'progrsamaóão', 'progrsamaôão', 'progrsamaòão', 'progrsamaõão', 'progrsamaúão', 'progrsamaûão', 'progrsamaùão', 'progrsamação', 'progrsamaçao', 'progrsamaçbo', 'progrsamaçco', 'progrsamaçeo', 'progrsamaçdo', 'progrsamaçfo', 'progrsamaçgo', 'progrsamaçho', 'progrsamaçio', 'progrsamaçjo', 'progrsamaçko', 'progrsamaçlo', 'progrsamaçmo', 'progrsamaçno', 'progrsamaçoo', 'progrsamaçpo', 'progrsamaçqo', 'progrsamaçro', 'progrsamaçso', 'progrsamaçto', 'progrsamaçuo', 'progrsamaçvo', 'progrsamaçwo', 'progrsamaçxo', 'progrsamaçyo', 'progrsamaçzo', 'progrsamaçáo', 'progrsamaçâo', 'progrsamaçào', 'progrsamação', 'progrsamaçéo', 'progrsamaçêo', 'progrsamaçèo', 'progrsamaçío', 'progrsamaçîo', 'progrsamaçìo', 'progrsamaçóo', 'progrsamaçôo', 'progrsamaçòo', 'progrsamaçõo', 'progrsamaçúo', 'progrsamaçûo', 'progrsamaçùo', 'progrsamaçço', 'progrsamaçãa', 'progrsamaçãb', 'progrsamaçãc', 'progrsamaçãe', 'progrsamaçãd', 'progrsamaçãf', 'progrsamaçãg', 'progrsamaçãh', 'progrsamaçãi', 'progrsamaçãj', 'progrsamaçãk', 'progrsamaçãl', 'progrsamaçãm', 'progrsamaçãn', 'progrsamação', 'progrsamaçãp', 'progrsamaçãq', 'progrsamaçãr', 'progrsamaçãs', 'progrsamaçãt', 'progrsamaçãu', 'progrsamaçãv', 'progrsamaçãw', 'progrsamaçãx', 'progrsamaçãy', 'progrsamaçãz', 'progrsamaçãá', 'progrsamaçãâ', 'progrsamaçãà', 'progrsamaçãã', 'progrsamaçãé', 'progrsamaçãê', 'progrsamaçãè', 'progrsamaçãí', 'progrsamaçãî', 'progrsamaçãì', 'progrsamaçãó', 'progrsamaçãô', 'progrsamaçãò', 'progrsamaçãõ', 'progrsamaçãú', 'progrsamaçãû', 'progrsamaçãù', 'progrsamaçãç', 'progrsamaçãoa', 'progrsamaçãob', 'progrsamaçãoc', 'progrsamaçãoe', 'progrsamaçãod', 'progrsamaçãof', 'progrsamaçãog', 'progrsamaçãoh', 'progrsamaçãoi', 'progrsamaçãoj', 'progrsamaçãok', 'progrsamaçãol', 'progrsamaçãom', 'progrsamaçãon', 'progrsamaçãoo', 'progrsamaçãop', 'progrsamaçãoq', 'progrsamaçãor', 'progrsamaçãos', 'progrsamaçãot', 'progrsamaçãou', 'progrsamaçãov', 'progrsamaçãow', 'progrsamaçãox', 'progrsamaçãoy', 'progrsamaçãoz', 'progrsamaçãoá', 'progrsamaçãoâ', 'progrsamaçãoà', 'progrsamaçãoã', 'progrsamaçãoé', 'progrsamaçãoê', 'progrsamaçãoè', 'progrsamaçãoí', 'progrsamaçãoî', 'progrsamaçãoì', 'progrsamaçãoó', 'progrsamaçãoô', 'progrsamaçãoò', 'progrsamaçãoõ', 'progrsamaçãoú', 'progrsamaçãoû', 'progrsamaçãoù', 'progrsamaçãoç', 'rpogrsamação', 'porgrsamação', 'prgorsamação', 'prorgsamação', 'progsramação', 'prograsmação', 'progrsmaação', 'progrsaamção', 'progrsamçaão', 'progrsamaãço', 'progrsamaçoã']\n"
     ]
    }
   ],
   "source": [
    "# Testa função.\n",
    "palavras_geradas = gera_palavras_4('progrsamação')\n",
    "\n",
    "print(\"Quantidade de palavra geradas: [\", len(palavras_geradas), \"]\", end=\"\\n\\n\")\n",
    "print(palavras_geradas)"
   ]
  },
  {
   "cell_type": "code",
   "execution_count": 59,
   "id": "c3fd29ba",
   "metadata": {},
   "outputs": [
    {
     "name": "stdout",
     "output_type": "stream",
     "text": [
      "A palavra correta é [ programação ]\n",
      "Ela está dentro da lista na posição [ 577 ]\n"
     ]
    }
   ],
   "source": [
    "# Mostra a palavra correta que está dentro da lista de possíveis palavra.\n",
    "for palavra in palavras_geradas:\n",
    "\n",
    "    # Selecionando a palavra correta\n",
    "    if palavra == 'programação':\n",
    "\n",
    "        # Mostrando que a palavra correta está dentro dessa lista\n",
    "        print(\"A palavra correta é [\", palavra, \"]\\nEla está dentro da lista na posição [\", palavras_geradas.index(palavra), \"]\")"
   ]
  },
  {
   "cell_type": "code",
   "execution_count": 60,
   "id": "bc2da57e",
   "metadata": {},
   "outputs": [],
   "source": [
    "def corretor_palavra_4(palavra_errada):\n",
    "    \"\"\"\n",
    "    Função que recebe uma palavra errada, e retorna a palavra corrigida.\n",
    "    \"\"\"\n",
    "    # Chama a função 'gera_palavras'.\n",
    "    palavras_geradas = gera_palavras_4(palavra_errada)\n",
    "\n",
    "    # Selecionando a palavra com maior probabilidade de aparecer em nosso corpus\n",
    "    # Essa será a palavra correta\n",
    "    palavra_correta = max(palavras_geradas, key=probabilidade_palavra)\n",
    "\n",
    "    # Retornando a palavra corrigida\n",
    "    return palavra_correta"
   ]
  },
  {
   "cell_type": "markdown",
   "id": "4a0ea4c4",
   "metadata": {},
   "source": [
    "### Avaliação do corretor"
   ]
  },
  {
   "cell_type": "code",
   "execution_count": 61,
   "id": "adf78121",
   "metadata": {},
   "outputs": [
    {
     "name": "stdout",
     "output_type": "stream",
     "text": [
      "79.57% de 186 palavras\n"
     ]
    }
   ],
   "source": [
    "# Testa corretor.\n",
    "avalia_corretor(lista_teste, corretor_palavra_4)"
   ]
  },
  {
   "cell_type": "markdown",
   "id": "d09c1a14",
   "metadata": {},
   "source": [
    "## 4 - Verificando se o corretor conhece um vocabulário vindo do corpus"
   ]
  },
  {
   "cell_type": "code",
   "execution_count": 62,
   "id": "a116f27b",
   "metadata": {},
   "outputs": [],
   "source": [
    "def avaliador(testes, vocabulario):\n",
    "    \"\"\"\n",
    "    Função que recebe uma lista com as tuplas de palavras de teste para poder avaliar o nosso corretor.\n",
    "    \"\"\"\n",
    "\n",
    "    # Calculando o número de palavras da lista de teste.\n",
    "    numero_palavras = len(testes)\n",
    "\n",
    "    # Setando os contadores.\n",
    "    acertou = desconhecidas = 0\n",
    "\n",
    "    # Iterando por cada tupla dentro da lista de teste.\n",
    "    for correta, errada in testes:\n",
    "\n",
    "        # Chamando a função corretor() passando cada palavra digitada incorretamente.\n",
    "        palavra_corrigida = corretor_palavra_4(errada)\n",
    "\n",
    "        # Incrementando o contador das palavras desconhecidas.\n",
    "        desconhecidas += (correta not in vocabulario)\n",
    "        \n",
    "        # Conferindo cada palavra para ver se ele conseguiu corrigir.\n",
    "        if palavra_corrigida == correta:\n",
    "\n",
    "            # Incrementando o contador das palavras corretas.\n",
    "            acertou += 1\n",
    "    \n",
    "    # Calculando a taxa de acerto do nosso corretor.\n",
    "    taxa_acerto = round(acertou * 100 / numero_palavras, 2)\n",
    "\n",
    "    # Calculando a taxa de erro referente às palavras desconhecidas.\n",
    "    taxa_desconhecidas = round(desconhecidas * 100 / numero_palavras, 2)\n",
    "\n",
    "    # Mostrando a taxa de acerto doe nosso corretor.\n",
    "    print(f'{taxa_acerto}% de {numero_palavras} das palavras conhecidas\\n'\n",
    "          f'e {taxa_desconhecidas}% das palavras desconhecidas')"
   ]
  },
  {
   "cell_type": "code",
   "execution_count": 63,
   "id": "2ba3ddc6",
   "metadata": {},
   "outputs": [
    {
     "name": "stdout",
     "output_type": "stream",
     "text": [
      "79.57% de 186 das palavras conhecidas\n",
      "e 3.76% das palavras desconhecidas\n"
     ]
    }
   ],
   "source": [
    "# Calculando as palavras conecidas\n",
    "vocabulario = set(conteudo_tokens)\n",
    "\n",
    "# Chamando a função avaliador()\n",
    "avaliador(lista_teste, vocabulario)"
   ]
  },
  {
   "cell_type": "markdown",
   "id": "37c75612",
   "metadata": {},
   "source": [
    "Corretor Ortográfico está bom pela expectativa de informações disponíveis, acertando `79.57%` das palavras com a base de avaliação/teste, e errando `20.43%`, com isso vemos também que o corretor não conhece cerca de `3.76%` das palavras na base de teste, demonstrando que a base de notícias, não possuem algumas palavras específicas para o modelo."
   ]
  },
  {
   "cell_type": "markdown",
   "id": "262cb80e",
   "metadata": {},
   "source": [
    "## 5 - Melhor Corretor"
   ]
  },
  {
   "cell_type": "code",
   "execution_count": 13,
   "id": "0bb32a21",
   "metadata": {},
   "outputs": [
    {
     "data": {
      "text/plain": [
       "[('de', 206086),\n",
       " ('a', 146019),\n",
       " ('o', 138674),\n",
       " ('e', 121862),\n",
       " ('que', 99301),\n",
       " ('do', 90279),\n",
       " ('da', 68367),\n",
       " ('em', 64407),\n",
       " ('no', 61719),\n",
       " ('para', 55206)]"
      ]
     },
     "execution_count": 13,
     "metadata": {},
     "output_type": "execute_result"
    }
   ],
   "source": [
    "# Calculo da frequência que determinada palavra aparece dentro do corpus. Usando a função FreqDist() da biblioteca nltk. \n",
    "# Calcula a frequencia por palavra.\n",
    "frequencia = nltk.FreqDist(conteudo_tokens)\n",
    "\n",
    "# Calculando o total de palavras.\n",
    "total_palavras = len(conteudo_tokens)\n",
    "\n",
    "# Mostrando as 10 palavras mais comuns da nossa lista_normalizada\n",
    "frequencia.most_common(10)"
   ]
  },
  {
   "cell_type": "code",
   "execution_count": 14,
   "id": "e359db0a",
   "metadata": {},
   "outputs": [],
   "source": [
    "########################### Função insere_letras() ############################\n",
    "def insere_letras_faltantes(palavra_fatiada):\n",
    "    \"\"\"\n",
    "    Função para inserir letra ou letras faltantes na palavra informada.\n",
    "    Recebe uma lista de tuplas (esquerdo, direito) que corresponde aos lados\n",
    "    esquerdo e direito da palavra fatiada em dois.\n",
    "    \"\"\"\n",
    "\n",
    "    # Lista vazia para armazenar as palavras corrigidas.\n",
    "    novas_palavras = []\n",
    "\n",
    "    # Todas as letras do alfabeto e as vogais acentuadas.\n",
    "    letras = 'abcedfghijklmnopqrstuvwxyzáâàãéêèíîìóôòõúûùç'\n",
    "\n",
    "    # Iterando por todas as tuplas da lista recebida\n",
    "    for esquerdo, direito in palavra_fatiada:\n",
    "        \n",
    "        # Iterando por toda letra das variável letras\n",
    "        for letra in letras:\n",
    "\n",
    "            # Acrescentando todas as possibilidades de palavras possíveis\n",
    "            novas_palavras.append(esquerdo + letra + direito)\n",
    "    \n",
    "    # Retornando uma lista de possíveis palavras\n",
    "    return novas_palavras\n",
    "\n",
    "######################## Função deletando_caracter() ##########################\n",
    "def deleta_caracter(fatias):\n",
    "    \"\"\"\n",
    "    Função para deletar um caracter depois que recebe as fatias.\n",
    "    \"\"\"\n",
    "\n",
    "    # Criando uma lista vazia para armazenar as palavras corrigidas.\n",
    "    novas_palavras = []\n",
    "\n",
    "    # Iterando por todas as tuplas da lista recebida.\n",
    "    for esquerdo, direito in fatias:\n",
    "\n",
    "        # Acrescentando todas as possibilidades de palavras possíveis.\n",
    "        novas_palavras.append(esquerdo + direito[1:])\n",
    "    \n",
    "    # Retornando uma lista de possíveis palavras.\n",
    "    return novas_palavras\n",
    "\n",
    "######################## Função trocando_caracter() ###########################\n",
    "def troca_caracter(fatias):\n",
    "    \"\"\"\n",
    "    Função que recebe uma lista de tuplas (esquerdo, direito) que corresponde aos lados esquerdo e direito \n",
    "    da palavra fatiada em dois.\n",
    "    \"\"\"\n",
    "\n",
    "    # Criando uma lista vazia para armazenar as palavras corrigidas.\n",
    "    novas_palavras = []\n",
    "\n",
    "    # Todas as letras do alfabeto e as vogais acentuadas.\n",
    "    letras = 'abcedfghijklmnopqrstuvwxyzáâàãéêèíîìóôòõúûùç'\n",
    "\n",
    "    # Iterando por todas as tuplas da lista recebida.\n",
    "    for esquerdo, direito in fatias:\n",
    "\n",
    "        # Iterando por toda letra das variável letras.\n",
    "        for letra in letras:\n",
    "\n",
    "            # Acrescentando todas as possibilidades de palavras possíveis.\n",
    "            novas_palavras.append(esquerdo + letra + direito[1:])\n",
    "    \n",
    "    # Retornando uma lista de possíveis palavras.\n",
    "    return novas_palavras\n",
    "\n",
    "####################### Função invertendo_caracter() ##########################\n",
    "def inverte_caracter(fatias):\n",
    "    \"\"\"\n",
    "    Função que recebe as fatias e inverte os caracteres.\n",
    "    \"\"\"\n",
    "\n",
    "    # Criando uma lista vazia para armazenar as palavras corrigidas.\n",
    "    novas_palavras = []\n",
    "\n",
    "    # Iterando por todas as tuplas da lista recebida.\n",
    "    for esquerdo, direito in fatias:\n",
    "        \n",
    "        # Selecionando apenas as fatias da direita que têm mais de uma letra, pois, se não, não há o que inverter.\n",
    "        if len(direito) > 1:\n",
    "            \n",
    "            # Acrescentando todas as possibilidades de palavras possíveis.\n",
    "            novas_palavras.append(esquerdo + direito[1] + direito[0] + direito[2:])\n",
    "    \n",
    "    # Retornando uma lista de possíveis palavras.\n",
    "    return novas_palavras\n",
    "\n",
    "######################### Função gerador_palavras() ###########################\n",
    "# Refatorando outra vez a função gerador_palavras()\n",
    "def gera_palavras(palavra):\n",
    "    \"\"\"\n",
    "    Função para gerar possíveis palavras de acordo com a palavra passada e fatiada pela lógica.\n",
    "    \"\"\"\n",
    "\n",
    "    # Lista vazia para armazenar as duas fatias de cada palavra.\n",
    "    fatias = []\n",
    "\n",
    "    # Iterando por cada letra de cada palavra.\n",
    "    for i in range(len(palavra) + 1):\n",
    "\n",
    "        # Armazenando as duas fatias em uma tupla e essa tupla em uma lista.\n",
    "        fatias.append((palavra[:i], palavra[i:]))\n",
    "\n",
    "    # Chamando a função 'insere_letras_faltantes' com a lista de tuplas das fatias recém-criadas.\n",
    "    palavras_geradas = insere_letras_faltantes(fatias)\n",
    "\n",
    "    # Acrescentando mais uma função, aqui que o novo corretor começa.\n",
    "    palavras_geradas += deleta_caracter(fatias)\n",
    "\n",
    "    # Acrescentando mais uma função, aqui que o novo corretor começa.\n",
    "    palavras_geradas += troca_caracter(fatias)\n",
    "\n",
    "    # Acrescentando mais uma função, aqui que o novo corretor começa.\n",
    "    palavras_geradas += inverte_caracter(fatias)\n",
    "\n",
    "    # Retornando a lista de possíveis palavras. A palavra correta estará aí no meio\n",
    "    return palavras_geradas\n",
    "\n",
    "############################# Função probabilidade_palavra ###############################\n",
    "def probabilidade_palavra(palavra_gerada):\n",
    "    \"\"\"\n",
    "    Função para calcular a probabilidade de determinada palavra aparecer em nosso corpus.\n",
    "    \"\"\"\n",
    "    # Retorna a probabilidade de determinada palavra aparecer no nosso corpus\n",
    "    return frequencia[palavra_gerada] / total_palavras\n",
    "\n",
    "############################# Função corretor_ortografico ###############################\n",
    "def corretor_ortografico(palavra_errada):\n",
    "    \"\"\"\n",
    "    Função que recebe uma palavra errada, e retorna a palavra corrigida.\n",
    "    \"\"\"\n",
    "    # Chama a função 'gera_palavras'.\n",
    "    palavras_geradas = gera_palavras(palavra_errada)\n",
    "\n",
    "    # Selecionando a palavra com maior probabilidade de aparecer em nosso corpus\n",
    "    # Essa será a palavra correta\n",
    "    palavra_correta = max(palavras_geradas, key=probabilidade_palavra)\n",
    "\n",
    "    # Retornando a palavra corrigida\n",
    "    return palavra_correta\n",
    "\n",
    "############################# Função avaliador() ###############################\n",
    "def avaliador(testes, vocabulario):\n",
    "    \"\"\"\n",
    "    Função que recebe uma lista com as tuplas de palavras de teste para poder avaliar o nosso corretor.\n",
    "    \"\"\"\n",
    "\n",
    "    # Calculando o número de palavras da lista de teste.\n",
    "    numero_palavras = len(testes)\n",
    "\n",
    "    # Setando os contadores.\n",
    "    acertou = desconhecidas = 0\n",
    "\n",
    "    # Iterando por cada tupla dentro da lista de teste.\n",
    "    for correta, errada in testes:\n",
    "\n",
    "        # Chamando a função corretor() passando cada palavra digitada incorretamente.\n",
    "        palavra_corrigida = corretor_ortografico(errada)\n",
    "\n",
    "        # Incrementando o contador das palavras desconhecidas.\n",
    "        desconhecidas += (correta not in vocabulario)\n",
    "        \n",
    "        # Conferindo cada palavra para ver se ele conseguiu corrigir.\n",
    "        if palavra_corrigida == correta:\n",
    "\n",
    "            # Incrementando o contador das palavras corretas.\n",
    "            acertou += 1\n",
    "    \n",
    "    # Calculando a taxa de acerto do nosso corretor.\n",
    "    taxa_acerto = round(acertou * 100 / numero_palavras, 2)\n",
    "\n",
    "    # Calculando a taxa de erro referente às palavras desconhecidas.\n",
    "    taxa_desconhecidas = round(desconhecidas * 100 / numero_palavras, 2)\n",
    "\n",
    "    # Mostrando a taxa de acerto doe nosso corretor.\n",
    "    print(f'{taxa_acerto}% de {numero_palavras} das palavras conhecidas\\n'\n",
    "          f'e {taxa_desconhecidas}% das palavras desconhecidas')"
   ]
  },
  {
   "cell_type": "code",
   "execution_count": 65,
   "id": "d1f78c1b",
   "metadata": {},
   "outputs": [
    {
     "name": "stdout",
     "output_type": "stream",
     "text": [
      "79.57% de 186 das palavras conhecidas\n",
      "e 3.76% das palavras desconhecidas\n"
     ]
    }
   ],
   "source": [
    "# Calculando as palavras conecidas\n",
    "vocabulario = set(conteudo_tokens)\n",
    "\n",
    "# Chamando a função avaliador()\n",
    "avaliador(lista_teste, vocabulario)"
   ]
  },
  {
   "cell_type": "markdown",
   "id": "cf2458b6",
   "metadata": {},
   "source": [
    "## 6 - Teste do corretor"
   ]
  },
  {
   "cell_type": "code",
   "execution_count": 15,
   "id": "2aea446e",
   "metadata": {},
   "outputs": [
    {
     "name": "stdout",
     "output_type": "stream",
     "text": [
      "Entrada =================> natrual\n",
      "Resposta do corretor ====> natural\n"
     ]
    }
   ],
   "source": [
    "# Digite aqui a sua palavra incorreta\n",
    "teste = 'natrual'\n",
    "\n",
    "# Mostrando as respostas dos dois corretores\n",
    "print(f'Entrada =================> {teste}\\nResposta do corretor ====> {corretor_ortografico(teste)}')\n",
    "     "
   ]
  },
  {
   "cell_type": "code",
   "execution_count": 16,
   "id": "9454187a",
   "metadata": {
    "scrolled": true
   },
   "outputs": [
    {
     "name": "stdout",
     "output_type": "stream",
     "text": [
      "Entrada =================> começande\n",
      "Resposta do corretor ====> começando\n"
     ]
    }
   ],
   "source": [
    "# Digite aqui a sua palavra incorreta\n",
    "teste = 'começande'\n",
    "\n",
    "# Mostrando as respostas dos dois corretores\n",
    "print(f'Entrada =================> {teste}\\nResposta do corretor ====> {corretor_ortografico(teste)}')"
   ]
  },
  {
   "cell_type": "code",
   "execution_count": 17,
   "id": "e985d012",
   "metadata": {},
   "outputs": [
    {
     "name": "stdout",
     "output_type": "stream",
     "text": [
      "Entrada =================> avaliacão\n",
      "Resposta do corretor ====> avaliação\n"
     ]
    }
   ],
   "source": [
    "# Digite aqui a sua palavra incorreta\n",
    "teste = 'avaliacão'\n",
    "\n",
    "# Mostrando as respostas dos dois corretores\n",
    "print(f'Entrada =================> {teste}\\nResposta do corretor ====> {corretor_ortografico(teste)}')"
   ]
  },
  {
   "cell_type": "markdown",
   "id": "28afd16b",
   "metadata": {},
   "source": [
    "## 7 - Modelo com a lib TextBlob"
   ]
  },
  {
   "cell_type": "markdown",
   "id": "cf39c31c",
   "metadata": {},
   "source": [
    "### 7.1 - Corretor de palavra em inglês"
   ]
  },
  {
   "cell_type": "code",
   "execution_count": 69,
   "id": "0747860b",
   "metadata": {},
   "outputs": [
    {
     "name": "stdout",
     "output_type": "stream",
     "text": [
      "[('apple', 1.0)]\n"
     ]
    }
   ],
   "source": [
    "word = Word('appple')\n",
    "\n",
    "result = word.spellcheck()\n",
    "\n",
    "print(result)"
   ]
  },
  {
   "cell_type": "code",
   "execution_count": 70,
   "id": "324751be",
   "metadata": {},
   "outputs": [
    {
     "name": "stdout",
     "output_type": "stream",
     "text": [
      "[('pythonn', 0.0)]\n"
     ]
    }
   ],
   "source": [
    "word = Word('pythonn')\n",
    "\n",
    "result = word.spellcheck()\n",
    "\n",
    "print(result)"
   ]
  },
  {
   "cell_type": "markdown",
   "id": "e14f34bb",
   "metadata": {},
   "source": [
    "### 7.2 - Corretor de frase ou texto em inglês"
   ]
  },
  {
   "cell_type": "code",
   "execution_count": 71,
   "id": "e51687e0",
   "metadata": {},
   "outputs": [
    {
     "name": "stdout",
     "output_type": "stream",
     "text": [
      "A sentence to check!\n"
     ]
    }
   ],
   "source": [
    "sentence = TextBlob('A sentencee to checkk!')\n",
    "\n",
    "result = sentence.correct()\n",
    "\n",
    "print(result)"
   ]
  },
  {
   "cell_type": "markdown",
   "id": "f91a32d2",
   "metadata": {},
   "source": [
    "## 8 - Modelo pré-treinado com método `transforms` disponível no HuggingFaces"
   ]
  },
  {
   "cell_type": "code",
   "execution_count": 72,
   "id": "4b8a9c72",
   "metadata": {},
   "outputs": [],
   "source": [
    "from transformers import AutoTokenizer, AutoModelForSeq2SeqLM"
   ]
  },
  {
   "cell_type": "code",
   "execution_count": 3,
   "id": "1ffa8f41",
   "metadata": {},
   "outputs": [
    {
     "name": "stderr",
     "output_type": "stream",
     "text": [
      "Downloading: 100%|██████████| 1.74k/1.74k [00:00<00:00, 349kB/s]\n",
      "C:\\Users\\Usuario\\anaconda3\\envs\\iesb_tcc\\lib\\site-packages\\huggingface_hub\\file_download.py:127: UserWarning: `huggingface_hub` cache-system uses symlinks by default to efficiently store duplicated files but your machine does not support them in C:\\Users\\Usuario\\.cache\\huggingface\\hub. Caching files will still work but in a degraded version that might require more space on your disk. This warning can be disabled by setting the `HF_HUB_DISABLE_SYMLINKS_WARNING` environment variable. For more details, see https://huggingface.co/docs/huggingface_hub/how-to-cache#limitations.\n",
      "To support symlinks on Windows, you either need to activate Developer Mode or to run Python as an administrator. In order to see activate developer mode, see this article: https://docs.microsoft.com/en-us/windows/apps/get-started/enable-your-device-for-development\n",
      "  warnings.warn(message)\n",
      "Downloading: 100%|██████████| 558M/558M [02:47<00:00, 3.33MB/s]  \n"
     ]
    }
   ],
   "source": [
    "# tokenizer = AutoTokenizer.from_pretrained(\"oliverguhr/spelling-correction-english-base\")\n",
    "\n",
    "# model = AutoModelForSeq2SeqLM.from_pretrained(\"oliverguhr/spelling-correction-english-base\")"
   ]
  },
  {
   "cell_type": "code",
   "execution_count": 74,
   "id": "38451e48",
   "metadata": {},
   "outputs": [],
   "source": [
    "from transformers import pipeline"
   ]
  },
  {
   "cell_type": "code",
   "execution_count": 75,
   "id": "16ba2c0d",
   "metadata": {},
   "outputs": [
    {
     "name": "stdout",
     "output_type": "stream",
     "text": [
      "[{'generated_text': \"Let's do a comparison.\"}]\n"
     ]
    }
   ],
   "source": [
    "fix_spelling = pipeline(\"text2text-generation\",model=\"oliverguhr/spelling-correction-english-base\")\n",
    "\n",
    "print(fix_spelling(\"lets do a comparsion\",max_length=2048))"
   ]
  },
  {
   "cell_type": "code",
   "execution_count": 76,
   "id": "b877c744",
   "metadata": {
    "scrolled": true
   },
   "outputs": [
    {
     "name": "stdout",
     "output_type": "stream",
     "text": [
      "[{'generated_text': 'The shop is closed due to Covid 19.'}]\n"
     ]
    }
   ],
   "source": [
    "print(fix_spelling('ze shop is cloed due to covid 19',max_length=2048))"
   ]
  },
  {
   "cell_type": "code",
   "execution_count": 77,
   "id": "a227ec4e",
   "metadata": {},
   "outputs": [
    {
     "name": "stdout",
     "output_type": "stream",
     "text": [
      "[{'generated_text': 'Closed.'}]\n"
     ]
    }
   ],
   "source": [
    "print(fix_spelling('cloed',max_length=2048))"
   ]
  }
 ],
 "metadata": {
  "kernelspec": {
   "display_name": "Python 3 (ipykernel)",
   "language": "python",
   "name": "python3"
  },
  "language_info": {
   "codemirror_mode": {
    "name": "ipython",
    "version": 3
   },
   "file_extension": ".py",
   "mimetype": "text/x-python",
   "name": "python",
   "nbconvert_exporter": "python",
   "pygments_lexer": "ipython3",
   "version": "3.10.6"
  }
 },
 "nbformat": 4,
 "nbformat_minor": 5
}
